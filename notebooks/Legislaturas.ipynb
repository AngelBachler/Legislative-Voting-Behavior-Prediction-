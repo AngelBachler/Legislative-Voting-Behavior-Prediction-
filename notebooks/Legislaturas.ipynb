{
 "cells": [
  {
   "cell_type": "code",
   "execution_count": 2,
   "id": "ceeed6e4",
   "metadata": {},
   "outputs": [],
   "source": [
    "from utils import safe_serialize, listar_ops\n",
    "import pandas as pd"
   ]
  },
  {
   "cell_type": "code",
   "execution_count": null,
   "id": "1506b711",
   "metadata": {},
   "outputs": [],
   "source": [
    "# Si es notebook, mejor usar:\n",
    "BASE_DIR = Path.cwd()\n",
    "\n",
    "# Ir un nivel arriba (de notebooks → raíz del repo)\n",
    "ROOT = BASE_DIR.parent\n",
    "\n",
    "# Carpeta data dentro del repo\n",
    "DATA_DIR = ROOT / \"data\"\n",
    "DATA_DIR.mkdir(exist_ok=True)"
   ]
  },
  {
   "cell_type": "code",
   "execution_count": null,
   "id": "b323a842",
   "metadata": {},
   "outputs": [],
   "source": [
    "listar_ops(\"https://opendata.camara.cl/camaradiputados/WServices/WSLegislativo.asmx?WSDL\")"
   ]
  },
  {
   "cell_type": "code",
   "execution_count": null,
   "id": "06b4f5d1",
   "metadata": {},
   "outputs": [],
   "source": [
    "c = Client(\"https://opendata.camara.cl/camaradiputados/WServices/WSLegislativo.asmx?WSDL\")\n",
    "res = c.service.retornarPeriodosLegislativos()\n",
    "print(res)"
   ]
  },
  {
   "cell_type": "code",
   "execution_count": null,
   "id": "aefd1c11",
   "metadata": {},
   "outputs": [],
   "source": [
    "d = safe_serialize(res) or {}\n",
    "df = pd.json_normalize(d, sep=\".\")\n",
    "df"
   ]
  },
  {
   "cell_type": "code",
   "execution_count": null,
   "id": "fffe447e",
   "metadata": {},
   "outputs": [],
   "source": [
    "df_explode = df.explode(\"Legislaturas.Legislatura\").reset_index(drop=True)\n",
    "df_legislaturas = json_normalize(df_explode[\"Legislaturas.Legislatura\"])\n",
    "df_legislaturas.head(5)"
   ]
  },
  {
   "cell_type": "code",
   "execution_count": null,
   "id": "f8d60f85",
   "metadata": {},
   "outputs": [],
   "source": [
    "df_legislaturas.rename(columns={\n",
    "    \"Id\" : \"Legislatura.Id\",\n",
    "    \"FechaInicio\" : \"Legislatura.FechaInicio\",\n",
    "    \"FechaTermino\" : \"Legislatura.FechaTermino\"\n",
    "}, inplace=True)\n",
    "\n",
    "df_legislaturas.head(5)"
   ]
  },
  {
   "cell_type": "code",
   "execution_count": null,
   "id": "11ce13b0",
   "metadata": {},
   "outputs": [],
   "source": [
    "df_legislaturas = pd.concat([df_explode, df_legislaturas], axis=1)\n",
    "df_legislaturas.drop([\"Diputados\", \"Legislaturas.Legislatura\", \"Legislaturas\", \n",
    "                      \"FechaInicio\", \"FechaTermino\", \"Tipo.Valor\"], axis=1, inplace=True)\n",
    "df_legislaturas.rename(columns={\"Nombre\" : \"Periodo\"}, inplace=True)\n",
    "df_legislaturas.head()"
   ]
  },
  {
   "cell_type": "markdown",
   "id": "17bab1ee",
   "metadata": {},
   "source": [
    "Guardar legislaturas"
   ]
  },
  {
   "cell_type": "code",
   "execution_count": null,
   "id": "d9b144f2",
   "metadata": {},
   "outputs": [],
   "source": [
    "def sanitize(name):\n",
    "    \"\"\"Limpia nombres de carpeta/archivo.\"\"\"\n",
    "    if pd.isna(name) or str(name).strip() == \"\":\n",
    "        return \"sin_periodo\"\n",
    "    return re.sub(r\"[^\\w\\-]+\", \"_\", str(name)).strip(\"_\")\n",
    "\n",
    "for col in [\"Legislatura.FechaInicio\", \"Legislatura.FechaTermino\"]:\n",
    "    if col in df_legislaturas.columns:\n",
    "        df_legislaturas[col] = pd.to_datetime(df_legislaturas[col], errors=\"coerce\")\n",
    "\n",
    "cols = [c for c in [\n",
    "    \"Legislatura.Id\", \"Numero\",\n",
    "    \"Legislatura.FechaInicio\", \"Legislatura.FechaTermino\",\n",
    "    \"Tipo._value_1\", \"Tipo.Valor\"\n",
    "] if c in df_legislaturas.columns]\n",
    "\n",
    "# === 1) Split por periodo y guardar ===\n",
    "for periodo, sub in df_legislaturas.groupby(\"Periodo\", dropna=False):\n",
    "    carpeta = DATA_DIR / sanitize(periodo)      # p.ej. data/1990-1994\n",
    "    carpeta.mkdir(parents=True, exist_ok=True)\n",
    "\n",
    "    # ordenar por fecha y número\n",
    "    order_cols = [c for c in [\"Legislatura.FechaInicio\", \"Numero\"] if c in sub.columns]\n",
    "    sub_sorted = sub.sort_values(order_cols) if order_cols else sub\n",
    "\n",
    "    # seleccionar columnas, si no, guarda todo\n",
    "    to_save = sub_sorted[cols] if cols else sub_sorted\n",
    "\n",
    "    # guardar\n",
    "    out_path = carpeta / \"legislaturas.csv\"\n",
    "    to_save.to_csv(out_path, index=False, encoding=\"utf-8\")\n",
    "    print(f\"✓ Guardado {out_path}\")"
   ]
  },
  {
   "cell_type": "code",
   "execution_count": null,
   "id": "eb5f3a20",
   "metadata": {},
   "outputs": [],
   "source": [
    "df_periodos = (\n",
    "    df_legislaturas[[\"Id\", \"Periodo\"]]\n",
    "    .drop_duplicates()\n",
    "    .set_index(\"Id\")\n",
    ")\n",
    "df_periodos.to_csv(DATA_DIR / 'periodos.csv', index=False)"
   ]
  }
 ],
 "metadata": {
  "kernelspec": {
   "display_name": "Python 3 (ipykernel)",
   "language": "python",
   "name": "python3"
  },
  "language_info": {
   "codemirror_mode": {
    "name": "ipython",
    "version": 3
   },
   "file_extension": ".py",
   "mimetype": "text/x-python",
   "name": "python",
   "nbconvert_exporter": "python",
   "pygments_lexer": "ipython3",
   "version": "3.11.5"
  }
 },
 "nbformat": 4,
 "nbformat_minor": 5
}
