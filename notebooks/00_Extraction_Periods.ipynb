{
 "cells": [
  {
   "cell_type": "markdown",
   "id": "0cabfa9b",
   "metadata": {},
   "source": [
    "# 00: Extracción de Legislaturas y Períodos\n",
    "\n",
    "**Propósito:** Este *notebook* extrae la lista completa de **legislaturas** desde la API WSDL de la Cámara. El *output* de la API es una lista denormalizada donde cada fila es una legislatura y contiene la información del período al que pertenece.\n",
    "\n",
    "**Salidas (Artifacts):**\n",
    "1.  `data/01_raw/legislaturas_completas.csv`: Un archivo crudo (sin limpiar) con todas las legislaturas.\n",
    "2.  `data/01_raw/periodos_master.csv`: Una **lista maestra de períodos** únicos (derivada de la anterior), que servirá como *input* para los *notebooks* `01_Extraction_Deputies` y `03_Extraction_Votes`.\n",
    "3.  Archivos de detalle (`legislaturas.csv`) guardados por cada período."
   ]
  },
  {
   "cell_type": "code",
   "execution_count": 1,
   "id": "ceeed6e4",
   "metadata": {},
   "outputs": [],
   "source": [
    "import pandas as pd\n",
    "from pathlib import Path\n",
    "from zeep import Client\n",
    "import sys\n",
    "import logging\n",
    "\n",
    "# --- Configurar Logging ---\n",
    "logging.basicConfig(level=logging.INFO, format='%(asctime)s - %(levelname)s - %(message)s')\n",
    "\n",
    "# --- Importar lógica personalizada de /src ---\n",
    "sys.path.append('../') \n",
    "try:\n",
    "    # Asumimos que su función 'get_legislaturas' vive en 'src/extraction_utils.py'\n",
    "    from src.extraction_utils import get_legislaturas, sanitize_filename\n",
    "except ImportError:\n",
    "    logging.error(\"Error: No se pudieron importar las funciones desde 'src/extraction_utils.py'.\")\n",
    "    raise"
   ]
  },
  {
   "cell_type": "code",
   "execution_count": 2,
   "id": "1506b711",
   "metadata": {},
   "outputs": [
    {
     "name": "stderr",
     "output_type": "stream",
     "text": [
      "2025-10-24 23:15:55,644 - INFO - Ruta Raíz: C:\\Users\\angel\\OneDrive\\Documents\\U\\2025-2\\Proyecto de Grado\\Legislative-Voting-Behavior-Prediction-\n",
      "2025-10-24 23:15:55,647 - INFO - Directorio de Datos Raw: C:\\Users\\angel\\OneDrive\\Documents\\U\\2025-2\\Proyecto de Grado\\Legislative-Voting-Behavior-Prediction-\\data\\01_raw\n"
     ]
    }
   ],
   "source": [
    "# --- 1. Configuración de Rutas y Constantes ---\n",
    "\n",
    "WSDL_URL = \"https://opendata.camara.cl/camaradiputados/WServices/WSLegislativo.asmx?WSDL\"\n",
    "ROOT = Path.cwd().parent\n",
    "DATA_DIR_RAW = ROOT / \"data\" / \"01_raw\"\n",
    "\n",
    "DATA_DIR_RAW.mkdir(parents=True, exist_ok=True)\n",
    "\n",
    "logging.info(f\"Ruta Raíz: {ROOT}\")\n",
    "logging.info(f\"Directorio de Datos Raw: {DATA_DIR_RAW}\")"
   ]
  },
  {
   "cell_type": "markdown",
   "id": "ebc1714e",
   "metadata": {},
   "source": [
    "## 2. Extracción de Legislaturas (Datos Crudos)\n",
    "\n",
    "Se conecta a la API y se descarga la lista denormalizada de legislaturas. Este DataFrame se guarda **tal cual (crudo)** para asegurar la trazabilidad."
   ]
  },
  {
   "cell_type": "code",
   "execution_count": 3,
   "id": "b323a842",
   "metadata": {},
   "outputs": [
    {
     "name": "stderr",
     "output_type": "stream",
     "text": [
      "2025-10-24 23:15:56,101 - INFO - Cliente WSDL inicializado desde: https://opendata.camara.cl/camaradiputados/WServices/WSLegislativo.asmx?WSDL\n",
      "2025-10-24 23:15:56,838 - INFO - Se extrajeron 56 legislaturas.\n",
      "2025-10-24 23:15:56,839 - INFO - Archivo crudo guardado en: C:\\Users\\angel\\OneDrive\\Documents\\U\\2025-2\\Proyecto de Grado\\Legislative-Voting-Behavior-Prediction-\\data\\01_raw\\legislaturas_completas.csv\n"
     ]
    }
   ],
   "source": [
    "try:\n",
    "    client = Client(WSDL_URL)\n",
    "    logging.info(f\"Cliente WSDL inicializado desde: {WSDL_URL}\")\n",
    "\n",
    "    # 1. Llamar a la función de lógica\n",
    "    # df_legislaturas es un DataFrame de LEGISLATURAS (con datos de período repetidos)\n",
    "    df_legislaturas = get_legislaturas(client) \n",
    "    \n",
    "    # 2. Guardar el archivo maestro crudo (SIN LIMPIAR NOMBRES)\n",
    "    RAW_LEGISLATURAS_FILE = DATA_DIR_RAW / \"legislaturas_completas.csv\"\n",
    "    df_legislaturas.to_csv(RAW_LEGISLATURAS_FILE, index=False, encoding=\"utf-8\")\n",
    "    \n",
    "    logging.info(f\"Se extrajeron {len(df_legislaturas)} legislaturas.\")\n",
    "    logging.info(f\"Archivo crudo guardado en: {RAW_LEGISLATURAS_FILE}\")\n",
    "    \n",
    "    # display(df_legislaturas.head())\n",
    "\n",
    "except Exception as e:\n",
    "    logging.error(f\"ERROR FATAL al extraer legislaturas: {e}\")\n",
    "    raise"
   ]
  },
  {
   "cell_type": "markdown",
   "id": "181cf7a6",
   "metadata": {},
   "source": [
    "## 3. Creación de la Lista Maestra de Períodos\n",
    "\n",
    "A partir del *dataframe* de legislaturas, se extraen las columnas que definen un **Período** y se eliminan duplicados.\n",
    "\n",
    "Este `periodos_master.csv` es el archivo que consumirán los siguientes *notebooks* de extracción."
   ]
  },
  {
   "cell_type": "code",
   "execution_count": 5,
   "id": "755cf895",
   "metadata": {},
   "outputs": [
    {
     "name": "stderr",
     "output_type": "stream",
     "text": [
      "2025-10-24 23:18:19,397 - INFO - Lista maestra de 10 períodos guardada en: C:\\Users\\angel\\OneDrive\\Documents\\U\\2025-2\\Proyecto de Grado\\Legislative-Voting-Behavior-Prediction-\\data\\01_raw\\periodos_master.csv\n"
     ]
    },
    {
     "data": {
      "text/html": [
       "<div>\n",
       "<style scoped>\n",
       "    .dataframe tbody tr th:only-of-type {\n",
       "        vertical-align: middle;\n",
       "    }\n",
       "\n",
       "    .dataframe tbody tr th {\n",
       "        vertical-align: top;\n",
       "    }\n",
       "\n",
       "    .dataframe thead th {\n",
       "        text-align: right;\n",
       "    }\n",
       "</style>\n",
       "<table border=\"1\" class=\"dataframe\">\n",
       "  <thead>\n",
       "    <tr style=\"text-align: right;\">\n",
       "      <th></th>\n",
       "      <th>Id</th>\n",
       "      <th>Nombre</th>\n",
       "      <th>FechaInicio</th>\n",
       "      <th>FechaTermino</th>\n",
       "    </tr>\n",
       "  </thead>\n",
       "  <tbody>\n",
       "    <tr>\n",
       "      <th>0</th>\n",
       "      <td>7</td>\n",
       "      <td>1965-1969</td>\n",
       "      <td>1965-03-11</td>\n",
       "      <td>1969-03-11</td>\n",
       "    </tr>\n",
       "    <tr>\n",
       "      <th>1</th>\n",
       "      <td>1</td>\n",
       "      <td>1990-1994</td>\n",
       "      <td>1990-03-11</td>\n",
       "      <td>1994-03-10</td>\n",
       "    </tr>\n",
       "    <tr>\n",
       "      <th>2</th>\n",
       "      <td>2</td>\n",
       "      <td>1994-1998</td>\n",
       "      <td>1994-03-11</td>\n",
       "      <td>1998-03-10</td>\n",
       "    </tr>\n",
       "    <tr>\n",
       "      <th>3</th>\n",
       "      <td>3</td>\n",
       "      <td>1998-2002</td>\n",
       "      <td>1998-03-11</td>\n",
       "      <td>2002-03-10</td>\n",
       "    </tr>\n",
       "    <tr>\n",
       "      <th>4</th>\n",
       "      <td>4</td>\n",
       "      <td>2002-2006</td>\n",
       "      <td>2002-03-11</td>\n",
       "      <td>2006-03-10</td>\n",
       "    </tr>\n",
       "  </tbody>\n",
       "</table>\n",
       "</div>"
      ],
      "text/plain": [
       "   Id     Nombre FechaInicio FechaTermino\n",
       "0   7  1965-1969  1965-03-11   1969-03-11\n",
       "1   1  1990-1994  1990-03-11   1994-03-10\n",
       "2   2  1994-1998  1994-03-11   1998-03-10\n",
       "3   3  1998-2002  1998-03-11   2002-03-10\n",
       "4   4  2002-2006  2002-03-11   2006-03-10"
      ]
     },
     "metadata": {},
     "output_type": "display_data"
    }
   ],
   "source": [
    "# 1. Crear el DataFrame 'df_periodos' de forma inequívoca.\n",
    "# Seleccionamos las primeras 4 columnas por su POSICIÓN (iloc)\n",
    "# y las renombramos canónicamente en el acto.\n",
    "try:\n",
    "    df_periodos = pd.DataFrame({\n",
    "        \"Id\": df_legislaturas.iloc[:, 0],\n",
    "        \"Nombre\": df_legislaturas.iloc[:, 1],\n",
    "        \"FechaInicio\": df_legislaturas.iloc[:, 2],\n",
    "        \"FechaTermino\": df_legislaturas.iloc[:, 3],\n",
    "    })\n",
    "except IndexError:\n",
    "    logging.error(\"ERROR: df_legislaturas no tiene las 4 columnas esperadas en las posiciones 0-3.\")\n",
    "    raise\n",
    "\n",
    "# 2. Ahora 'df_periodos' es un DataFrame limpio y sin ambigüedades.\n",
    "# El resto de la lógica funciona perfectamente.\n",
    "df_periodos = (\n",
    "    df_periodos\n",
    "    .drop_duplicates(subset=[\"Id\"]) # Usar 'Id' (ID de Período) como clave única\n",
    "    .sort_values(by=\"FechaInicio\")\n",
    "    .reset_index(drop=True)\n",
    ")\n",
    "\n",
    "# 3. Guardar la lista maestra\n",
    "MASTER_PERIOD_FILE = DATA_DIR_RAW / \"periodos_master.csv\"\n",
    "df_periodos.to_csv(MASTER_PERIOD_FILE, index=False, encoding=\"utf-8\")\n",
    "\n",
    "logging.info(f\"Lista maestra de {len(df_periodos)} períodos guardada en: {MASTER_PERIOD_FILE}\")\n",
    "display(df_periodos.head())"
   ]
  },
  {
   "cell_type": "markdown",
   "id": "e658945d",
   "metadata": {},
   "source": [
    "## 4. Guardado de Artefactos por Período\n",
    "\n",
    "Finalmente, se itera sobre la lista de períodos únicos y se guarda un archivo `legislaturas.csv` para cada uno, facilitando la inspección de los datos."
   ]
  },
  {
   "cell_type": "code",
   "execution_count": 7,
   "id": "c30e4a47",
   "metadata": {},
   "outputs": [
    {
     "name": "stderr",
     "output_type": "stream",
     "text": [
      "2025-10-24 23:26:06,135 - INFO - Iniciando guardado de archivos de legislatura por período...\n",
      "C:\\Users\\angel\\AppData\\Local\\Temp\\ipykernel_22836\\480998651.py:40: FutureWarning: The behavior of Series.argsort in the presence of NA values is deprecated. In a future version, NA values will be ordered last instead of set to -1.\n",
      "  sorted_indices = sort_key_series.argsort()\n",
      "2025-10-24 23:26:06,183 - INFO - --- Extracción de legislaturas finalizada ---\n"
     ]
    }
   ],
   "source": [
    "logging.info(\"Iniciando guardado de archivos de legislatura por período...\")\n",
    "\n",
    "# Usar 'itertuples()'\n",
    "for row in df_periodos.itertuples():\n",
    "    \n",
    "    # 'row.Nombre' viene de 'df_periodos', que SÍ es limpio\n",
    "    periodo_nombre = row.Nombre \n",
    "    \n",
    "    try:\n",
    "        # 1. Filtramos 'df_legislaturas' usando la columna de 'Nombre'\n",
    "        #    del período, que sabemos está en la POSICIÓN 1 (iloc[:, 1]).\n",
    "        \n",
    "        # Seleccionamos la columna de nombre de período por su índice\n",
    "        columna_nombre_periodo = df_legislaturas.iloc[:, 1]\n",
    "        \n",
    "        # Filtramos el DataFrame crudo usando esta serie\n",
    "        df_legislaturas_periodo = df_legislaturas[columna_nombre_periodo == periodo_nombre].copy()\n",
    "\n",
    "        # 2. Crear carpeta de salida\n",
    "        nombre_carpeta = sanitize_filename(periodo_nombre)\n",
    "        carpeta_salida = DATA_DIR_RAW / nombre_carpeta\n",
    "        carpeta_salida.mkdir(parents=True, exist_ok=True)\n",
    "\n",
    "        # 3. Definir y guardar archivo de salida\n",
    "        ruta_salida = carpeta_salida / \"legislaturas.csv\"\n",
    "        \n",
    "        # --- INICIO DE CORRECCIÓN (ORDENAMIENTO) ---\n",
    "        # 4. Ordenar para consistencia.\n",
    "        #    Sabemos (por el CSV) que la 'FechaInicio' de la *Legislatura*\n",
    "        #    (no del período) está en la POSICIÓN 9 (índice 9).\n",
    "        #    Para ordenar por una columna ambigua, obtenemos sus valores \n",
    "        #    por .iloc, obtenemos el índice de orden (.argsort),\n",
    "        #    y re-ordenamos el DataFrame.\n",
    "        \n",
    "        try:\n",
    "            # Obtener los valores de la columna de fecha de la legislatura (índice 9)\n",
    "            sort_key_series = df_legislaturas_periodo.iloc[:, 9]\n",
    "            \n",
    "            # Obtener los índices que ordenarían esta serie\n",
    "            sorted_indices = sort_key_series.argsort()\n",
    "            \n",
    "            # Reordenar el DataFrame usando los índices\n",
    "            df_legislaturas_periodo_sorted = df_legislaturas_periodo.iloc[sorted_indices]\n",
    "            \n",
    "        except IndexError:\n",
    "            logging.warning(f\"No se pudo ordenar por la columna 9 para {periodo_nombre}. Guardando sin ordenar.\")\n",
    "            df_legislaturas_periodo_sorted = df_legislaturas_periodo\n",
    "        # --- FIN DE CORRECCIÓN (ORDENAMIENTO) ---\n",
    "        \n",
    "        # 5. Guardar\n",
    "        df_legislaturas_periodo_sorted.to_csv(ruta_salida, index=False, encoding=\"utf-8\")\n",
    "        \n",
    "    except Exception as e:\n",
    "        logging.error(f\"✗ ERROR al procesar período {periodo_nombre}: {e}\")\n",
    "\n",
    "logging.info(\"--- Extracción de legislaturas finalizada ---\")"
   ]
  },
  {
   "cell_type": "code",
   "execution_count": null,
   "id": "1b743c76",
   "metadata": {},
   "outputs": [],
   "source": []
  }
 ],
 "metadata": {
  "kernelspec": {
   "display_name": "Python 3 (ipykernel)",
   "language": "python",
   "name": "python3"
  },
  "language_info": {
   "codemirror_mode": {
    "name": "ipython",
    "version": 3
   },
   "file_extension": ".py",
   "mimetype": "text/x-python",
   "name": "python",
   "nbconvert_exporter": "python",
   "pygments_lexer": "ipython3",
   "version": "3.11.5"
  }
 },
 "nbformat": 4,
 "nbformat_minor": 5
}
