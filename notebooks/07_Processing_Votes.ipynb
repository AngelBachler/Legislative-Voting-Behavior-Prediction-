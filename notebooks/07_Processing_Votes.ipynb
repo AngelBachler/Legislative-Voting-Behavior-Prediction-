{
 "cells": [
  {
   "cell_type": "markdown",
   "id": "fcbf293b",
   "metadata": {},
   "source": [
    "# 07: Procesamiento de Votaciones\n",
    "\n",
    "**Propósito:** Este *notebook* consolida todos los archivos `detalle.csv` (crudos, por período) de `data/01_raw/` en un único archivo maestro de votaciones.\n",
    "\n",
    "**Estrategia (Manejo de Memoria):**\n",
    "Debido a que el *dataset* final de votaciones tendrá millones de filas, no podemos cargar todos los CSV a la vez.\n",
    "\n",
    "1.  **Iterar:** Se itera por cada período.\n",
    "2.  **Cargar Chunk:** Se carga un solo `detalle.csv` en memoria.\n",
    "3.  **Procesar:** Se llama a `process_votaciones_chunk` (de `src/processing_utils.py`) para limpiar, mapear y estandarizar ese *chunk*.\n",
    "4.  **Anexar (Append):** El *chunk* limpio se anexa al archivo `votaciones_master_clean.parquet` en `data/02_processed/`.\n",
    "5.  **Liberar y Repetir.**\n",
    "\n",
    "**Dependencias:**\n",
    "* `data/01_raw/periodos_master.csv`\n",
    "* `data/01_raw/[periodo]/detalle.csv` (Múltiples archivos)\n",
    "\n",
    "**Salidas (Artifacts):**\n",
    "* `data/02_processed/votaciones_master_clean.parquet` (Un único archivo grande)"
   ]
  },
  {
   "cell_type": "code",
   "execution_count": 1,
   "id": "dc48f6b2",
   "metadata": {},
   "outputs": [],
   "source": [
    "import pandas as pd\n",
    "from pathlib import Path\n",
    "import sys\n",
    "import logging\n",
    "import os # <-- Para eliminar el archivo antiguo\n",
    "from tqdm.notebook import tqdm\n",
    "import pyarrow # <-- Asegúrese de tenerlo (pip install pyarrow)\n",
    "\n",
    "# --- Configurar Logging ---\n",
    "logging.basicConfig(level=logging.INFO, format='%(asctime)s - %(levelname)s - %(message)s')\n",
    "\n",
    "# --- Importar lógica personalizada de /src ---\n",
    "sys.path.append('../') \n",
    "try:\n",
    "    from src.processing_utils import process_votaciones_chunk\n",
    "    from src.common_utils import sanitize_filename\n",
    "except ImportError as e:\n",
    "    logging.error(f\"ERROR: No se pudieron importar las funciones desde /src. {e}\")\n",
    "    raise"
   ]
  },
  {
   "cell_type": "code",
   "execution_count": 2,
   "id": "225e07f9",
   "metadata": {},
   "outputs": [
    {
     "name": "stderr",
     "output_type": "stream",
     "text": [
      "2025-10-29 12:43:54,395 - INFO - Archivo de Salida: C:\\Users\\angel\\OneDrive\\Documents\\U\\2025-2\\Proyecto de Grado\\Legislative-Voting-Behavior-Prediction-\\data\\02_processed\\votaciones_master_clean.parquet\n"
     ]
    }
   ],
   "source": [
    "# --- 1. Configuración de Rutas y Constantes ---\n",
    "ROOT = Path.cwd().parent\n",
    "DATA_DIR_RAW = ROOT / \"data\" / \"01_raw\"\n",
    "DATA_DIR_PROCESSED = ROOT / \"data\" / \"02_processed\"\n",
    "\n",
    "DATA_DIR_PROCESSED.mkdir(parents=True, exist_ok=True)\n",
    "\n",
    "# Dependencia\n",
    "MASTER_PERIOD_FILE = DATA_DIR_RAW / \"periodos_master.csv\"\n",
    "\n",
    "# Archivo de salida\n",
    "OUTPUT_FILE = DATA_DIR_PROCESSED / \"votaciones_master_clean.parquet\"\n",
    "\n",
    "logging.info(f\"Archivo de Salida: {OUTPUT_FILE}\")"
   ]
  },
  {
   "cell_type": "code",
   "execution_count": 3,
   "id": "03f16b0a",
   "metadata": {},
   "outputs": [
    {
     "name": "stderr",
     "output_type": "stream",
     "text": [
      "2025-10-29 12:43:54,413 - INFO - No existe archivo Parquet anterior. Se creará uno nuevo.\n"
     ]
    }
   ],
   "source": [
    "if OUTPUT_FILE.exists():\n",
    "    logging.warning(f\"Eliminando archivo Parquet existente: {OUTPUT_FILE}\")\n",
    "    try:\n",
    "        os.remove(OUTPUT_FILE)\n",
    "        logging.info(\"Archivo antiguo eliminado.\")\n",
    "    except Exception as e:\n",
    "        logging.error(f\"No se pudo eliminar el archivo. Verifique los permisos. Error: {e}\")\n",
    "        raise\n",
    "else:\n",
    "    logging.info(\"No existe archivo Parquet anterior. Se creará uno nuevo.\")"
   ]
  },
  {
   "cell_type": "markdown",
   "id": "f90ab0a6",
   "metadata": {
    "scrolled": true
   },
   "source": [
    "## 2. Carga de Dependencias (Períodos)\n",
    "\n",
    "Cargamos la lista maestra de períodos para saber qué carpetas iterar."
   ]
  },
  {
   "cell_type": "code",
   "execution_count": 4,
   "id": "7ca76a38-cba7-4684-b133-4a9cf58c6463",
   "metadata": {},
   "outputs": [
    {
     "name": "stderr",
     "output_type": "stream",
     "text": [
      "2025-10-29 12:43:54,444 - INFO - Se cargó la lista maestra de 10 períodos.\n"
     ]
    }
   ],
   "source": [
    "try:\n",
    "    df_periodos = pd.read_csv(MASTER_PERIOD_FILE)\n",
    "    logging.info(f\"Se cargó la lista maestra de {len(df_periodos)} períodos.\")\n",
    "except FileNotFoundError:\n",
    "    logging.error(f\"ERROR FATAL: No se encontró {MASTER_PERIOD_FILE}\")\n",
    "    raise"
   ]
  },
  {
   "cell_type": "markdown",
   "id": "63e764a9",
   "metadata": {},
   "source": [
    "## 3. Bucle Principal de Procesamiento (Chunking)\n",
    "\n",
    "Iteramos sobre cada período, cargamos su `detalle.csv`, lo procesamos en memoria y lo anexamos al archivo Parquet en el disco."
   ]
  },
  {
   "cell_type": "code",
   "execution_count": 5,
   "id": "fda9ae23",
   "metadata": {},
   "outputs": [
    {
     "name": "stderr",
     "output_type": "stream",
     "text": [
      "2025-10-29 12:43:54,457 - INFO - Iniciando procesamiento de votaciones para 10 períodos...\n"
     ]
    },
    {
     "data": {
      "application/vnd.jupyter.widget-view+json": {
       "model_id": "20c753ba450e4c89b99f702e1732d113",
       "version_major": 2,
       "version_minor": 0
      },
      "text/plain": [
       "Procesando Períodos:   0%|          | 0/10 [00:00<?, ?it/s]"
      ]
     },
     "metadata": {},
     "output_type": "display_data"
    },
    {
     "name": "stderr",
     "output_type": "stream",
     "text": [
      "2025-10-29 12:43:54,482 - WARNING - No se encontró C:\\Users\\angel\\OneDrive\\Documents\\U\\2025-2\\Proyecto de Grado\\Legislative-Voting-Behavior-Prediction-\\data\\01_raw\\1965-1969\\detalle.csv, saltando período 1965-1969.\n",
      "2025-10-29 12:43:54,483 - WARNING - No se encontró C:\\Users\\angel\\OneDrive\\Documents\\U\\2025-2\\Proyecto de Grado\\Legislative-Voting-Behavior-Prediction-\\data\\01_raw\\1990-1994\\detalle.csv, saltando período 1990-1994.\n",
      "2025-10-29 12:43:54,484 - WARNING - No se encontró C:\\Users\\angel\\OneDrive\\Documents\\U\\2025-2\\Proyecto de Grado\\Legislative-Voting-Behavior-Prediction-\\data\\01_raw\\1994-1998\\detalle.csv, saltando período 1994-1998.\n",
      "2025-10-29 12:43:54,485 - WARNING - No se encontró C:\\Users\\angel\\OneDrive\\Documents\\U\\2025-2\\Proyecto de Grado\\Legislative-Voting-Behavior-Prediction-\\data\\01_raw\\1998-2002\\detalle.csv, saltando período 1998-2002.\n",
      "2025-10-29 12:43:54,486 - INFO - --- Procesando Chunk: 2002-2006 ---\n",
      "2025-10-29 12:43:55,487 - INFO - Filtrando 'Proyectos de Ley' para 2002-2006...\n",
      "2025-10-29 12:43:55,612 - INFO - Se encontraron 167005 votaciones de 'Proyectos de Ley'.\n",
      "2025-10-29 12:43:56,092 - ERROR - ERROR FATAL al procesar período 2002-2006: a must be greater than 0 unless no samples are taken\n",
      "Traceback (most recent call last):\n",
      "  File \"C:\\Users\\angel\\AppData\\Local\\Temp\\ipykernel_5272\\7921706.py\", line 22, in <module>\n",
      "    display(df_clean.sample(10))\n",
      "            ^^^^^^^^^^^^^^^^^^^\n",
      "  File \"C:\\Users\\angel\\anaconda3\\Lib\\site-packages\\pandas\\core\\generic.py\", line 6029, in sample\n",
      "    sampled_indices = sample.sample(obj_len, size, replace, weights, rs)\n",
      "                      ^^^^^^^^^^^^^^^^^^^^^^^^^^^^^^^^^^^^^^^^^^^^^^^^^^\n",
      "  File \"C:\\Users\\angel\\anaconda3\\Lib\\site-packages\\pandas\\core\\sample.py\", line 152, in sample\n",
      "    return random_state.choice(obj_len, size=size, replace=replace, p=weights).astype(\n",
      "           ^^^^^^^^^^^^^^^^^^^^^^^^^^^^^^^^^^^^^^^^^^^^^^^^^^^^^^^^^^^^^^^^^^^\n",
      "  File \"mtrand.pyx\", line 928, in numpy.random.mtrand.RandomState.choice\n",
      "ValueError: a must be greater than 0 unless no samples are taken\n",
      "2025-10-29 12:43:56,110 - INFO - --- Procesando Chunk: 2006-2010 ---\n",
      "2025-10-29 12:43:57,426 - INFO - Filtrando 'Proyectos de Ley' para 2006-2010...\n",
      "2025-10-29 12:43:57,573 - INFO - Se encontraron 183983 votaciones de 'Proyectos de Ley'.\n",
      "2025-10-29 12:43:58,060 - ERROR - ERROR FATAL al procesar período 2006-2010: a must be greater than 0 unless no samples are taken\n",
      "Traceback (most recent call last):\n",
      "  File \"C:\\Users\\angel\\AppData\\Local\\Temp\\ipykernel_5272\\7921706.py\", line 22, in <module>\n",
      "    display(df_clean.sample(10))\n",
      "            ^^^^^^^^^^^^^^^^^^^\n",
      "  File \"C:\\Users\\angel\\anaconda3\\Lib\\site-packages\\pandas\\core\\generic.py\", line 6029, in sample\n",
      "    sampled_indices = sample.sample(obj_len, size, replace, weights, rs)\n",
      "                      ^^^^^^^^^^^^^^^^^^^^^^^^^^^^^^^^^^^^^^^^^^^^^^^^^^\n",
      "  File \"C:\\Users\\angel\\anaconda3\\Lib\\site-packages\\pandas\\core\\sample.py\", line 152, in sample\n",
      "    return random_state.choice(obj_len, size=size, replace=replace, p=weights).astype(\n",
      "           ^^^^^^^^^^^^^^^^^^^^^^^^^^^^^^^^^^^^^^^^^^^^^^^^^^^^^^^^^^^^^^^^^^^\n",
      "  File \"mtrand.pyx\", line 928, in numpy.random.mtrand.RandomState.choice\n",
      "ValueError: a must be greater than 0 unless no samples are taken\n",
      "2025-10-29 12:43:58,062 - INFO - --- Procesando Chunk: 2010-2014 ---\n",
      "2025-10-29 12:43:59,944 - INFO - Filtrando 'Proyectos de Ley' para 2010-2014...\n",
      "2025-10-29 12:44:00,186 - INFO - Se encontraron 292206 votaciones de 'Proyectos de Ley'.\n",
      "2025-10-29 12:44:00,957 - ERROR - ERROR FATAL al procesar período 2010-2014: a must be greater than 0 unless no samples are taken\n",
      "Traceback (most recent call last):\n",
      "  File \"C:\\Users\\angel\\AppData\\Local\\Temp\\ipykernel_5272\\7921706.py\", line 22, in <module>\n",
      "    display(df_clean.sample(10))\n",
      "            ^^^^^^^^^^^^^^^^^^^\n",
      "  File \"C:\\Users\\angel\\anaconda3\\Lib\\site-packages\\pandas\\core\\generic.py\", line 6029, in sample\n",
      "    sampled_indices = sample.sample(obj_len, size, replace, weights, rs)\n",
      "                      ^^^^^^^^^^^^^^^^^^^^^^^^^^^^^^^^^^^^^^^^^^^^^^^^^^\n",
      "  File \"C:\\Users\\angel\\anaconda3\\Lib\\site-packages\\pandas\\core\\sample.py\", line 152, in sample\n",
      "    return random_state.choice(obj_len, size=size, replace=replace, p=weights).astype(\n",
      "           ^^^^^^^^^^^^^^^^^^^^^^^^^^^^^^^^^^^^^^^^^^^^^^^^^^^^^^^^^^^^^^^^^^^\n",
      "  File \"mtrand.pyx\", line 928, in numpy.random.mtrand.RandomState.choice\n",
      "ValueError: a must be greater than 0 unless no samples are taken\n",
      "2025-10-29 12:44:00,960 - INFO - --- Procesando Chunk: 2014-2018 ---\n",
      "2025-10-29 12:44:03,047 - INFO - Filtrando 'Proyectos de Ley' para 2014-2018...\n",
      "2025-10-29 12:44:03,315 - INFO - Se encontraron 312521 votaciones de 'Proyectos de Ley'.\n",
      "2025-10-29 12:44:04,277 - ERROR - ERROR FATAL al procesar período 2014-2018: a must be greater than 0 unless no samples are taken\n",
      "Traceback (most recent call last):\n",
      "  File \"C:\\Users\\angel\\AppData\\Local\\Temp\\ipykernel_5272\\7921706.py\", line 22, in <module>\n",
      "    display(df_clean.sample(10))\n",
      "            ^^^^^^^^^^^^^^^^^^^\n",
      "  File \"C:\\Users\\angel\\anaconda3\\Lib\\site-packages\\pandas\\core\\generic.py\", line 6029, in sample\n",
      "    sampled_indices = sample.sample(obj_len, size, replace, weights, rs)\n",
      "                      ^^^^^^^^^^^^^^^^^^^^^^^^^^^^^^^^^^^^^^^^^^^^^^^^^^\n",
      "  File \"C:\\Users\\angel\\anaconda3\\Lib\\site-packages\\pandas\\core\\sample.py\", line 152, in sample\n",
      "    return random_state.choice(obj_len, size=size, replace=replace, p=weights).astype(\n",
      "           ^^^^^^^^^^^^^^^^^^^^^^^^^^^^^^^^^^^^^^^^^^^^^^^^^^^^^^^^^^^^^^^^^^^\n",
      "  File \"mtrand.pyx\", line 928, in numpy.random.mtrand.RandomState.choice\n",
      "ValueError: a must be greater than 0 unless no samples are taken\n",
      "2025-10-29 12:44:04,283 - INFO - --- Procesando Chunk: 2018-2022 ---\n",
      "2025-10-29 12:44:07,946 - INFO - Filtrando 'Proyectos de Ley' para 2018-2022...\n",
      "2025-10-29 12:44:08,389 - INFO - Se encontraron 466378 votaciones de 'Proyectos de Ley'.\n",
      "2025-10-29 12:44:09,965 - ERROR - ERROR FATAL al procesar período 2018-2022: a must be greater than 0 unless no samples are taken\n",
      "Traceback (most recent call last):\n",
      "  File \"C:\\Users\\angel\\AppData\\Local\\Temp\\ipykernel_5272\\7921706.py\", line 22, in <module>\n",
      "    display(df_clean.sample(10))\n",
      "            ^^^^^^^^^^^^^^^^^^^\n",
      "  File \"C:\\Users\\angel\\anaconda3\\Lib\\site-packages\\pandas\\core\\generic.py\", line 6029, in sample\n",
      "    sampled_indices = sample.sample(obj_len, size, replace, weights, rs)\n",
      "                      ^^^^^^^^^^^^^^^^^^^^^^^^^^^^^^^^^^^^^^^^^^^^^^^^^^\n",
      "  File \"C:\\Users\\angel\\anaconda3\\Lib\\site-packages\\pandas\\core\\sample.py\", line 152, in sample\n",
      "    return random_state.choice(obj_len, size=size, replace=replace, p=weights).astype(\n",
      "           ^^^^^^^^^^^^^^^^^^^^^^^^^^^^^^^^^^^^^^^^^^^^^^^^^^^^^^^^^^^^^^^^^^^\n",
      "  File \"mtrand.pyx\", line 928, in numpy.random.mtrand.RandomState.choice\n",
      "ValueError: a must be greater than 0 unless no samples are taken\n",
      "2025-10-29 12:44:09,967 - INFO - --- Procesando Chunk: 2022-2026 ---\n",
      "2025-10-29 12:44:14,074 - INFO - Filtrando 'Proyectos de Ley' para 2022-2026...\n",
      "2025-10-29 12:44:14,556 - INFO - Se encontraron 504657 votaciones de 'Proyectos de Ley'.\n",
      "2025-10-29 12:44:15,965 - ERROR - ERROR FATAL al procesar período 2022-2026: a must be greater than 0 unless no samples are taken\n",
      "Traceback (most recent call last):\n",
      "  File \"C:\\Users\\angel\\AppData\\Local\\Temp\\ipykernel_5272\\7921706.py\", line 22, in <module>\n",
      "    display(df_clean.sample(10))\n",
      "            ^^^^^^^^^^^^^^^^^^^\n",
      "  File \"C:\\Users\\angel\\anaconda3\\Lib\\site-packages\\pandas\\core\\generic.py\", line 6029, in sample\n",
      "    sampled_indices = sample.sample(obj_len, size, replace, weights, rs)\n",
      "                      ^^^^^^^^^^^^^^^^^^^^^^^^^^^^^^^^^^^^^^^^^^^^^^^^^^\n",
      "  File \"C:\\Users\\angel\\anaconda3\\Lib\\site-packages\\pandas\\core\\sample.py\", line 152, in sample\n",
      "    return random_state.choice(obj_len, size=size, replace=replace, p=weights).astype(\n",
      "           ^^^^^^^^^^^^^^^^^^^^^^^^^^^^^^^^^^^^^^^^^^^^^^^^^^^^^^^^^^^^^^^^^^^\n",
      "  File \"mtrand.pyx\", line 928, in numpy.random.mtrand.RandomState.choice\n",
      "ValueError: a must be greater than 0 unless no samples are taken\n",
      "2025-10-29 12:44:15,969 - INFO - --- Procesamiento de votaciones finalizado ---\n",
      "2025-10-29 12:44:15,970 - INFO - Total de filas (votos) procesadas: 0\n"
     ]
    }
   ],
   "source": [
    "logging.info(f\"Iniciando procesamiento de votaciones para {len(df_periodos)} períodos...\")\n",
    "total_rows_processed = 0\n",
    "\n",
    "for row in tqdm(df_periodos.itertuples(), total=len(df_periodos), desc=\"Procesando Períodos\"):\n",
    "    \n",
    "    periodo_nombre = row.Nombre\n",
    "    carpeta_periodo = DATA_DIR_RAW / sanitize_filename(periodo_nombre)\n",
    "    ruta_detalle = carpeta_periodo / \"detalle.csv\"\n",
    "    \n",
    "    if not ruta_detalle.exists():\n",
    "        logging.warning(f\"No se encontró {ruta_detalle}, saltando período {periodo_nombre}.\")\n",
    "        continue\n",
    "        \n",
    "    logging.info(f\"--- Procesando Chunk: {periodo_nombre} ---\")\n",
    "    \n",
    "    try:\n",
    "        # 1. Cargar Chunk\n",
    "        df_raw = pd.read_csv(ruta_detalle, low_memory=False)\n",
    "\n",
    "        # 2. Procesar Chunk (en memoria)\n",
    "        df_clean = process_votaciones_chunk(df_raw, periodo_nombre)\n",
    "        display(df_clean.sample(10))\n",
    "        if df_clean.empty:\n",
    "            logging.warning(f\"Chunk limpio está vacío para {periodo_nombre}. No se anexa nada.\")\n",
    "            continue\n",
    "        display(df_clean.sample(10))\n",
    "        # 3. Anexar (Append) al archivo Parquet\n",
    "        # engine='pyarrow' es OBLIGATORIO para 'append=True'\n",
    "        df_clean.to_parquet(\n",
    "            OUTPUT_FILE,\n",
    "            engine='pyarrow',\n",
    "            append=True\n",
    "        )\n",
    "        \n",
    "        total_rows_processed += len(df_clean)\n",
    "        logging.info(f\"Anexadas {len(df_clean)} filas de {periodo_nombre}.\")\n",
    "\n",
    "    except Exception as e:\n",
    "        logging.error(f\"ERROR FATAL al procesar período {periodo_nombre}: {e}\", exc_info=True)\n",
    "\n",
    "logging.info(\"--- Procesamiento de votaciones finalizado ---\")\n",
    "logging.info(f\"Total de filas (votos) procesadas: {total_rows_processed}\")"
   ]
  },
  {
   "cell_type": "code",
   "execution_count": null,
   "id": "bf8ad942",
   "metadata": {},
   "outputs": [],
   "source": []
  }
 ],
 "metadata": {
  "kernelspec": {
   "display_name": "Python 3 (ipykernel)",
   "language": "python",
   "name": "python3"
  },
  "language_info": {
   "codemirror_mode": {
    "name": "ipython",
    "version": 3
   },
   "file_extension": ".py",
   "mimetype": "text/x-python",
   "name": "python",
   "nbconvert_exporter": "python",
   "pygments_lexer": "ipython3",
   "version": "3.11.5"
  }
 },
 "nbformat": 4,
 "nbformat_minor": 5
}
