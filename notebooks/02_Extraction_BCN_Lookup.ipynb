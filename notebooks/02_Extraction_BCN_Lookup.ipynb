{
 "cells": [
  {
   "cell_type": "markdown",
   "id": "781cca2f",
   "metadata": {},
   "source": [
    "# 02: Extracción de Tabla de Consulta (Lookup) BCN\n",
    "\n",
    "**Propósito:** Este *notebook* *scrapea* el índice completo de parlamentarios (históricos y en ejercicio) de la Biblioteca del Congreso Nacional (BCN).\n",
    "\n",
    "**Dependencias:** Ninguna. Este *notebook* corre de forma independiente.\n",
    "\n",
    "**Salidas (Artifacts):**\n",
    "* `data/01_raw/bcn_url_master_lookup.csv`: Un archivo CSV único que mapea los nombres de los parlamentarios (tal como aparecen en la BCN) a sus URLs biográficas. Este archivo será el \"diccionario\" de consulta para el *notebook* `03_Extraction_Biographies`."
   ]
  },
  {
   "cell_type": "code",
   "execution_count": 1,
   "id": "115422ad",
   "metadata": {},
   "outputs": [],
   "source": [
    "import pandas as pd\n",
    "from pathlib import Path\n",
    "import sys\n",
    "import logging\n",
    "\n",
    "# --- Configurar Logging ---\n",
    "logging.basicConfig(level=logging.INFO, format='%(asctime)s - %(levelname)s - %(message)s')\n",
    "\n",
    "# --- Importar lógica personalizada de /src ---\n",
    "sys.path.append('../') \n",
    "try:\n",
    "    from src.extraction_utils import scrape_bcn_list\n",
    "except ImportError:\n",
    "    logging.error(\"Error: No se pudo importar 'scrape_bcn_list' desde 'src/extraction_utils.py'.\")\n",
    "    logging.error(\"Asegúrese de haber movido la función a ese archivo.\")\n",
    "    raise"
   ]
  },
  {
   "cell_type": "code",
   "execution_count": 2,
   "id": "c1297c11",
   "metadata": {},
   "outputs": [
    {
     "name": "stderr",
     "output_type": "stream",
     "text": [
      "2025-10-25 00:02:37,137 - INFO - Ruta Raíz: C:\\Users\\angel\\OneDrive\\Documents\\U\\2025-2\\Proyecto de Grado\\Legislative-Voting-Behavior-Prediction-\n",
      "2025-10-25 00:02:37,142 - INFO - Directorio de Datos Raw: C:\\Users\\angel\\OneDrive\\Documents\\U\\2025-2\\Proyecto de Grado\\Legislative-Voting-Behavior-Prediction-\\data\\01_raw\n",
      "2025-10-25 00:02:37,143 - INFO - Archivo de Salida: C:\\Users\\angel\\OneDrive\\Documents\\U\\2025-2\\Proyecto de Grado\\Legislative-Voting-Behavior-Prediction-\\data\\01_raw\\bcn_url_master_lookup.csv\n"
     ]
    }
   ],
   "source": [
    "# --- 1. Configuración de Rutas y Constantes ---\n",
    "ROOT = Path.cwd().parent\n",
    "DATA_DIR_RAW = ROOT / \"data\" / \"01_raw\"\n",
    "\n",
    "# Archivo de salida\n",
    "OUTPUT_FILE = DATA_DIR_RAW / \"bcn_url_master_lookup.csv\"\n",
    "\n",
    "# --- Constantes de Scraping BCN ---\n",
    "BASE_URL = \"https://www.bcn.cl/historiapolitica/resenas_parlamentarias/index.html\"\n",
    "\n",
    "# Parámetros para ex-parlamentarios (ej. 1990-2018 como en su notebook)\n",
    "PARAMS_EX = {\n",
    "    \"categ\": \"por_periodo\",\n",
    "    \"periodo\": \"1990-2018\", # (Ajuste el rango si es necesario)\n",
    "}\n",
    "\n",
    "# Parámetros para parlamentarios en ejercicio\n",
    "PARAMS_EJERCICIO = {\n",
    "    \"categ\": \"en_ejercicio\",\n",
    "    \"filtros\": \"1\",\n",
    "}\n",
    "\n",
    "HEADERS = {\n",
    "    \"User-Agent\": \"Mozilla/5.0\",\n",
    "}\n",
    "\n",
    "# Asegurarse que el directorio de datos exista\n",
    "DATA_DIR_RAW.mkdir(parents=True, exist_ok=True)\n",
    "\n",
    "logging.info(f\"Ruta Raíz: {ROOT}\")\n",
    "logging.info(f\"Directorio de Datos Raw: {DATA_DIR_RAW}\")\n",
    "logging.info(f\"Archivo de Salida: {OUTPUT_FILE}\")"
   ]
  },
  {
   "cell_type": "markdown",
   "id": "f6101018",
   "metadata": {},
   "source": [
    "## 2. Ejecución del Scraper\n",
    "\n",
    "Se llama a la función de scraping para ambas categorías (ex-parlamentarios y en ejercicio)."
   ]
  },
  {
   "cell_type": "code",
   "execution_count": 3,
   "id": "cd2ce511",
   "metadata": {},
   "outputs": [
    {
     "name": "stderr",
     "output_type": "stream",
     "text": [
      "2025-10-25 00:02:37,152 - INFO - Iniciando scraping de ex-parlamentarios...\n",
      "2025-10-25 00:02:38,080 - INFO - Scrapeada página 1 con 44 items.\n",
      "2025-10-25 00:02:39,614 - INFO - Scrapeada página 2 con 44 items.\n",
      "2025-10-25 00:02:41,007 - INFO - Scrapeada página 3 con 44 items.\n",
      "2025-10-25 00:02:42,582 - INFO - Scrapeada página 4 con 44 items.\n",
      "2025-10-25 00:02:44,099 - INFO - Scrapeada página 5 con 44 items.\n",
      "2025-10-25 00:02:45,618 - INFO - Scrapeada página 6 con 44 items.\n",
      "2025-10-25 00:02:47,099 - INFO - Scrapeada página 7 con 44 items.\n",
      "2025-10-25 00:02:48,691 - INFO - Scrapeada página 8 con 44 items.\n",
      "2025-10-25 00:02:50,062 - INFO - Scrapeada página 9 con 44 items.\n",
      "2025-10-25 00:02:51,544 - INFO - Scrapeada página 10 con 44 items.\n",
      "2025-10-25 00:02:52,926 - INFO - Scrapeada página 11 con 44 items.\n",
      "2025-10-25 00:02:54,275 - INFO - Scrapeada página 12 con 44 items.\n",
      "2025-10-25 00:02:55,628 - INFO - Scrapeada página 13 con 44 items.\n",
      "2025-10-25 00:02:57,019 - INFO - Scrapeada página 14 con 44 items.\n",
      "2025-10-25 00:02:58,373 - INFO - Scrapeada página 15 con 7 items.\n",
      "2025-10-25 00:02:59,843 - INFO - Fin del listado en página 16\n",
      "2025-10-25 00:02:59,846 - INFO - Scraping de ex-parlamentarios finalizado. 623 registros.\n",
      "2025-10-25 00:02:59,847 - INFO - Iniciando scraping de parlamentarios en ejercicio...\n",
      "2025-10-25 00:03:01,306 - INFO - Scrapeada página 1 con 44 items.\n",
      "2025-10-25 00:03:02,709 - INFO - Scrapeada página 2 con 44 items.\n",
      "2025-10-25 00:03:04,215 - INFO - Scrapeada página 3 con 44 items.\n",
      "2025-10-25 00:03:05,724 - INFO - Scrapeada página 4 con 44 items.\n",
      "2025-10-25 00:03:07,216 - INFO - Scrapeada página 5 con 29 items.\n",
      "2025-10-25 00:03:08,710 - INFO - Fin del listado en página 6\n",
      "2025-10-25 00:03:08,712 - INFO - Scraping de parlamentarios en ejercicio finalizado. 205 registros.\n"
     ]
    }
   ],
   "source": [
    "try:\n",
    "    logging.info(\"Iniciando scraping de ex-parlamentarios...\")\n",
    "    # (Ajuste pagina_final si sabe cuántas páginas son)\n",
    "    df_ex = scrape_bcn_list(BASE_URL, PARAMS_EX, pagina_inicial=1, pagina_final=30) \n",
    "    logging.info(f\"Scraping de ex-parlamentarios finalizado. {len(df_ex)} registros.\")\n",
    "\n",
    "    logging.info(\"Iniciando scraping de parlamentarios en ejercicio...\")\n",
    "    df_activos = scrape_bcn_list(BASE_URL, PARAMS_EJERCICIO, pagina_inicial=1, pagina_final=10)\n",
    "    logging.info(f\"Scraping de parlamentarios en ejercicio finalizado. {len(df_activos)} registros.\")\n",
    "\n",
    "except Exception as e:\n",
    "    logging.error(f\"ERROR FATAL durante el scraping: {e}\")\n",
    "    raise"
   ]
  },
  {
   "cell_type": "markdown",
   "id": "d13d5558",
   "metadata": {},
   "source": [
    "## 3. Consolidación y Guardado\n",
    "\n",
    "Se combinan ambos DataFrames, se eliminan duplicados (en caso de que un parlamentario aparezca en ambas listas) y se guarda el archivo maestro."
   ]
  },
  {
   "cell_type": "code",
   "execution_count": 5,
   "id": "44e471ee",
   "metadata": {},
   "outputs": [
    {
     "name": "stderr",
     "output_type": "stream",
     "text": [
      "2025-10-25 00:03:28,194 - INFO - Total registros (combinados): 828\n",
      "2025-10-25 00:03:28,195 - INFO - Total registros (únicos): 623\n",
      "2025-10-25 00:03:28,205 - INFO - Guardado exitosamente: C:\\Users\\angel\\OneDrive\\Documents\\U\\2025-2\\Proyecto de Grado\\Legislative-Voting-Behavior-Prediction-\\data\\01_raw\\bcn_url_master_lookup.csv\n"
     ]
    },
    {
     "data": {
      "text/html": [
       "<div>\n",
       "<style scoped>\n",
       "    .dataframe tbody tr th:only-of-type {\n",
       "        vertical-align: middle;\n",
       "    }\n",
       "\n",
       "    .dataframe tbody tr th {\n",
       "        vertical-align: top;\n",
       "    }\n",
       "\n",
       "    .dataframe thead th {\n",
       "        text-align: right;\n",
       "    }\n",
       "</style>\n",
       "<table border=\"1\" class=\"dataframe\">\n",
       "  <thead>\n",
       "    <tr style=\"text-align: right;\">\n",
       "      <th></th>\n",
       "      <th>nombre_en_lista</th>\n",
       "      <th>url_wiki</th>\n",
       "      <th>pagina</th>\n",
       "    </tr>\n",
       "  </thead>\n",
       "  <tbody>\n",
       "    <tr>\n",
       "      <th>0</th>\n",
       "      <td>Aburto Ochoa Marcos Aurelio</td>\n",
       "      <td>https://www.bcn.cl/historiapolitica/resenas_pa...</td>\n",
       "      <td>1</td>\n",
       "    </tr>\n",
       "    <tr>\n",
       "      <th>1</th>\n",
       "      <td>Accorsi Opazo Enrique</td>\n",
       "      <td>https://www.bcn.cl/historiapolitica/resenas_pa...</td>\n",
       "      <td>1</td>\n",
       "    </tr>\n",
       "    <tr>\n",
       "      <th>2</th>\n",
       "      <td>Acevedo Saez María Candelaria</td>\n",
       "      <td>https://www.bcn.cl/historiapolitica/resenas_pa...</td>\n",
       "      <td>1</td>\n",
       "    </tr>\n",
       "    <tr>\n",
       "      <th>3</th>\n",
       "      <td>Acuña Cisternas Mario Alberto</td>\n",
       "      <td>https://www.bcn.cl/historiapolitica/resenas_pa...</td>\n",
       "      <td>1</td>\n",
       "    </tr>\n",
       "    <tr>\n",
       "      <th>4</th>\n",
       "      <td>Aedo Jeldres Eric Mariano</td>\n",
       "      <td>https://www.bcn.cl/historiapolitica/resenas_pa...</td>\n",
       "      <td>1</td>\n",
       "    </tr>\n",
       "  </tbody>\n",
       "</table>\n",
       "</div>"
      ],
      "text/plain": [
       "                 nombre_en_lista  \\\n",
       "0    Aburto Ochoa Marcos Aurelio   \n",
       "1          Accorsi Opazo Enrique   \n",
       "2  Acevedo Saez María Candelaria   \n",
       "3  Acuña Cisternas Mario Alberto   \n",
       "4      Aedo Jeldres Eric Mariano   \n",
       "\n",
       "                                            url_wiki  pagina  \n",
       "0  https://www.bcn.cl/historiapolitica/resenas_pa...       1  \n",
       "1  https://www.bcn.cl/historiapolitica/resenas_pa...       1  \n",
       "2  https://www.bcn.cl/historiapolitica/resenas_pa...       1  \n",
       "3  https://www.bcn.cl/historiapolitica/resenas_pa...       1  \n",
       "4  https://www.bcn.cl/historiapolitica/resenas_pa...       1  "
      ]
     },
     "metadata": {},
     "output_type": "display_data"
    },
    {
     "name": "stderr",
     "output_type": "stream",
     "text": [
      "2025-10-25 00:03:28,216 - INFO - --- Extracción de BCN Lookup finalizada ---\n"
     ]
    }
   ],
   "source": [
    "if df_ex.empty and df_activos.empty:\n",
    "    logging.warning(\"No se obtuvieron datos. El archivo de salida no se creará.\")\n",
    "else:\n",
    "    # 1. Combinar\n",
    "    df_total = pd.concat([df_ex, df_activos], ignore_index=True)\n",
    "    \n",
    "    # 2. Limpiar duplicados\n",
    "    # Mantenemos la primera aparición (probablemente de la lista 'ex' que es más grande)\n",
    "    df_total_limpio = df_total.drop_duplicates(subset=[\"nombre_en_lista\", \"url_wiki\"], keep=\"first\")\n",
    "    \n",
    "    logging.info(f\"Total registros (combinados): {len(df_total)}\")\n",
    "    logging.info(f\"Total registros (únicos): {len(df_total_limpio)}\")\n",
    "\n",
    "    # 3. Guardar\n",
    "    try:\n",
    "        df_total_limpio.to_csv(OUTPUT_FILE, index=False, encoding=\"utf-8\")\n",
    "        logging.info(f\"Guardado exitosamente: {OUTPUT_FILE}\")\n",
    "        display(df_total_limpio.head())\n",
    "    except Exception as e:\n",
    "        logging.error(f\"ERROR al guardar el archivo: {e}\")\n",
    "\n",
    "logging.info(\"--- Extracción de BCN Lookup finalizada ---\")"
   ]
  },
  {
   "cell_type": "code",
   "execution_count": null,
   "id": "70354940",
   "metadata": {},
   "outputs": [],
   "source": []
  }
 ],
 "metadata": {
  "kernelspec": {
   "display_name": "Python 3 (ipykernel)",
   "language": "python",
   "name": "python3"
  },
  "language_info": {
   "codemirror_mode": {
    "name": "ipython",
    "version": 3
   },
   "file_extension": ".py",
   "mimetype": "text/x-python",
   "name": "python",
   "nbconvert_exporter": "python",
   "pygments_lexer": "ipython3",
   "version": "3.11.5"
  }
 },
 "nbformat": 4,
 "nbformat_minor": 5
}
