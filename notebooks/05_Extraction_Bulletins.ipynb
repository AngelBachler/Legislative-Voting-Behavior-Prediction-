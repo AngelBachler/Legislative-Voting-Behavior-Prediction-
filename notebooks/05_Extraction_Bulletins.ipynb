{
 "cells": [
  {
   "cell_type": "markdown",
   "id": "270b1f4c",
   "metadata": {},
   "source": [
    "# 05: Extracción de Boletines\n",
    "\n",
    "**Propósito:** Este *notebook* extrae los metadatos y el **texto completo** de los boletines (proyectos de ley) asociados a las votaciones de cada período.\n",
    "\n",
    "**Lógica:**\n",
    "1.  Itera por cada período.\n",
    "2.  Lee el `detalle.csv` (de `04_Extraction_Votes`) para encontrar los IDs de boletín únicos (ej. \"2625-07\").\n",
    "3.  Llama a la función `build_boletines_periodo` (de `src/bulletin_utils.py`).\n",
    "4.  Esa función orquesta la extracción:\n",
    "    a. Llama a la API XML del Senado (`tramitacion.senado.cl`) para cada ID de boletín.\n",
    "    b. Parsea el XML para obtener metadatos (título, autores, materias, `link_mensaje_mocion`).\n",
    "    c. Scrapea el `link_mensaje_mocion` para descargar el **texto completo** del proyecto.\n",
    "5.  Guarda el DataFrame resultante.\n",
    "\n",
    "**Dependencias:**\n",
    "* `data/01_raw/periodos_master.csv`\n",
    "* `data/01_raw/[periodo]/detalle.csv`\n",
    "\n",
    "**Salidas (Artifacts):**\n",
    "* `data/01_raw/[periodo]/boletines.csv` (Contiene el `texto_completo` para NLI)"
   ]
  },
  {
   "cell_type": "code",
   "execution_count": 1,
   "id": "9dce81e3",
   "metadata": {},
   "outputs": [],
   "source": [
    "import pandas as pd\n",
    "from pathlib import Path\n",
    "import sys\n",
    "import logging\n",
    "from tqdm.notebook import tqdm \n",
    "\n",
    "# --- Configurar Logging ---\n",
    "logging.basicConfig(level=logging.INFO, format='%(asctime)s - %(levelname)s - %(message)s')\n",
    "\n",
    "# --- Importar lógica personalizada de /src ---\n",
    "sys.path.append('../') \n",
    "try:\n",
    "    # Asumimos que 'sanitize_filename' está en un módulo común\n",
    "    from src.common_utils import sanitize_filename, get_ollama_client\n",
    "    # Importamos la función orquestadora principal de nuestro NUEVO módulo\n",
    "    from src.bulletin_utils import build_boletines_periodo \n",
    "except ImportError as e:\n",
    "    logging.error(f\"ERROR: No se pudieron importar las funciones desde /src. {e}\")\n",
    "    logging.error(\"Asegúrese de que 'src/common_utils.py' y 'src/bulletin_utils.py' existan.\")\n",
    "    raise\n",
    "\n",
    "# Registrar 'tqdm' con pandas\n",
    "tqdm.pandas()"
   ]
  },
  {
   "cell_type": "code",
   "execution_count": 2,
   "id": "26a0710f",
   "metadata": {},
   "outputs": [
    {
     "name": "stderr",
     "output_type": "stream",
     "text": [
      "2025-10-26 18:05:08,101 - INFO - Ruta Raíz: C:\\Users\\angel\\OneDrive\\Documents\\U\\2025-2\\Proyecto de Grado\\Legislative-Voting-Behavior-Prediction-\n",
      "2025-10-26 18:05:08,104 - INFO - Directorio de Datos Raw: C:\\Users\\angel\\OneDrive\\Documents\\U\\2025-2\\Proyecto de Grado\\Legislative-Voting-Behavior-Prediction-\\data\\01_raw\n"
     ]
    }
   ],
   "source": [
    "# --- 1. Configuración de Rutas y Constantes ---\n",
    "ROOT = Path.cwd().parent\n",
    "DATA_DIR_RAW = ROOT / \"data\" / \"01_raw\"\n",
    "\n",
    "# --- Definir el ARCHIVO DE ENTRADA (Dependencia) ---\n",
    "MASTER_PERIOD_FILE = DATA_DIR_RAW / \"periodos_master.csv\"\n",
    "\n",
    "logging.info(f\"Ruta Raíz: {ROOT}\")\n",
    "logging.info(f\"Directorio de Datos Raw: {DATA_DIR_RAW}\")"
   ]
  },
  {
   "cell_type": "markdown",
   "id": "3818a216",
   "metadata": {},
   "source": [
    "## 2. Carga de Dependencias (Períodos)\n",
    "\n",
    "Cargamos la lista maestra de períodos sobre la cual vamos a iterar."
   ]
  },
  {
   "cell_type": "code",
   "execution_count": 3,
   "id": "95d57c1e",
   "metadata": {},
   "outputs": [
    {
     "name": "stderr",
     "output_type": "stream",
     "text": [
      "2025-10-26 18:05:08,115 - INFO - Se cargó la lista maestra de 10 períodos.\n"
     ]
    },
    {
     "data": {
      "text/html": [
       "<div>\n",
       "<style scoped>\n",
       "    .dataframe tbody tr th:only-of-type {\n",
       "        vertical-align: middle;\n",
       "    }\n",
       "\n",
       "    .dataframe tbody tr th {\n",
       "        vertical-align: top;\n",
       "    }\n",
       "\n",
       "    .dataframe thead th {\n",
       "        text-align: right;\n",
       "    }\n",
       "</style>\n",
       "<table border=\"1\" class=\"dataframe\">\n",
       "  <thead>\n",
       "    <tr style=\"text-align: right;\">\n",
       "      <th></th>\n",
       "      <th>Id</th>\n",
       "      <th>Nombre</th>\n",
       "      <th>FechaInicio</th>\n",
       "      <th>FechaTermino</th>\n",
       "    </tr>\n",
       "  </thead>\n",
       "  <tbody>\n",
       "    <tr>\n",
       "      <th>0</th>\n",
       "      <td>7</td>\n",
       "      <td>1965-1969</td>\n",
       "      <td>1965-03-11</td>\n",
       "      <td>1969-03-11 00:00:00</td>\n",
       "    </tr>\n",
       "    <tr>\n",
       "      <th>1</th>\n",
       "      <td>1</td>\n",
       "      <td>1990-1994</td>\n",
       "      <td>1990-03-11</td>\n",
       "      <td>1994-03-10 00:00:00</td>\n",
       "    </tr>\n",
       "    <tr>\n",
       "      <th>2</th>\n",
       "      <td>2</td>\n",
       "      <td>1994-1998</td>\n",
       "      <td>1994-03-11</td>\n",
       "      <td>1998-03-10 00:00:00</td>\n",
       "    </tr>\n",
       "    <tr>\n",
       "      <th>3</th>\n",
       "      <td>3</td>\n",
       "      <td>1998-2002</td>\n",
       "      <td>1998-03-11</td>\n",
       "      <td>2002-03-10 00:00:00</td>\n",
       "    </tr>\n",
       "    <tr>\n",
       "      <th>4</th>\n",
       "      <td>4</td>\n",
       "      <td>2002-2006</td>\n",
       "      <td>2002-03-11</td>\n",
       "      <td>2006-03-10 00:00:00</td>\n",
       "    </tr>\n",
       "  </tbody>\n",
       "</table>\n",
       "</div>"
      ],
      "text/plain": [
       "   Id     Nombre FechaInicio         FechaTermino\n",
       "0   7  1965-1969  1965-03-11  1969-03-11 00:00:00\n",
       "1   1  1990-1994  1990-03-11  1994-03-10 00:00:00\n",
       "2   2  1994-1998  1994-03-11  1998-03-10 00:00:00\n",
       "3   3  1998-2002  1998-03-11  2002-03-10 00:00:00\n",
       "4   4  2002-2006  2002-03-11  2006-03-10 00:00:00"
      ]
     },
     "metadata": {},
     "output_type": "display_data"
    }
   ],
   "source": [
    "try:\n",
    "    df_periodos = pd.read_csv(MASTER_PERIOD_FILE)\n",
    "    logging.info(f\"Se cargó la lista maestra de {len(df_periodos)} períodos.\")\n",
    "    display(df_periodos.head())\n",
    "except FileNotFoundError as e:\n",
    "    logging.error(f\"ERROR FATAL: No se encontró el archivo de dependencia: {MASTER_PERIOD_FILE}\")\n",
    "    logging.error(\"Por favor, ejecute el notebook '00_Extraction_Periods.ipynb' primero.\")\n",
    "    raise"
   ]
  },
  {
   "cell_type": "markdown",
   "id": "9b6e36ca",
   "metadata": {},
   "source": [
    "## 3. Bucle Principal de Extracción de Boletines\n",
    "\n",
    "Iteramos sobre cada período. La función `build_boletines_periodo` (en `/src`) se encarga de todo el trabajo pesado, incluyendo mostrar una barra de progreso anidada para la descarga de boletines."
   ]
  },
  {
   "cell_type": "code",
   "execution_count": 4,
   "id": "6621492f",
   "metadata": {},
   "outputs": [
    {
     "name": "stderr",
     "output_type": "stream",
     "text": [
      "2025-10-26 18:05:08,134 - INFO - Iniciando extracción de boletines para 10 períodos...\n"
     ]
    },
    {
     "data": {
      "application/vnd.jupyter.widget-view+json": {
       "model_id": "3c5eeff8bb6948cbaf410ac18d77e0c4",
       "version_major": 2,
       "version_minor": 0
      },
      "text/plain": [
       "Procesando Períodos:   0%|          | 0/10 [00:00<?, ?it/s]"
      ]
     },
     "metadata": {},
     "output_type": "display_data"
    },
    {
     "name": "stderr",
     "output_type": "stream",
     "text": [
      "2025-10-26 18:05:08,162 - INFO - --- Procesando Período: 1965-1969 ---\n",
      "2025-10-26 18:05:08,163 - INFO - Llamando a build_boletines_periodo...\n",
      "2025-10-26 18:05:08,164 - WARNING - No se encontró C:\\Users\\angel\\OneDrive\\Documents\\U\\2025-2\\Proyecto de Grado\\Legislative-Voting-Behavior-Prediction-\\data\\01_raw\\1965-1969\\detalle.csv.\n",
      "2025-10-26 18:05:08,165 - WARNING - No se generaron datos de boletines para el período 1965-1969.\n",
      "2025-10-26 18:05:08,165 - INFO - --- Procesando Período: 1990-1994 ---\n",
      "2025-10-26 18:05:08,166 - INFO - Llamando a build_boletines_periodo...\n",
      "2025-10-26 18:05:08,167 - WARNING - No se encontró C:\\Users\\angel\\OneDrive\\Documents\\U\\2025-2\\Proyecto de Grado\\Legislative-Voting-Behavior-Prediction-\\data\\01_raw\\1990-1994\\detalle.csv.\n",
      "2025-10-26 18:05:08,168 - WARNING - No se generaron datos de boletines para el período 1990-1994.\n",
      "2025-10-26 18:05:08,168 - INFO - --- Procesando Período: 1994-1998 ---\n",
      "2025-10-26 18:05:08,169 - INFO - Llamando a build_boletines_periodo...\n",
      "2025-10-26 18:05:08,170 - WARNING - No se encontró C:\\Users\\angel\\OneDrive\\Documents\\U\\2025-2\\Proyecto de Grado\\Legislative-Voting-Behavior-Prediction-\\data\\01_raw\\1994-1998\\detalle.csv.\n",
      "2025-10-26 18:05:08,171 - WARNING - No se generaron datos de boletines para el período 1994-1998.\n",
      "2025-10-26 18:05:08,171 - INFO - --- Procesando Período: 1998-2002 ---\n",
      "2025-10-26 18:05:08,173 - INFO - Llamando a build_boletines_periodo...\n",
      "2025-10-26 18:05:08,173 - WARNING - No se encontró C:\\Users\\angel\\OneDrive\\Documents\\U\\2025-2\\Proyecto de Grado\\Legislative-Voting-Behavior-Prediction-\\data\\01_raw\\1998-2002\\detalle.csv.\n",
      "2025-10-26 18:05:08,174 - WARNING - No se generaron datos de boletines para el período 1998-2002.\n",
      "2025-10-26 18:05:08,174 - INFO - --- Procesando Período: 2002-2006 ---\n",
      "2025-10-26 18:05:08,175 - INFO - Llamando a build_boletines_periodo...\n",
      "2025-10-26 18:05:08,176 - INFO - Cargando C:\\Users\\angel\\OneDrive\\Documents\\U\\2025-2\\Proyecto de Grado\\Legislative-Voting-Behavior-Prediction-\\data\\01_raw\\2002-2006\\detalle.csv para extraer IDs de boletín.\n",
      "2025-10-26 18:05:09,476 - INFO - Encontrados 476 boletines únicos. Iniciando descarga...\n"
     ]
    },
    {
     "data": {
      "application/vnd.jupyter.widget-view+json": {
       "model_id": "d9a06998ea834713bda5583f47d6ab6a",
       "version_major": 2,
       "version_minor": 0
      },
      "text/plain": [
       "Boletines 2002-2006:   0%|          | 0/476 [00:00<?, ?it/s]"
      ]
     },
     "metadata": {},
     "output_type": "display_data"
    },
    {
     "name": "stderr",
     "output_type": "stream",
     "text": [
      "2025-10-26 18:05:22,621 - ERROR - Error de parseo en get_boletin (XML) para 3116: 'NoneType' object has no attribute 'get'\n",
      "Traceback (most recent call last):\n",
      "  File \"C:\\Users\\angel\\OneDrive\\Documents\\U\\2025-2\\Proyecto de Grado\\Legislative-Voting-Behavior-Prediction-\\notebooks\\..\\src\\bulletin_utils.py\", line 35, in get_boletin\n",
      "    proyecto = data_dict.get('proyectos', {}).get('proyecto')\n",
      "               ^^^^^^^^^^^^^^^^^^^^^^^^^^^^^^^^^^\n",
      "AttributeError: 'NoneType' object has no attribute 'get'\n",
      "2025-10-26 18:05:42,899 - ERROR - Error de parseo en get_boletin (XML) para 2930: 'NoneType' object has no attribute 'get'\n",
      "Traceback (most recent call last):\n",
      "  File \"C:\\Users\\angel\\OneDrive\\Documents\\U\\2025-2\\Proyecto de Grado\\Legislative-Voting-Behavior-Prediction-\\notebooks\\..\\src\\bulletin_utils.py\", line 35, in get_boletin\n",
      "    proyecto = data_dict.get('proyectos', {}).get('proyecto')\n",
      "               ^^^^^^^^^^^^^^^^^^^^^^^^^^^^^^^^^^\n",
      "AttributeError: 'NoneType' object has no attribute 'get'\n",
      "2025-10-26 18:05:53,032 - ERROR - Error de parseo en get_boletin (XML) para 2962: 'NoneType' object has no attribute 'get'\n",
      "Traceback (most recent call last):\n",
      "  File \"C:\\Users\\angel\\OneDrive\\Documents\\U\\2025-2\\Proyecto de Grado\\Legislative-Voting-Behavior-Prediction-\\notebooks\\..\\src\\bulletin_utils.py\", line 35, in get_boletin\n",
      "    proyecto = data_dict.get('proyectos', {}).get('proyecto')\n",
      "               ^^^^^^^^^^^^^^^^^^^^^^^^^^^^^^^^^^\n",
      "AttributeError: 'NoneType' object has no attribute 'get'\n",
      "2025-10-26 18:08:34,159 - ERROR - Error de parseo en get_boletin (XML) para 3628: 'NoneType' object has no attribute 'get'\n",
      "Traceback (most recent call last):\n",
      "  File \"C:\\Users\\angel\\OneDrive\\Documents\\U\\2025-2\\Proyecto de Grado\\Legislative-Voting-Behavior-Prediction-\\notebooks\\..\\src\\bulletin_utils.py\", line 35, in get_boletin\n",
      "    proyecto = data_dict.get('proyectos', {}).get('proyecto')\n",
      "               ^^^^^^^^^^^^^^^^^^^^^^^^^^^^^^^^^^\n",
      "AttributeError: 'NoneType' object has no attribute 'get'\n",
      "2025-10-26 18:08:53,770 - ERROR - Error de parseo en get_boletin (XML) para 3462: 'NoneType' object has no attribute 'get'\n",
      "Traceback (most recent call last):\n",
      "  File \"C:\\Users\\angel\\OneDrive\\Documents\\U\\2025-2\\Proyecto de Grado\\Legislative-Voting-Behavior-Prediction-\\notebooks\\..\\src\\bulletin_utils.py\", line 35, in get_boletin\n",
      "    proyecto = data_dict.get('proyectos', {}).get('proyecto')\n",
      "               ^^^^^^^^^^^^^^^^^^^^^^^^^^^^^^^^^^\n",
      "AttributeError: 'NoneType' object has no attribute 'get'\n",
      "2025-10-26 18:09:11,151 - ERROR - Error de parseo en get_boletin (XML) para 3421: 'NoneType' object has no attribute 'get'\n",
      "Traceback (most recent call last):\n",
      "  File \"C:\\Users\\angel\\OneDrive\\Documents\\U\\2025-2\\Proyecto de Grado\\Legislative-Voting-Behavior-Prediction-\\notebooks\\..\\src\\bulletin_utils.py\", line 35, in get_boletin\n",
      "    proyecto = data_dict.get('proyectos', {}).get('proyecto')\n",
      "               ^^^^^^^^^^^^^^^^^^^^^^^^^^^^^^^^^^\n",
      "AttributeError: 'NoneType' object has no attribute 'get'\n",
      "2025-10-26 18:10:46,836 - ERROR - Error de parseo en get_boletin (XML) para 3699: 'NoneType' object has no attribute 'get'\n",
      "Traceback (most recent call last):\n",
      "  File \"C:\\Users\\angel\\OneDrive\\Documents\\U\\2025-2\\Proyecto de Grado\\Legislative-Voting-Behavior-Prediction-\\notebooks\\..\\src\\bulletin_utils.py\", line 35, in get_boletin\n",
      "    proyecto = data_dict.get('proyectos', {}).get('proyecto')\n",
      "               ^^^^^^^^^^^^^^^^^^^^^^^^^^^^^^^^^^\n",
      "AttributeError: 'NoneType' object has no attribute 'get'\n",
      "2025-10-26 18:10:50,541 - INFO - Guardado exitosamente: C:\\Users\\angel\\OneDrive\\Documents\\U\\2025-2\\Proyecto de Grado\\Legislative-Voting-Behavior-Prediction-\\data\\01_raw\\2002-2006\\boletines.csv (469 filas)\n",
      "2025-10-26 18:10:50,543 - INFO - --- Procesando Período: 2006-2010 ---\n",
      "2025-10-26 18:10:50,544 - INFO - Llamando a build_boletines_periodo...\n",
      "2025-10-26 18:10:50,545 - INFO - Cargando C:\\Users\\angel\\OneDrive\\Documents\\U\\2025-2\\Proyecto de Grado\\Legislative-Voting-Behavior-Prediction-\\data\\01_raw\\2006-2010\\detalle.csv para extraer IDs de boletín.\n",
      "2025-10-26 18:10:52,123 - INFO - Encontrados 563 boletines únicos. Iniciando descarga...\n"
     ]
    },
    {
     "data": {
      "application/vnd.jupyter.widget-view+json": {
       "model_id": "5de1b12114eb41c8ab13741da6a7b954",
       "version_major": 2,
       "version_minor": 0
      },
      "text/plain": [
       "Boletines 2006-2010:   0%|          | 0/563 [00:00<?, ?it/s]"
      ]
     },
     "metadata": {},
     "output_type": "display_data"
    },
    {
     "name": "stderr",
     "output_type": "stream",
     "text": [
      "2025-10-26 18:11:56,666 - ERROR - Error de parseo en get_boletin (XML) para 4200: 'NoneType' object has no attribute 'get'\n",
      "Traceback (most recent call last):\n",
      "  File \"C:\\Users\\angel\\OneDrive\\Documents\\U\\2025-2\\Proyecto de Grado\\Legislative-Voting-Behavior-Prediction-\\notebooks\\..\\src\\bulletin_utils.py\", line 35, in get_boletin\n",
      "    proyecto = data_dict.get('proyectos', {}).get('proyecto')\n",
      "               ^^^^^^^^^^^^^^^^^^^^^^^^^^^^^^^^^^\n",
      "AttributeError: 'NoneType' object has no attribute 'get'\n",
      "2025-10-26 18:12:08,618 - ERROR - Error de parseo en get_boletin (XML) para 4195: 'NoneType' object has no attribute 'get'\n",
      "Traceback (most recent call last):\n",
      "  File \"C:\\Users\\angel\\OneDrive\\Documents\\U\\2025-2\\Proyecto de Grado\\Legislative-Voting-Behavior-Prediction-\\notebooks\\..\\src\\bulletin_utils.py\", line 35, in get_boletin\n",
      "    proyecto = data_dict.get('proyectos', {}).get('proyecto')\n",
      "               ^^^^^^^^^^^^^^^^^^^^^^^^^^^^^^^^^^\n",
      "AttributeError: 'NoneType' object has no attribute 'get'\n",
      "2025-10-26 18:12:12,023 - ERROR - Error de parseo en get_boletin (XML) para 4161: 'NoneType' object has no attribute 'get'\n",
      "Traceback (most recent call last):\n",
      "  File \"C:\\Users\\angel\\OneDrive\\Documents\\U\\2025-2\\Proyecto de Grado\\Legislative-Voting-Behavior-Prediction-\\notebooks\\..\\src\\bulletin_utils.py\", line 35, in get_boletin\n",
      "    proyecto = data_dict.get('proyectos', {}).get('proyecto')\n",
      "               ^^^^^^^^^^^^^^^^^^^^^^^^^^^^^^^^^^\n",
      "AttributeError: 'NoneType' object has no attribute 'get'\n",
      "2025-10-26 18:12:18,693 - ERROR - Error de parseo en get_boletin (XML) para 4128: 'NoneType' object has no attribute 'get'\n",
      "Traceback (most recent call last):\n",
      "  File \"C:\\Users\\angel\\OneDrive\\Documents\\U\\2025-2\\Proyecto de Grado\\Legislative-Voting-Behavior-Prediction-\\notebooks\\..\\src\\bulletin_utils.py\", line 35, in get_boletin\n",
      "    proyecto = data_dict.get('proyectos', {}).get('proyecto')\n",
      "               ^^^^^^^^^^^^^^^^^^^^^^^^^^^^^^^^^^\n",
      "AttributeError: 'NoneType' object has no attribute 'get'\n",
      "2025-10-26 18:12:37,754 - ERROR - Error de parseo en get_boletin (XML) para 5079: 'NoneType' object has no attribute 'get'\n",
      "Traceback (most recent call last):\n",
      "  File \"C:\\Users\\angel\\OneDrive\\Documents\\U\\2025-2\\Proyecto de Grado\\Legislative-Voting-Behavior-Prediction-\\notebooks\\..\\src\\bulletin_utils.py\", line 35, in get_boletin\n",
      "    proyecto = data_dict.get('proyectos', {}).get('proyecto')\n",
      "               ^^^^^^^^^^^^^^^^^^^^^^^^^^^^^^^^^^\n",
      "AttributeError: 'NoneType' object has no attribute 'get'\n",
      "2025-10-26 18:14:41,905 - ERROR - Error de parseo en get_boletin (XML) para 5977: 'NoneType' object has no attribute 'get'\n",
      "Traceback (most recent call last):\n",
      "  File \"C:\\Users\\angel\\OneDrive\\Documents\\U\\2025-2\\Proyecto de Grado\\Legislative-Voting-Behavior-Prediction-\\notebooks\\..\\src\\bulletin_utils.py\", line 35, in get_boletin\n",
      "    proyecto = data_dict.get('proyectos', {}).get('proyecto')\n",
      "               ^^^^^^^^^^^^^^^^^^^^^^^^^^^^^^^^^^\n",
      "AttributeError: 'NoneType' object has no attribute 'get'\n",
      "2025-10-26 18:15:36,841 - ERROR - Error de parseo en get_boletin (XML) para 5755: 'NoneType' object has no attribute 'get'\n",
      "Traceback (most recent call last):\n",
      "  File \"C:\\Users\\angel\\OneDrive\\Documents\\U\\2025-2\\Proyecto de Grado\\Legislative-Voting-Behavior-Prediction-\\notebooks\\..\\src\\bulletin_utils.py\", line 35, in get_boletin\n",
      "    proyecto = data_dict.get('proyectos', {}).get('proyecto')\n",
      "               ^^^^^^^^^^^^^^^^^^^^^^^^^^^^^^^^^^\n",
      "AttributeError: 'NoneType' object has no attribute 'get'\n",
      "2025-10-26 18:15:58,148 - ERROR - Error de parseo en get_boletin (XML) para 5649: 'NoneType' object has no attribute 'get'\n",
      "Traceback (most recent call last):\n",
      "  File \"C:\\Users\\angel\\OneDrive\\Documents\\U\\2025-2\\Proyecto de Grado\\Legislative-Voting-Behavior-Prediction-\\notebooks\\..\\src\\bulletin_utils.py\", line 35, in get_boletin\n",
      "    proyecto = data_dict.get('proyectos', {}).get('proyecto')\n",
      "               ^^^^^^^^^^^^^^^^^^^^^^^^^^^^^^^^^^\n",
      "AttributeError: 'NoneType' object has no attribute 'get'\n",
      "2025-10-26 18:17:53,799 - ERROR - Error de parseo en get_boletin (XML) para 5183: 'NoneType' object has no attribute 'get'\n",
      "Traceback (most recent call last):\n",
      "  File \"C:\\Users\\angel\\OneDrive\\Documents\\U\\2025-2\\Proyecto de Grado\\Legislative-Voting-Behavior-Prediction-\\notebooks\\..\\src\\bulletin_utils.py\", line 35, in get_boletin\n",
      "    proyecto = data_dict.get('proyectos', {}).get('proyecto')\n",
      "               ^^^^^^^^^^^^^^^^^^^^^^^^^^^^^^^^^^\n",
      "AttributeError: 'NoneType' object has no attribute 'get'\n",
      "2025-10-26 18:18:07,175 - INFO - Guardado exitosamente: C:\\Users\\angel\\OneDrive\\Documents\\U\\2025-2\\Proyecto de Grado\\Legislative-Voting-Behavior-Prediction-\\data\\01_raw\\2006-2010\\boletines.csv (554 filas)\n",
      "2025-10-26 18:18:07,177 - INFO - --- Procesando Período: 2010-2014 ---\n",
      "2025-10-26 18:18:07,177 - INFO - Llamando a build_boletines_periodo...\n",
      "2025-10-26 18:18:07,179 - INFO - Cargando C:\\Users\\angel\\OneDrive\\Documents\\U\\2025-2\\Proyecto de Grado\\Legislative-Voting-Behavior-Prediction-\\data\\01_raw\\2010-2014\\detalle.csv para extraer IDs de boletín.\n",
      "2025-10-26 18:18:09,535 - INFO - Encontrados 567 boletines únicos. Iniciando descarga...\n"
     ]
    },
    {
     "data": {
      "application/vnd.jupyter.widget-view+json": {
       "model_id": "6c35e497074c4c1780e605fac706cb75",
       "version_major": 2,
       "version_minor": 0
      },
      "text/plain": [
       "Boletines 2010-2014:   0%|          | 0/567 [00:00<?, ?it/s]"
      ]
     },
     "metadata": {},
     "output_type": "display_data"
    },
    {
     "name": "stderr",
     "output_type": "stream",
     "text": [
      "2025-10-26 18:25:41,408 - INFO - Guardado exitosamente: C:\\Users\\angel\\OneDrive\\Documents\\U\\2025-2\\Proyecto de Grado\\Legislative-Voting-Behavior-Prediction-\\data\\01_raw\\2010-2014\\boletines.csv (567 filas)\n",
      "2025-10-26 18:25:41,410 - INFO - --- Procesando Período: 2014-2018 ---\n",
      "2025-10-26 18:25:41,411 - INFO - Llamando a build_boletines_periodo...\n",
      "2025-10-26 18:25:41,413 - INFO - Cargando C:\\Users\\angel\\OneDrive\\Documents\\U\\2025-2\\Proyecto de Grado\\Legislative-Voting-Behavior-Prediction-\\data\\01_raw\\2014-2018\\detalle.csv para extraer IDs de boletín.\n",
      "2025-10-26 18:25:44,006 - INFO - Encontrados 572 boletines únicos. Iniciando descarga...\n"
     ]
    },
    {
     "data": {
      "application/vnd.jupyter.widget-view+json": {
       "model_id": "07d9983a6fd04006ac52fc7a7da4872f",
       "version_major": 2,
       "version_minor": 0
      },
      "text/plain": [
       "Boletines 2014-2018:   0%|          | 0/572 [00:00<?, ?it/s]"
      ]
     },
     "metadata": {},
     "output_type": "display_data"
    },
    {
     "name": "stderr",
     "output_type": "stream",
     "text": [
      "2025-10-26 18:33:40,778 - INFO - Guardado exitosamente: C:\\Users\\angel\\OneDrive\\Documents\\U\\2025-2\\Proyecto de Grado\\Legislative-Voting-Behavior-Prediction-\\data\\01_raw\\2014-2018\\boletines.csv (572 filas)\n",
      "2025-10-26 18:33:40,779 - INFO - --- Procesando Período: 2018-2022 ---\n",
      "2025-10-26 18:33:40,780 - INFO - Llamando a build_boletines_periodo...\n",
      "2025-10-26 18:33:40,782 - INFO - Cargando C:\\Users\\angel\\OneDrive\\Documents\\U\\2025-2\\Proyecto de Grado\\Legislative-Voting-Behavior-Prediction-\\data\\01_raw\\2018-2022\\detalle.csv para extraer IDs de boletín.\n",
      "2025-10-26 18:33:45,310 - INFO - Encontrados 699 boletines únicos. Iniciando descarga...\n"
     ]
    },
    {
     "data": {
      "application/vnd.jupyter.widget-view+json": {
       "model_id": "fae47f6a0560444692bee8013fa7017c",
       "version_major": 2,
       "version_minor": 0
      },
      "text/plain": [
       "Boletines 2018-2022:   0%|          | 0/699 [00:00<?, ?it/s]"
      ]
     },
     "metadata": {},
     "output_type": "display_data"
    },
    {
     "name": "stderr",
     "output_type": "stream",
     "text": [
      "2025-10-26 18:43:10,168 - INFO - Guardado exitosamente: C:\\Users\\angel\\OneDrive\\Documents\\U\\2025-2\\Proyecto de Grado\\Legislative-Voting-Behavior-Prediction-\\data\\01_raw\\2018-2022\\boletines.csv (699 filas)\n",
      "2025-10-26 18:43:10,170 - INFO - --- Procesando Período: 2022-2026 ---\n",
      "2025-10-26 18:43:10,171 - INFO - Llamando a build_boletines_periodo...\n",
      "2025-10-26 18:43:10,172 - INFO - Cargando C:\\Users\\angel\\OneDrive\\Documents\\U\\2025-2\\Proyecto de Grado\\Legislative-Voting-Behavior-Prediction-\\data\\01_raw\\2022-2026\\detalle.csv para extraer IDs de boletín.\n",
      "2025-10-26 18:43:15,091 - INFO - Encontrados 667 boletines únicos. Iniciando descarga...\n"
     ]
    },
    {
     "data": {
      "application/vnd.jupyter.widget-view+json": {
       "model_id": "ad359cd711934cfb8c1dadecb744d69e",
       "version_major": 2,
       "version_minor": 0
      },
      "text/plain": [
       "Boletines 2022-2026:   0%|          | 0/667 [00:00<?, ?it/s]"
      ]
     },
     "metadata": {},
     "output_type": "display_data"
    },
    {
     "name": "stderr",
     "output_type": "stream",
     "text": [
      "2025-10-26 18:51:59,108 - INFO - Guardado exitosamente: C:\\Users\\angel\\OneDrive\\Documents\\U\\2025-2\\Proyecto de Grado\\Legislative-Voting-Behavior-Prediction-\\data\\01_raw\\2022-2026\\boletines.csv (667 filas)\n",
      "2025-10-26 18:51:59,110 - INFO - --- Extracción de boletines finalizada ---\n"
     ]
    }
   ],
   "source": [
    "logging.info(f\"Iniciando extracción de boletines para {len(df_periodos)} períodos...\")\n",
    "\n",
    "for row in tqdm(df_periodos.itertuples(), total=len(df_periodos), desc=\"Procesando Períodos\"):\n",
    "    \n",
    "    nombre_periodo = row.Nombre\n",
    "    nombre_carpeta = sanitize_filename(nombre_periodo)\n",
    "    carpeta_periodo = DATA_DIR_RAW / nombre_carpeta\n",
    "    \n",
    "    # --- Definir rutas de Input y Output ---\n",
    "    ruta_output_boletines = carpeta_periodo / \"boletines.csv\"\n",
    "\n",
    "    logging.info(f\"--- Procesando Período: {nombre_periodo} ---\")\n",
    "\n",
    "    if ruta_output_boletines.exists():\n",
    "        logging.info(f\"Saltando período: El archivo 'boletines.csv' ya existe.\")\n",
    "        continue\n",
    "\n",
    "    try:\n",
    "        logging.info(\"Llamando a build_boletines_periodo...\")\n",
    "        df_boletines = build_boletines_periodo(nombre_periodo, DATA_DIR_RAW)\n",
    "        \n",
    "        if df_boletines is None or df_boletines.empty:\n",
    "            logging.warning(f\"No se generaron datos de boletines para el período {nombre_periodo}.\")\n",
    "            continue\n",
    "\n",
    "        carpeta_periodo.mkdir(parents=True, exist_ok=True)\n",
    "\n",
    "        df_boletines.to_csv(ruta_output_boletines, index=False, encoding=\"utf-8\")\n",
    "        logging.info(f\"Guardado exitosamente: {ruta_output_boletines} ({len(df_boletines)} filas)\")\n",
    "\n",
    "    except Exception as e:\n",
    "        logging.error(f\"ERROR FATAL al procesar período {nombre_periodo}: {e}\", exc_info=True)\n",
    "\n",
    "logging.info(\"--- Extracción de boletines finalizada ---\")"
   ]
  },
  {
   "cell_type": "code",
   "execution_count": null,
   "id": "7cd46e5c",
   "metadata": {},
   "outputs": [],
   "source": []
  }
 ],
 "metadata": {
  "kernelspec": {
   "display_name": "Python 3 (ipykernel)",
   "language": "python",
   "name": "python3"
  },
  "language_info": {
   "codemirror_mode": {
    "name": "ipython",
    "version": 3
   },
   "file_extension": ".py",
   "mimetype": "text/x-python",
   "name": "python",
   "nbconvert_exporter": "python",
   "pygments_lexer": "ipython3",
   "version": "3.11.5"
  }
 },
 "nbformat": 4,
 "nbformat_minor": 5
}
