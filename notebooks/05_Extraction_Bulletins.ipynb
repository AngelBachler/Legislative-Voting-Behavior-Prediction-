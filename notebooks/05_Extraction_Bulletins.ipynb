{
 "cells": [
  {
   "cell_type": "markdown",
   "id": "6cda7fcd",
   "metadata": {},
   "source": [
    "# 05: Extracción de Boletines\n",
    "\n",
    "**Propósito:** Este *notebook* extrae los metadatos y el **texto completo** de los boletines (proyectos de ley) asociados a las votaciones de cada período.\n",
    "\n",
    "**Lógica:**\n",
    "1.  Itera por cada período.\n",
    "2.  Lee el `detalle.csv` (de `04_Extraction_Votes`) para encontrar los IDs de boletín únicos (ej. \"2625-07\").\n",
    "3.  Llama a la función `build_boletines_periodo` (de `src/bulletin_utils.py`).\n",
    "4.  Esa función orquesta la extracción:\n",
    "    a. Llama a la API XML del Senado (`tramitacion.senado.cl`) para cada ID de boletín.\n",
    "    b. Parsea el XML para obtener metadatos (título, autores, materias, `link_mensaje_mocion`).\n",
    "    c. Scrapea el `link_mensaje_mocion` para descargar el **texto completo** del proyecto.\n",
    "5.  Guarda el DataFrame resultante.\n",
    "\n",
    "**Dependencias:**\n",
    "* `data/01_raw/periodos_master.csv`\n",
    "* `data/01_raw/[periodo]/detalle.csv`\n",
    "\n",
    "**Salidas (Artifacts):**\n",
    "* `data/01_raw/[periodo]/boletines.csv` (Contiene el `texto_completo` para NLI)"
   ]
  },
  {
   "cell_type": "code",
   "execution_count": null,
   "id": "117ea808",
   "metadata": {},
   "outputs": [
    {
     "name": "stderr",
     "output_type": "stream",
     "text": [
      "2025-10-26 14:17:25,054 - ERROR - ERROR: No se pudieron importar las funciones desde /src. cannot import name 'sanitize_filename' from 'src.extraction_utils' (C:\\Users\\angel\\OneDrive\\Documents\\U\\2025-2\\Proyecto de Grado\\Legislative-Voting-Behavior-Prediction-\\notebooks\\..\\src\\extraction_utils.py)\n",
      "2025-10-26 14:17:25,056 - ERROR - Asegúrese de que 'src/common_utils.py' y 'src/bulletin_utils.py' existan.\n"
     ]
    }
   ],
   "source": [
    "import pandas as pd\n",
    "from pathlib import Path\n",
    "import sys\n",
    "import logging\n",
    "from tqdm.notebook import tqdm # Para barras de progreso\n",
    "\n",
    "# --- Configurar Logging ---\n",
    "logging.basicConfig(level=logging.INFO, format='%(asctime)s - %(levelname)s - %(message)s')\n",
    "\n",
    "# --- Importar lógica personalizada de /src ---\n",
    "sys.path.append('../') \n",
    "try:\n",
    "    # Asumimos que 'sanitize_filename' está en un módulo común\n",
    "    from src.common_utils import sanitize_filename\n",
    "    # Importamos la función orquestadora principal de nuestro NUEVO módulo\n",
    "    from src.bulletin_utils import build_boletines_periodo \n",
    "except ImportError as e:\n",
    "    logging.error(f\"ERROR: No se pudieron importar las funciones desde /src. {e}\")\n",
    "    logging.error(\"Asegúrese de que 'src/common_utils.py' y 'src/bulletin_utils.py' existan.\")\n",
    "    raise\n",
    "\n",
    "# Registrar 'tqdm' con pandas\n",
    "tqdm.pandas()"
   ]
  },
  {
   "cell_type": "code",
   "execution_count": null,
   "id": "c963666c",
   "metadata": {},
   "outputs": [],
   "source": []
  }
 ],
 "metadata": {
  "kernelspec": {
   "display_name": "Python 3 (ipykernel)",
   "language": "python",
   "name": "python3"
  },
  "language_info": {
   "codemirror_mode": {
    "name": "ipython",
    "version": 3
   },
   "file_extension": ".py",
   "mimetype": "text/x-python",
   "name": "python",
   "nbconvert_exporter": "python",
   "pygments_lexer": "ipython3",
   "version": "3.11.5"
  }
 },
 "nbformat": 4,
 "nbformat_minor": 5
}
