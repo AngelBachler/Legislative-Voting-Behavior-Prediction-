{
 "cells": [
  {
   "cell_type": "markdown",
   "id": "6faca8f8",
   "metadata": {},
   "source": [
    "# 01: Extracción de Diputados\n",
    "\n",
    "**Propósito:** Este *notebook* extrae la lista maestra de diputados para cada período legislativo, utilizando la API WSDL (`WSSala.asmx`) de la Cámara.\n",
    "\n",
    "**Dependencias:**\n",
    "* `data/01_raw/periodos_master.csv`: La lista maestra de períodos generada por el *notebook* `00_Extraction_Periods.ipynb`.\n",
    "\n",
    "**Salidas (Artifacts):**\n",
    "* Un archivo `diputados.csv` por cada período, guardado en `data/01_raw/[nombre_periodo]/diputados.csv`."
   ]
  },
  {
   "cell_type": "code",
   "execution_count": 1,
   "id": "9caafdfe",
   "metadata": {},
   "outputs": [],
   "source": [
    "import pandas as pd\n",
    "from pathlib import Path\n",
    "from zeep import Client\n",
    "import sys\n",
    "import logging\n",
    "\n",
    "# --- Configurar Logging ---\n",
    "logging.basicConfig(level=logging.INFO, format='%(asctime)s - %(levelname)s - %(message)s')\n",
    "\n",
    "# --- Importar lógica personalizada de /src ---\n",
    "sys.path.append('../') \n",
    "try:\n",
    "    from src.extraction_utils import get_diputados\n",
    "    from src.common_utils import sanitize_filename\n",
    "except ImportError:\n",
    "    logging.error(\"Error: No se pudieron importar las funciones desde 'src/extraction_utils.py'.\")\n",
    "    logging.error(\"Asegúrese de mover 'estandarizar_df_diputados_x_periodo' y 'sanitize_filename' a ese archivo.\")\n",
    "    raise"
   ]
  },
  {
   "cell_type": "code",
   "execution_count": 2,
   "id": "5167df4d",
   "metadata": {},
   "outputs": [
    {
     "name": "stderr",
     "output_type": "stream",
     "text": [
      "2025-10-26 11:35:07,224 - INFO - Ruta Raíz: C:\\Users\\angel\\OneDrive\\Documents\\U\\2025-2\\Proyecto de Grado\\Legislative-Voting-Behavior-Prediction-\n",
      "2025-10-26 11:35:07,228 - INFO - Directorio de Datos Raw: C:\\Users\\angel\\OneDrive\\Documents\\U\\2025-2\\Proyecto de Grado\\Legislative-Voting-Behavior-Prediction-\\data\\01_raw\n",
      "2025-10-26 11:35:07,229 - INFO - Archivo de períodos de entrada: C:\\Users\\angel\\OneDrive\\Documents\\U\\2025-2\\Proyecto de Grado\\Legislative-Voting-Behavior-Prediction-\\data\\01_raw\\periodos_master.csv\n"
     ]
    }
   ],
   "source": [
    "# --- 1. Configuración de Rutas y Constantes ---\n",
    "\n",
    "# URL del servicio web\n",
    "WSDL_URL = \"https://opendata.camara.cl/camaradiputados/WServices/WSDiputado.asmx?WSDL\"\n",
    "\n",
    "# Rutas del proyecto\n",
    "ROOT = Path.cwd().parent\n",
    "DATA_DIR_RAW = ROOT / \"data\" / \"01_raw\"\n",
    "\n",
    "# --- Definir el ARCHIVO DE ENTRADA (Dependencia) ---\n",
    "MASTER_PERIOD_FILE = DATA_DIR_RAW / \"periodos_master.csv\"\n",
    "\n",
    "# Asegurarse que el directorio de datos exista\n",
    "DATA_DIR_RAW.mkdir(parents=True, exist_ok=True)\n",
    "\n",
    "logging.info(f\"Ruta Raíz: {ROOT}\")\n",
    "logging.info(f\"Directorio de Datos Raw: {DATA_DIR_RAW}\")\n",
    "logging.info(f\"Archivo de períodos de entrada: {MASTER_PERIOD_FILE}\")"
   ]
  },
  {
   "cell_type": "markdown",
   "id": "33562f6b",
   "metadata": {},
   "source": [
    "## 2. Carga de Dependencias\n",
    "\n",
    "Se inicializa el cliente de la API y se carga la lista maestra de períodos (`periodos_master.csv`). Si este archivo no existe, el *notebook* fallará, ya que es una dependencia crítica."
   ]
  },
  {
   "cell_type": "code",
   "execution_count": 3,
   "id": "225e07f9",
   "metadata": {},
   "outputs": [
    {
     "name": "stderr",
     "output_type": "stream",
     "text": [
      "2025-10-26 11:35:07,711 - INFO - Cliente WSDL inicializado desde: https://opendata.camara.cl/camaradiputados/WServices/WSLegislativo.asmx?WSDL\n",
      "2025-10-26 11:35:07,714 - INFO - Se cargó la lista maestra de 10 períodos.\n"
     ]
    },
    {
     "data": {
      "text/html": [
       "<div>\n",
       "<style scoped>\n",
       "    .dataframe tbody tr th:only-of-type {\n",
       "        vertical-align: middle;\n",
       "    }\n",
       "\n",
       "    .dataframe tbody tr th {\n",
       "        vertical-align: top;\n",
       "    }\n",
       "\n",
       "    .dataframe thead th {\n",
       "        text-align: right;\n",
       "    }\n",
       "</style>\n",
       "<table border=\"1\" class=\"dataframe\">\n",
       "  <thead>\n",
       "    <tr style=\"text-align: right;\">\n",
       "      <th></th>\n",
       "      <th>Id</th>\n",
       "      <th>Nombre</th>\n",
       "      <th>FechaInicio</th>\n",
       "      <th>FechaTermino</th>\n",
       "    </tr>\n",
       "  </thead>\n",
       "  <tbody>\n",
       "    <tr>\n",
       "      <th>0</th>\n",
       "      <td>7</td>\n",
       "      <td>1965-1969</td>\n",
       "      <td>1965-03-11</td>\n",
       "      <td>1969-03-11 00:00:00</td>\n",
       "    </tr>\n",
       "    <tr>\n",
       "      <th>1</th>\n",
       "      <td>1</td>\n",
       "      <td>1990-1994</td>\n",
       "      <td>1990-03-11</td>\n",
       "      <td>1994-03-10 00:00:00</td>\n",
       "    </tr>\n",
       "    <tr>\n",
       "      <th>2</th>\n",
       "      <td>2</td>\n",
       "      <td>1994-1998</td>\n",
       "      <td>1994-03-11</td>\n",
       "      <td>1998-03-10 00:00:00</td>\n",
       "    </tr>\n",
       "    <tr>\n",
       "      <th>3</th>\n",
       "      <td>3</td>\n",
       "      <td>1998-2002</td>\n",
       "      <td>1998-03-11</td>\n",
       "      <td>2002-03-10 00:00:00</td>\n",
       "    </tr>\n",
       "    <tr>\n",
       "      <th>4</th>\n",
       "      <td>4</td>\n",
       "      <td>2002-2006</td>\n",
       "      <td>2002-03-11</td>\n",
       "      <td>2006-03-10 00:00:00</td>\n",
       "    </tr>\n",
       "  </tbody>\n",
       "</table>\n",
       "</div>"
      ],
      "text/plain": [
       "   Id     Nombre FechaInicio         FechaTermino\n",
       "0   7  1965-1969  1965-03-11  1969-03-11 00:00:00\n",
       "1   1  1990-1994  1990-03-11  1994-03-10 00:00:00\n",
       "2   2  1994-1998  1994-03-11  1998-03-10 00:00:00\n",
       "3   3  1998-2002  1998-03-11  2002-03-10 00:00:00\n",
       "4   4  2002-2006  2002-03-11  2006-03-10 00:00:00"
      ]
     },
     "metadata": {},
     "output_type": "display_data"
    }
   ],
   "source": [
    "try:\n",
    "    client = Client(WSDL_URL)\n",
    "    logging.info(f\"Cliente WSDL inicializado desde: {WSDL_URL}\")\n",
    "except Exception as e:\n",
    "    logging.error(f\"ERROR: No se pudo inicializar el cliente WSDL: {e}\")\n",
    "    raise\n",
    "\n",
    "try:\n",
    "    df_periodos = pd.read_csv(MASTER_PERIOD_FILE)\n",
    "    logging.info(f\"Se cargó la lista maestra de {len(df_periodos)} períodos.\")\n",
    "    display(df_periodos.head())\n",
    "except FileNotFoundError:\n",
    "    logging.error(f\"ERROR FATAL: No se encontró el archivo de dependencia: {MASTER_PERIOD_FILE}\")\n",
    "    logging.error(\"Por favor, ejecute el notebook '00_Extraction_Periods.ipynb' primero.\")\n",
    "    raise"
   ]
  },
  {
   "cell_type": "markdown",
   "id": "36a8ae5d",
   "metadata": {},
   "source": [
    "## 3. Bucle Principal de Extracción de Diputados\n",
    "\n",
    "Iteramos sobre el `DataFrame` de períodos cargado. Para cada período, llamamos a la función de extracción (que vive en `/src`) y guardamos los resultados en la carpeta correspondiente."
   ]
  },
  {
   "cell_type": "code",
   "execution_count": 4,
   "id": "fcde0e73",
   "metadata": {},
   "outputs": [
    {
     "name": "stderr",
     "output_type": "stream",
     "text": [
      "2025-10-26 11:35:07,731 - INFO - Iniciando extracción de diputados para 10 períodos...\n",
      "2025-10-26 11:35:07,734 - INFO - Procesando Período: 7 (1965-1969)\n",
      "2025-10-26 11:35:07,735 - ERROR - ERROR al procesar período 7 (1965-1969): Service has no operation 'retornarDiputadosXPeriodo'\n",
      "2025-10-26 11:35:07,736 - INFO - Procesando Período: 1 (1990-1994)\n",
      "2025-10-26 11:35:07,737 - ERROR - ERROR al procesar período 1 (1990-1994): Service has no operation 'retornarDiputadosXPeriodo'\n",
      "2025-10-26 11:35:07,738 - INFO - Procesando Período: 2 (1994-1998)\n",
      "2025-10-26 11:35:07,738 - ERROR - ERROR al procesar período 2 (1994-1998): Service has no operation 'retornarDiputadosXPeriodo'\n",
      "2025-10-26 11:35:07,740 - INFO - Procesando Período: 3 (1998-2002)\n",
      "2025-10-26 11:35:07,740 - ERROR - ERROR al procesar período 3 (1998-2002): Service has no operation 'retornarDiputadosXPeriodo'\n",
      "2025-10-26 11:35:07,741 - INFO - Procesando Período: 4 (2002-2006)\n",
      "2025-10-26 11:35:07,741 - ERROR - ERROR al procesar período 4 (2002-2006): Service has no operation 'retornarDiputadosXPeriodo'\n",
      "2025-10-26 11:35:07,742 - INFO - Procesando Período: 5 (2006-2010)\n",
      "2025-10-26 11:35:07,743 - ERROR - ERROR al procesar período 5 (2006-2010): Service has no operation 'retornarDiputadosXPeriodo'\n",
      "2025-10-26 11:35:07,744 - INFO - Procesando Período: 6 (2010-2014)\n",
      "2025-10-26 11:35:07,744 - ERROR - ERROR al procesar período 6 (2010-2014): Service has no operation 'retornarDiputadosXPeriodo'\n",
      "2025-10-26 11:35:07,745 - INFO - Procesando Período: 8 (2014-2018)\n",
      "2025-10-26 11:35:07,746 - ERROR - ERROR al procesar período 8 (2014-2018): Service has no operation 'retornarDiputadosXPeriodo'\n",
      "2025-10-26 11:35:07,747 - INFO - Procesando Período: 9 (2018-2022)\n",
      "2025-10-26 11:35:07,748 - ERROR - ERROR al procesar período 9 (2018-2022): Service has no operation 'retornarDiputadosXPeriodo'\n",
      "2025-10-26 11:35:07,749 - INFO - Procesando Período: 10 (2022-2026)\n",
      "2025-10-26 11:35:07,750 - ERROR - ERROR al procesar período 10 (2022-2026): Service has no operation 'retornarDiputadosXPeriodo'\n",
      "2025-10-26 11:35:07,750 - INFO - --- Extracción de diputados finalizada ---\n"
     ]
    }
   ],
   "source": [
    "logging.info(f\"Iniciando extracción de diputados para {len(df_periodos)} períodos...\")\n",
    "\n",
    "for row in df_periodos.itertuples():\n",
    "    pid = row.Id\n",
    "    nombre_periodo = row.Nombre\n",
    "    \n",
    "    logging.info(f\"Procesando Período: {pid} ({nombre_periodo})\")\n",
    "    \n",
    "    try:\n",
    "        # 1. Llamar a la función de lógica\n",
    "        # Esta función (ahora en /src) debe contener la lógica de\n",
    "        # 'get_diputados_periodo' y la estandarización/fusión.\n",
    "        df_diputados = get_diputados(client, pid)\n",
    "\n",
    "        # 2. Crear carpeta de salida\n",
    "        nombre_carpeta = sanitize_filename(nombre_periodo)\n",
    "        carpeta_salida = DATA_DIR_RAW / nombre_carpeta\n",
    "        carpeta_salida.mkdir(parents=True, exist_ok=True)\n",
    "\n",
    "        # 3. Definir y guardar archivo de salida\n",
    "        ruta_salida = carpeta_salida / \"diputados.csv\"\n",
    "        \n",
    "        # Ordenar para consistencia\n",
    "        df_diputados_sorted = df_diputados.sort_values(by=[\"Diputado.Id\"])\n",
    "        \n",
    "        df_diputados_sorted.to_csv(ruta_salida, index=False, encoding=\"utf-8\")\n",
    "        \n",
    "        logging.info(f\"Guardado exitosamente: {ruta_salida} ({len(df_diputados)} diputados)\")\n",
    "\n",
    "    except Exception as e:\n",
    "        logging.error(f\"ERROR al procesar período {pid} ({nombre_periodo}): {e}\")\n",
    "\n",
    "logging.info(\"--- Extracción de diputados finalizada ---\")"
   ]
  }
 ],
 "metadata": {
  "kernelspec": {
   "display_name": "Python 3 (ipykernel)",
   "language": "python",
   "name": "python3"
  },
  "language_info": {
   "codemirror_mode": {
    "name": "ipython",
    "version": 3
   },
   "file_extension": ".py",
   "mimetype": "text/x-python",
   "name": "python",
   "nbconvert_exporter": "python",
   "pygments_lexer": "ipython3",
   "version": "3.11.5"
  }
 },
 "nbformat": 4,
 "nbformat_minor": 5
}
