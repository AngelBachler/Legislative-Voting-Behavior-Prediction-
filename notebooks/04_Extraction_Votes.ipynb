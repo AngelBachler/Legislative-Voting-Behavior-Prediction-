{
 "cells": [
  {
   "cell_type": "markdown",
   "id": "8918a78d",
   "metadata": {},
   "source": [
    "# 04: Extracción de Votaciones (Detalle)\n",
    "\n",
    "**Propósito:** Este *notebook* extrae el historial detallado de todas las votaciones (`roll-call data`) para cada período legislativo.\n",
    "\n",
    "**Dependencias:**\n",
    "* `data/01_raw/periodos_master.csv`: La lista maestra de períodos.\n",
    "\n",
    "**Salidas (Artifacts):**\n",
    "* `data/01_raw/[periodo]/detalle.csv`: Un archivo CSV por período que contiene el detalle de cada voto (quién, qué, cómo votó) en cada votación."
   ]
  },
  {
   "cell_type": "code",
   "execution_count": 1,
   "id": "c418d1e9",
   "metadata": {},
   "outputs": [],
   "source": [
    "import pandas as pd\n",
    "from pathlib import Path\n",
    "import sys\n",
    "import logging\n",
    "from tqdm.notebook import tqdm # Para barras de progreso\n",
    "\n",
    "# --- Configurar Logging ---\n",
    "logging.basicConfig(level=logging.INFO, format='%(asctime)s - %(levelname)s - %(message)s')\n",
    "\n",
    "# --- Importar lógica personalizada de /src ---\n",
    "sys.path.append('../') \n",
    "try:\n",
    "    # Asumimos que 'sanitize_filename' está en un módulo común\n",
    "    from src.common_utils import sanitize_filename\n",
    "    # Importamos la función orquestadora principal de nuestro NUEVO módulo\n",
    "    from src.vote_utils import build_detalle_periodo \n",
    "except ImportError as e:\n",
    "    logging.error(f\"ERROR: No se pudieron importar las funciones desde /src. {e}\")\n",
    "    logging.error(\"Asegúrese de que 'src/common_utils.py' y 'src/vote_utils.py' existan.\")\n",
    "    raise\n",
    "\n",
    "# Registrar 'tqdm' con pandas\n",
    "tqdm.pandas()"
   ]
  },
  {
   "cell_type": "code",
   "execution_count": 2,
   "id": "cfb43b20",
   "metadata": {},
   "outputs": [
    {
     "name": "stderr",
     "output_type": "stream",
     "text": [
      "2025-10-26 11:45:00,951 - INFO - Ruta Raíz: C:\\Users\\angel\\OneDrive\\Documents\\U\\2025-2\\Proyecto de Grado\\Legislative-Voting-Behavior-Prediction-\n",
      "2025-10-26 11:45:00,955 - INFO - Directorio de Datos Raw: C:\\Users\\angel\\OneDrive\\Documents\\U\\2025-2\\Proyecto de Grado\\Legislative-Voting-Behavior-Prediction-\\data\\01_raw\n"
     ]
    }
   ],
   "source": [
    "# --- 1. Configuración de Rutas y Constantes ---\n",
    "ROOT = Path.cwd().parent\n",
    "DATA_DIR_RAW = ROOT / \"data\" / \"01_raw\"\n",
    "\n",
    "# --- Definir el ARCHIVO DE ENTRADA (Dependencia) ---\n",
    "MASTER_PERIOD_FILE = DATA_DIR_RAW / \"periodos_master.csv\"\n",
    "\n",
    "logging.info(f\"Ruta Raíz: {ROOT}\")\n",
    "logging.info(f\"Directorio de Datos Raw: {DATA_DIR_RAW}\")"
   ]
  },
  {
   "cell_type": "markdown",
   "id": "d294f1d1",
   "metadata": {},
   "source": [
    "## 2. Carga de Dependencias (Períodos)\n",
    "\n",
    "Cargamos la lista maestra de períodos. La función de extracción (`build_detalle_periodo`) itera internamente usando el nombre del período."
   ]
  },
  {
   "cell_type": "code",
   "execution_count": 3,
   "id": "64e66f92",
   "metadata": {},
   "outputs": [
    {
     "name": "stderr",
     "output_type": "stream",
     "text": [
      "2025-10-26 11:45:00,968 - INFO - ✓ Se cargó la lista maestra de 10 períodos.\n"
     ]
    },
    {
     "data": {
      "text/html": [
       "<div>\n",
       "<style scoped>\n",
       "    .dataframe tbody tr th:only-of-type {\n",
       "        vertical-align: middle;\n",
       "    }\n",
       "\n",
       "    .dataframe tbody tr th {\n",
       "        vertical-align: top;\n",
       "    }\n",
       "\n",
       "    .dataframe thead th {\n",
       "        text-align: right;\n",
       "    }\n",
       "</style>\n",
       "<table border=\"1\" class=\"dataframe\">\n",
       "  <thead>\n",
       "    <tr style=\"text-align: right;\">\n",
       "      <th></th>\n",
       "      <th>Id</th>\n",
       "      <th>Nombre</th>\n",
       "      <th>FechaInicio</th>\n",
       "      <th>FechaTermino</th>\n",
       "    </tr>\n",
       "  </thead>\n",
       "  <tbody>\n",
       "    <tr>\n",
       "      <th>0</th>\n",
       "      <td>7</td>\n",
       "      <td>1965-1969</td>\n",
       "      <td>1965-03-11</td>\n",
       "      <td>1969-03-11 00:00:00</td>\n",
       "    </tr>\n",
       "    <tr>\n",
       "      <th>1</th>\n",
       "      <td>1</td>\n",
       "      <td>1990-1994</td>\n",
       "      <td>1990-03-11</td>\n",
       "      <td>1994-03-10 00:00:00</td>\n",
       "    </tr>\n",
       "    <tr>\n",
       "      <th>2</th>\n",
       "      <td>2</td>\n",
       "      <td>1994-1998</td>\n",
       "      <td>1994-03-11</td>\n",
       "      <td>1998-03-10 00:00:00</td>\n",
       "    </tr>\n",
       "    <tr>\n",
       "      <th>3</th>\n",
       "      <td>3</td>\n",
       "      <td>1998-2002</td>\n",
       "      <td>1998-03-11</td>\n",
       "      <td>2002-03-10 00:00:00</td>\n",
       "    </tr>\n",
       "    <tr>\n",
       "      <th>4</th>\n",
       "      <td>4</td>\n",
       "      <td>2002-2006</td>\n",
       "      <td>2002-03-11</td>\n",
       "      <td>2006-03-10 00:00:00</td>\n",
       "    </tr>\n",
       "  </tbody>\n",
       "</table>\n",
       "</div>"
      ],
      "text/plain": [
       "   Id     Nombre FechaInicio         FechaTermino\n",
       "0   7  1965-1969  1965-03-11  1969-03-11 00:00:00\n",
       "1   1  1990-1994  1990-03-11  1994-03-10 00:00:00\n",
       "2   2  1994-1998  1994-03-11  1998-03-10 00:00:00\n",
       "3   3  1998-2002  1998-03-11  2002-03-10 00:00:00\n",
       "4   4  2002-2006  2002-03-11  2006-03-10 00:00:00"
      ]
     },
     "metadata": {},
     "output_type": "display_data"
    }
   ],
   "source": [
    "try:\n",
    "    df_periodos = pd.read_csv(MASTER_PERIOD_FILE)\n",
    "    logging.info(f\"✓ Se cargó la lista maestra de {len(df_periodos)} períodos.\")\n",
    "    display(df_periodos.head())\n",
    "except FileNotFoundError as e:\n",
    "    logging.error(f\"✗ ERROR FATAL: No se encontró el archivo de dependencia: {MASTER_PERIOD_FILE}\")\n",
    "    logging.error(\"Por favor, ejecute el notebook '00_Extraction_Periods.ipynb' primero.\")\n",
    "    raise"
   ]
  },
  {
   "cell_type": "markdown",
   "id": "436a8b52",
   "metadata": {},
   "source": [
    "## 3. Bucle Principal de Extracción de Votos\n",
    "\n",
    "Iteramos sobre cada período y llamamos a la función orquestadora `build_detalle_periodo` (que vive en `src/vote_utils.py`). Esta es la parte más lenta del *pipeline*."
   ]
  },
  {
   "cell_type": "code",
   "execution_count": 4,
   "id": "7b6b366e",
   "metadata": {},
   "outputs": [
    {
     "name": "stderr",
     "output_type": "stream",
     "text": [
      "2025-10-26 11:45:00,993 - INFO - Iniciando extracción de votaciones para 10 períodos...\n"
     ]
    },
    {
     "data": {
      "application/vnd.jupyter.widget-view+json": {
       "model_id": "a2639b9fbf6143779eddb869065ff0d4",
       "version_major": 2,
       "version_minor": 0
      },
      "text/plain": [
       "Procesando Períodos:   0%|          | 0/10 [00:00<?, ?it/s]"
      ]
     },
     "metadata": {},
     "output_type": "display_data"
    },
    {
     "name": "stderr",
     "output_type": "stream",
     "text": [
      "2025-10-26 11:45:01,026 - INFO - --- Procesando Período: 1965-1969 ---\n",
      "2025-10-26 11:45:01,028 - INFO - Llamando a build_detalle_periodo... (Esto puede tardar horas)\n"
     ]
    },
    {
     "data": {
      "application/vnd.jupyter.widget-view+json": {
       "model_id": "c129564b567e43b8970ec17259ed1e29",
       "version_major": 2,
       "version_minor": 0
      },
      "text/plain": [
       "  0%|          | 0/5 [00:00<?, ?it/s]"
      ]
     },
     "metadata": {},
     "output_type": "display_data"
    },
    {
     "name": "stderr",
     "output_type": "stream",
     "text": [
      "2025-10-26 11:45:01,479 - INFO - Procesando año: 1965\n",
      "2025-10-26 11:45:01,515 - INFO - Procesando año: 1966\n",
      "2025-10-26 11:45:01,545 - INFO - Procesando año: 1967\n",
      "2025-10-26 11:45:01,575 - INFO - Procesando año: 1968\n",
      "2025-10-26 11:45:01,614 - INFO - Procesando año: 1969\n",
      "2025-10-26 11:45:01,651 - ERROR - ERROR FATAL al procesar período 1965-1969: No objects to concatenate\n",
      "Traceback (most recent call last):\n",
      "  File \"C:\\Users\\angel\\AppData\\Local\\Temp\\ipykernel_16608\\110925791.py\", line 26, in <module>\n",
      "    df_out = build_detalle_periodo(nombre_periodo)\n",
      "             ^^^^^^^^^^^^^^^^^^^^^^^^^^^^^^^^^^^^^\n",
      "  File \"C:\\Users\\angel\\OneDrive\\Documents\\U\\2025-2\\Proyecto de Grado\\Legislative-Voting-Behavior-Prediction-\\notebooks\\..\\src\\vote_utils.py\", line 52, in build_detalle_periodo\n",
      "    detalles_periodo_df = pd.concat(detalles_list, ignore_index=True)\n",
      "                          ^^^^^^^^^^^^^^^^^^^^^^^^^^^^^^^^^^^^^^^^^^^\n",
      "  File \"C:\\Users\\angel\\anaconda3\\Lib\\site-packages\\pandas\\core\\reshape\\concat.py\", line 380, in concat\n",
      "    op = _Concatenator(\n",
      "         ^^^^^^^^^^^^^^\n",
      "  File \"C:\\Users\\angel\\anaconda3\\Lib\\site-packages\\pandas\\core\\reshape\\concat.py\", line 443, in __init__\n",
      "    objs, keys = self._clean_keys_and_objs(objs, keys)\n",
      "                 ^^^^^^^^^^^^^^^^^^^^^^^^^^^^^^^^^^^^^\n",
      "  File \"C:\\Users\\angel\\anaconda3\\Lib\\site-packages\\pandas\\core\\reshape\\concat.py\", line 505, in _clean_keys_and_objs\n",
      "    raise ValueError(\"No objects to concatenate\")\n",
      "ValueError: No objects to concatenate\n",
      "2025-10-26 11:45:01,655 - INFO - --- Procesando Período: 1990-1994 ---\n",
      "2025-10-26 11:45:01,656 - INFO - Llamando a build_detalle_periodo... (Esto puede tardar horas)\n"
     ]
    },
    {
     "data": {
      "application/vnd.jupyter.widget-view+json": {
       "model_id": "d4f3dc9370254d19aa2332d4f3f9015b",
       "version_major": 2,
       "version_minor": 0
      },
      "text/plain": [
       "  0%|          | 0/5 [00:00<?, ?it/s]"
      ]
     },
     "metadata": {},
     "output_type": "display_data"
    },
    {
     "name": "stderr",
     "output_type": "stream",
     "text": [
      "2025-10-26 11:45:02,101 - INFO - Procesando año: 1990\n",
      "2025-10-26 11:45:02,140 - INFO - Procesando año: 1991\n",
      "2025-10-26 11:45:02,179 - INFO - Procesando año: 1992\n",
      "2025-10-26 11:45:02,220 - INFO - Procesando año: 1993\n",
      "2025-10-26 11:45:02,253 - INFO - Procesando año: 1994\n",
      "2025-10-26 11:45:02,293 - ERROR - ERROR FATAL al procesar período 1990-1994: No objects to concatenate\n",
      "Traceback (most recent call last):\n",
      "  File \"C:\\Users\\angel\\AppData\\Local\\Temp\\ipykernel_16608\\110925791.py\", line 26, in <module>\n",
      "    df_out = build_detalle_periodo(nombre_periodo)\n",
      "             ^^^^^^^^^^^^^^^^^^^^^^^^^^^^^^^^^^^^^\n",
      "  File \"C:\\Users\\angel\\OneDrive\\Documents\\U\\2025-2\\Proyecto de Grado\\Legislative-Voting-Behavior-Prediction-\\notebooks\\..\\src\\vote_utils.py\", line 52, in build_detalle_periodo\n",
      "    detalles_periodo_df = pd.concat(detalles_list, ignore_index=True)\n",
      "                          ^^^^^^^^^^^^^^^^^^^^^^^^^^^^^^^^^^^^^^^^^^^\n",
      "  File \"C:\\Users\\angel\\anaconda3\\Lib\\site-packages\\pandas\\core\\reshape\\concat.py\", line 380, in concat\n",
      "    op = _Concatenator(\n",
      "         ^^^^^^^^^^^^^^\n",
      "  File \"C:\\Users\\angel\\anaconda3\\Lib\\site-packages\\pandas\\core\\reshape\\concat.py\", line 443, in __init__\n",
      "    objs, keys = self._clean_keys_and_objs(objs, keys)\n",
      "                 ^^^^^^^^^^^^^^^^^^^^^^^^^^^^^^^^^^^^^\n",
      "  File \"C:\\Users\\angel\\anaconda3\\Lib\\site-packages\\pandas\\core\\reshape\\concat.py\", line 505, in _clean_keys_and_objs\n",
      "    raise ValueError(\"No objects to concatenate\")\n",
      "ValueError: No objects to concatenate\n",
      "2025-10-26 11:45:02,296 - INFO - --- Procesando Período: 1994-1998 ---\n",
      "2025-10-26 11:45:02,297 - INFO - Llamando a build_detalle_periodo... (Esto puede tardar horas)\n"
     ]
    },
    {
     "data": {
      "application/vnd.jupyter.widget-view+json": {
       "model_id": "7b3971edca584a758254289e8ef9d766",
       "version_major": 2,
       "version_minor": 0
      },
      "text/plain": [
       "  0%|          | 0/5 [00:00<?, ?it/s]"
      ]
     },
     "metadata": {},
     "output_type": "display_data"
    },
    {
     "name": "stderr",
     "output_type": "stream",
     "text": [
      "2025-10-26 11:45:02,709 - INFO - Procesando año: 1994\n",
      "2025-10-26 11:45:02,745 - INFO - Procesando año: 1995\n",
      "2025-10-26 11:45:02,783 - INFO - Procesando año: 1996\n",
      "2025-10-26 11:45:02,820 - INFO - Procesando año: 1997\n",
      "2025-10-26 11:45:02,856 - INFO - Procesando año: 1998\n",
      "2025-10-26 11:45:02,893 - ERROR - ERROR FATAL al procesar período 1994-1998: No objects to concatenate\n",
      "Traceback (most recent call last):\n",
      "  File \"C:\\Users\\angel\\AppData\\Local\\Temp\\ipykernel_16608\\110925791.py\", line 26, in <module>\n",
      "    df_out = build_detalle_periodo(nombre_periodo)\n",
      "             ^^^^^^^^^^^^^^^^^^^^^^^^^^^^^^^^^^^^^\n",
      "  File \"C:\\Users\\angel\\OneDrive\\Documents\\U\\2025-2\\Proyecto de Grado\\Legislative-Voting-Behavior-Prediction-\\notebooks\\..\\src\\vote_utils.py\", line 52, in build_detalle_periodo\n",
      "    detalles_periodo_df = pd.concat(detalles_list, ignore_index=True)\n",
      "                          ^^^^^^^^^^^^^^^^^^^^^^^^^^^^^^^^^^^^^^^^^^^\n",
      "  File \"C:\\Users\\angel\\anaconda3\\Lib\\site-packages\\pandas\\core\\reshape\\concat.py\", line 380, in concat\n",
      "    op = _Concatenator(\n",
      "         ^^^^^^^^^^^^^^\n",
      "  File \"C:\\Users\\angel\\anaconda3\\Lib\\site-packages\\pandas\\core\\reshape\\concat.py\", line 443, in __init__\n",
      "    objs, keys = self._clean_keys_and_objs(objs, keys)\n",
      "                 ^^^^^^^^^^^^^^^^^^^^^^^^^^^^^^^^^^^^^\n",
      "  File \"C:\\Users\\angel\\anaconda3\\Lib\\site-packages\\pandas\\core\\reshape\\concat.py\", line 505, in _clean_keys_and_objs\n",
      "    raise ValueError(\"No objects to concatenate\")\n",
      "ValueError: No objects to concatenate\n",
      "2025-10-26 11:45:02,896 - INFO - --- Procesando Período: 1998-2002 ---\n",
      "2025-10-26 11:45:02,897 - INFO - Llamando a build_detalle_periodo... (Esto puede tardar horas)\n"
     ]
    },
    {
     "data": {
      "application/vnd.jupyter.widget-view+json": {
       "model_id": "0136bd6cd3964901ae5fd21c862c718f",
       "version_major": 2,
       "version_minor": 0
      },
      "text/plain": [
       "  0%|          | 0/5 [00:00<?, ?it/s]"
      ]
     },
     "metadata": {},
     "output_type": "display_data"
    },
    {
     "name": "stderr",
     "output_type": "stream",
     "text": [
      "2025-10-26 11:45:03,309 - INFO - Procesando año: 1998\n",
      "2025-10-26 11:45:03,347 - INFO - Procesando año: 1999\n",
      "2025-10-26 11:45:03,385 - INFO - Procesando año: 2000\n",
      "2025-10-26 11:45:03,419 - INFO - Procesando año: 2001\n",
      "2025-10-26 11:45:03,455 - INFO - Procesando año: 2002\n"
     ]
    },
    {
     "data": {
      "application/vnd.jupyter.widget-view+json": {
       "model_id": "f1ccd529cbf6427782359e4e6e51d7fb",
       "version_major": 2,
       "version_minor": 0
      },
      "text/plain": [
       "  0%|          | 0/454 [00:00<?, ?it/s]"
      ]
     },
     "metadata": {},
     "output_type": "display_data"
    },
    {
     "name": "stderr",
     "output_type": "stream",
     "text": [
      "2025-10-26 11:45:25,018 - INFO - Guardado exitosamente: C:\\Users\\angel\\OneDrive\\Documents\\U\\2025-2\\Proyecto de Grado\\Legislative-Voting-Behavior-Prediction-\\data\\01_raw\\1998-2002\\detalle.csv (35934 filas)\n",
      "2025-10-26 11:45:25,019 - INFO - --- Procesando Período: 2002-2006 ---\n",
      "2025-10-26 11:45:25,021 - INFO - Llamando a build_detalle_periodo... (Esto puede tardar horas)\n"
     ]
    },
    {
     "data": {
      "application/vnd.jupyter.widget-view+json": {
       "model_id": "9dcd07e48d2c404ca545966b64be29ea",
       "version_major": 2,
       "version_minor": 0
      },
      "text/plain": [
       "  0%|          | 0/5 [00:00<?, ?it/s]"
      ]
     },
     "metadata": {},
     "output_type": "display_data"
    },
    {
     "name": "stderr",
     "output_type": "stream",
     "text": [
      "2025-10-26 11:45:25,405 - INFO - Procesando año: 2002\n"
     ]
    },
    {
     "data": {
      "application/vnd.jupyter.widget-view+json": {
       "model_id": "70e522726c284bd3930c86a770f54460",
       "version_major": 2,
       "version_minor": 0
      },
      "text/plain": [
       "  0%|          | 0/454 [00:00<?, ?it/s]"
      ]
     },
     "metadata": {},
     "output_type": "display_data"
    },
    {
     "name": "stderr",
     "output_type": "stream",
     "text": [
      "2025-10-26 11:45:46,547 - INFO - Procesando año: 2003\n"
     ]
    },
    {
     "data": {
      "application/vnd.jupyter.widget-view+json": {
       "model_id": "4170dfc93b8441bcbabe835e4b2fe9c1",
       "version_major": 2,
       "version_minor": 0
      },
      "text/plain": [
       "  0%|          | 0/706 [00:00<?, ?it/s]"
      ]
     },
     "metadata": {},
     "output_type": "display_data"
    },
    {
     "name": "stderr",
     "output_type": "stream",
     "text": [
      "2025-10-26 11:46:18,745 - INFO - Procesando año: 2004\n"
     ]
    },
    {
     "data": {
      "application/vnd.jupyter.widget-view+json": {
       "model_id": "569142c715a84fadbbfb0e8c59006a96",
       "version_major": 2,
       "version_minor": 0
      },
      "text/plain": [
       "  0%|          | 0/719 [00:00<?, ?it/s]"
      ]
     },
     "metadata": {},
     "output_type": "display_data"
    },
    {
     "name": "stderr",
     "output_type": "stream",
     "text": [
      "2025-10-26 11:46:53,189 - INFO - Procesando año: 2005\n"
     ]
    },
    {
     "data": {
      "application/vnd.jupyter.widget-view+json": {
       "model_id": "31978cb5d01546faa1e33cb556d32744",
       "version_major": 2,
       "version_minor": 0
      },
      "text/plain": [
       "  0%|          | 0/569 [00:00<?, ?it/s]"
      ]
     },
     "metadata": {},
     "output_type": "display_data"
    },
    {
     "name": "stderr",
     "output_type": "stream",
     "text": [
      "2025-10-26 11:47:18,638 - INFO - Procesando año: 2006\n"
     ]
    },
    {
     "data": {
      "application/vnd.jupyter.widget-view+json": {
       "model_id": "c3ff88c6dcfa4c57b5cd7af562f5fb1c",
       "version_major": 2,
       "version_minor": 0
      },
      "text/plain": [
       "  0%|          | 0/731 [00:00<?, ?it/s]"
      ]
     },
     "metadata": {},
     "output_type": "display_data"
    },
    {
     "name": "stderr",
     "output_type": "stream",
     "text": [
      "2025-10-26 11:47:56,596 - INFO - Guardado exitosamente: C:\\Users\\angel\\OneDrive\\Documents\\U\\2025-2\\Proyecto de Grado\\Legislative-Voting-Behavior-Prediction-\\data\\01_raw\\2002-2006\\detalle.csv (256640 filas)\n",
      "2025-10-26 11:47:56,598 - INFO - --- Procesando Período: 2006-2010 ---\n",
      "2025-10-26 11:47:56,599 - INFO - Llamando a build_detalle_periodo... (Esto puede tardar horas)\n"
     ]
    },
    {
     "data": {
      "application/vnd.jupyter.widget-view+json": {
       "model_id": "8ee3a0ea786e45149ae18d4b4d8efa5b",
       "version_major": 2,
       "version_minor": 0
      },
      "text/plain": [
       "  0%|          | 0/5 [00:00<?, ?it/s]"
      ]
     },
     "metadata": {},
     "output_type": "display_data"
    },
    {
     "name": "stderr",
     "output_type": "stream",
     "text": [
      "2025-10-26 11:47:57,004 - INFO - Procesando año: 2006\n"
     ]
    },
    {
     "data": {
      "application/vnd.jupyter.widget-view+json": {
       "model_id": "c1eaf0844faf4fbeb0e4eadc8b60f6e3",
       "version_major": 2,
       "version_minor": 0
      },
      "text/plain": [
       "  0%|          | 0/731 [00:00<?, ?it/s]"
      ]
     },
     "metadata": {},
     "output_type": "display_data"
    },
    {
     "name": "stderr",
     "output_type": "stream",
     "text": [
      "2025-10-26 11:48:30,464 - INFO - Procesando año: 2007\n"
     ]
    },
    {
     "data": {
      "application/vnd.jupyter.widget-view+json": {
       "model_id": "5d28badaba764f42b127d4e58f3c6a78",
       "version_major": 2,
       "version_minor": 0
      },
      "text/plain": [
       "  0%|          | 0/803 [00:00<?, ?it/s]"
      ]
     },
     "metadata": {},
     "output_type": "display_data"
    },
    {
     "name": "stderr",
     "output_type": "stream",
     "text": [
      "2025-10-26 11:49:06,564 - INFO - Procesando año: 2008\n"
     ]
    },
    {
     "data": {
      "application/vnd.jupyter.widget-view+json": {
       "model_id": "f10c22eeec144623be2e5c7dbbf7c282",
       "version_major": 2,
       "version_minor": 0
      },
      "text/plain": [
       "  0%|          | 0/830 [00:00<?, ?it/s]"
      ]
     },
     "metadata": {},
     "output_type": "display_data"
    },
    {
     "name": "stderr",
     "output_type": "stream",
     "text": [
      "2025-10-26 11:49:42,629 - INFO - Procesando año: 2009\n"
     ]
    },
    {
     "data": {
      "application/vnd.jupyter.widget-view+json": {
       "model_id": "6d72003a1bc243d2a58cea4037c69c0e",
       "version_major": 2,
       "version_minor": 0
      },
      "text/plain": [
       "  0%|          | 0/638 [00:00<?, ?it/s]"
      ]
     },
     "metadata": {},
     "output_type": "display_data"
    },
    {
     "name": "stderr",
     "output_type": "stream",
     "text": [
      "2025-10-26 11:49:57,272 - WARNING - Error en votacion 3086: 'Votos.Voto'\n",
      "2025-10-26 11:49:58,313 - WARNING - Error en votacion 13889: 'Votos.Voto'\n",
      "2025-10-26 11:50:02,909 - WARNING - Error en votacion 1788: 'Votos.Voto'\n",
      "2025-10-26 11:50:10,800 - INFO - Procesando año: 2010\n"
     ]
    },
    {
     "data": {
      "application/vnd.jupyter.widget-view+json": {
       "model_id": "3e042d961b7845ffbce41a894b14ac36",
       "version_major": 2,
       "version_minor": 0
      },
      "text/plain": [
       "  0%|          | 0/963 [00:00<?, ?it/s]"
      ]
     },
     "metadata": {},
     "output_type": "display_data"
    },
    {
     "ename": "KeyboardInterrupt",
     "evalue": "",
     "output_type": "error",
     "traceback": [
      "\u001b[1;31m---------------------------------------------------------------------------\u001b[0m",
      "\u001b[1;31mKeyboardInterrupt\u001b[0m                         Traceback (most recent call last)",
      "Cell \u001b[1;32mIn[4], line 26\u001b[0m\n\u001b[0;32m     22\u001b[0m \u001b[38;5;28;01mtry\u001b[39;00m:\n\u001b[0;32m     23\u001b[0m     \u001b[38;5;66;03m# 1. Llamar a la lógica compleja (que está en /src)\u001b[39;00m\n\u001b[0;32m     24\u001b[0m     \u001b[38;5;66;03m# Esta función debe contener los 'Client' de zeep y toda la lógica\u001b[39;00m\n\u001b[0;32m     25\u001b[0m     logging\u001b[38;5;241m.\u001b[39minfo(\u001b[38;5;124m\"\u001b[39m\u001b[38;5;124mLlamando a build_detalle_periodo... (Esto puede tardar horas)\u001b[39m\u001b[38;5;124m\"\u001b[39m)\n\u001b[1;32m---> 26\u001b[0m     df_out \u001b[38;5;241m=\u001b[39m build_detalle_periodo(nombre_periodo)\n\u001b[0;32m     28\u001b[0m     \u001b[38;5;28;01mif\u001b[39;00m df_out \u001b[38;5;129;01mis\u001b[39;00m \u001b[38;5;28;01mNone\u001b[39;00m \u001b[38;5;129;01mor\u001b[39;00m df_out\u001b[38;5;241m.\u001b[39mempty:\n\u001b[0;32m     29\u001b[0m         logging\u001b[38;5;241m.\u001b[39mwarning(\u001b[38;5;124mf\u001b[39m\u001b[38;5;124m\"\u001b[39m\u001b[38;5;124mNo se generaron datos para el período \u001b[39m\u001b[38;5;132;01m{\u001b[39;00mnombre_periodo\u001b[38;5;132;01m}\u001b[39;00m\u001b[38;5;124m. Archivo NO creado.\u001b[39m\u001b[38;5;124m\"\u001b[39m)\n",
      "File \u001b[1;32m~\\OneDrive\\Documents\\U\\2025-2\\Proyecto de Grado\\Legislative-Voting-Behavior-Prediction-\\notebooks\\..\\src\\vote_utils.py:45\u001b[0m, in \u001b[0;36mbuild_detalle_periodo\u001b[1;34m(nombre_periodo)\u001b[0m\n\u001b[0;32m     43\u001b[0m \u001b[38;5;28;01mfor\u001b[39;00m idx \u001b[38;5;129;01min\u001b[39;00m tqdm(df_votaciones[\u001b[38;5;124m\"\u001b[39m\u001b[38;5;124mId\u001b[39m\u001b[38;5;124m\"\u001b[39m]\u001b[38;5;241m.\u001b[39munique()):\n\u001b[0;32m     44\u001b[0m     \u001b[38;5;28;01mtry\u001b[39;00m:\n\u001b[1;32m---> 45\u001b[0m         df_detalle \u001b[38;5;241m=\u001b[39m get_detalle(client, idx)\n\u001b[0;32m     46\u001b[0m         detalles_list\u001b[38;5;241m.\u001b[39mappend(df_detalle)\n\u001b[0;32m     47\u001b[0m     \u001b[38;5;28;01mexcept\u001b[39;00m \u001b[38;5;167;01mException\u001b[39;00m \u001b[38;5;28;01mas\u001b[39;00m e:\n",
      "File \u001b[1;32m~\\OneDrive\\Documents\\U\\2025-2\\Proyecto de Grado\\Legislative-Voting-Behavior-Prediction-\\notebooks\\..\\src\\vote_utils.py:18\u001b[0m, in \u001b[0;36mget_detalle\u001b[1;34m(client, idx)\u001b[0m\n\u001b[0;32m     16\u001b[0m res \u001b[38;5;241m=\u001b[39m client\u001b[38;5;241m.\u001b[39mservice\u001b[38;5;241m.\u001b[39mretornarVotacionDetalle(idx)\n\u001b[0;32m     17\u001b[0m \u001b[38;5;28;01mif\u001b[39;00m res:\n\u001b[1;32m---> 18\u001b[0m     d \u001b[38;5;241m=\u001b[39m safe_serialize(res) \u001b[38;5;129;01mor\u001b[39;00m {}\n\u001b[0;32m     19\u001b[0m     df \u001b[38;5;241m=\u001b[39m json_normalize(d)\n\u001b[0;32m     20\u001b[0m     df_explode \u001b[38;5;241m=\u001b[39m df\u001b[38;5;241m.\u001b[39mexplode([\u001b[38;5;124m\"\u001b[39m\u001b[38;5;124mVotos.Voto\u001b[39m\u001b[38;5;124m\"\u001b[39m], ignore_index\u001b[38;5;241m=\u001b[39m\u001b[38;5;28;01mTrue\u001b[39;00m)\n",
      "File \u001b[1;32m~\\OneDrive\\Documents\\U\\2025-2\\Proyecto de Grado\\Legislative-Voting-Behavior-Prediction-\\notebooks\\..\\src\\common_utils.py:48\u001b[0m, in \u001b[0;36msafe_serialize\u001b[1;34m(obj)\u001b[0m\n\u001b[0;32m     46\u001b[0m     ser \u001b[38;5;241m=\u001b[39m serialize_object(obj)\n\u001b[0;32m     47\u001b[0m     \u001b[38;5;28;01mif\u001b[39;00m ser \u001b[38;5;129;01mis\u001b[39;00m \u001b[38;5;129;01mnot\u001b[39;00m \u001b[38;5;28;01mNone\u001b[39;00m:\n\u001b[1;32m---> 48\u001b[0m         \u001b[38;5;28;01mreturn\u001b[39;00m safe_serialize(ser)  \u001b[38;5;66;03m# recursivo por si hay anidaciones\u001b[39;00m\n\u001b[0;32m     49\u001b[0m \u001b[38;5;28;01mexcept\u001b[39;00m \u001b[38;5;167;01mException\u001b[39;00m:\n\u001b[0;32m     50\u001b[0m     \u001b[38;5;28;01mpass\u001b[39;00m\n",
      "File \u001b[1;32m~\\OneDrive\\Documents\\U\\2025-2\\Proyecto de Grado\\Legislative-Voting-Behavior-Prediction-\\notebooks\\..\\src\\common_utils.py:41\u001b[0m, in \u001b[0;36msafe_serialize\u001b[1;34m(obj)\u001b[0m\n\u001b[0;32m     39\u001b[0m     \u001b[38;5;28;01mreturn\u001b[39;00m [safe_serialize(x) \u001b[38;5;28;01mfor\u001b[39;00m x \u001b[38;5;129;01min\u001b[39;00m obj]\n\u001b[0;32m     40\u001b[0m \u001b[38;5;28;01mif\u001b[39;00m \u001b[38;5;28misinstance\u001b[39m(obj, \u001b[38;5;28mdict\u001b[39m):\n\u001b[1;32m---> 41\u001b[0m     \u001b[38;5;28;01mreturn\u001b[39;00m {k: safe_serialize(v) \u001b[38;5;28;01mfor\u001b[39;00m k, v \u001b[38;5;129;01min\u001b[39;00m obj\u001b[38;5;241m.\u001b[39mitems()}\n\u001b[0;32m     43\u001b[0m \u001b[38;5;66;03m# intentar con zeep.helpers.serialize_object\u001b[39;00m\n\u001b[0;32m     44\u001b[0m \u001b[38;5;28;01mtry\u001b[39;00m:\n",
      "File \u001b[1;32m~\\OneDrive\\Documents\\U\\2025-2\\Proyecto de Grado\\Legislative-Voting-Behavior-Prediction-\\notebooks\\..\\src\\common_utils.py:41\u001b[0m, in \u001b[0;36m<dictcomp>\u001b[1;34m(.0)\u001b[0m\n\u001b[0;32m     39\u001b[0m     \u001b[38;5;28;01mreturn\u001b[39;00m [safe_serialize(x) \u001b[38;5;28;01mfor\u001b[39;00m x \u001b[38;5;129;01min\u001b[39;00m obj]\n\u001b[0;32m     40\u001b[0m \u001b[38;5;28;01mif\u001b[39;00m \u001b[38;5;28misinstance\u001b[39m(obj, \u001b[38;5;28mdict\u001b[39m):\n\u001b[1;32m---> 41\u001b[0m     \u001b[38;5;28;01mreturn\u001b[39;00m {k: safe_serialize(v) \u001b[38;5;28;01mfor\u001b[39;00m k, v \u001b[38;5;129;01min\u001b[39;00m obj\u001b[38;5;241m.\u001b[39mitems()}\n\u001b[0;32m     43\u001b[0m \u001b[38;5;66;03m# intentar con zeep.helpers.serialize_object\u001b[39;00m\n\u001b[0;32m     44\u001b[0m \u001b[38;5;28;01mtry\u001b[39;00m:\n",
      "File \u001b[1;32m~\\OneDrive\\Documents\\U\\2025-2\\Proyecto de Grado\\Legislative-Voting-Behavior-Prediction-\\notebooks\\..\\src\\common_utils.py:48\u001b[0m, in \u001b[0;36msafe_serialize\u001b[1;34m(obj)\u001b[0m\n\u001b[0;32m     46\u001b[0m     ser \u001b[38;5;241m=\u001b[39m serialize_object(obj)\n\u001b[0;32m     47\u001b[0m     \u001b[38;5;28;01mif\u001b[39;00m ser \u001b[38;5;129;01mis\u001b[39;00m \u001b[38;5;129;01mnot\u001b[39;00m \u001b[38;5;28;01mNone\u001b[39;00m:\n\u001b[1;32m---> 48\u001b[0m         \u001b[38;5;28;01mreturn\u001b[39;00m safe_serialize(ser)  \u001b[38;5;66;03m# recursivo por si hay anidaciones\u001b[39;00m\n\u001b[0;32m     49\u001b[0m \u001b[38;5;28;01mexcept\u001b[39;00m \u001b[38;5;167;01mException\u001b[39;00m:\n\u001b[0;32m     50\u001b[0m     \u001b[38;5;28;01mpass\u001b[39;00m\n",
      "File \u001b[1;32m~\\OneDrive\\Documents\\U\\2025-2\\Proyecto de Grado\\Legislative-Voting-Behavior-Prediction-\\notebooks\\..\\src\\common_utils.py:48\u001b[0m, in \u001b[0;36msafe_serialize\u001b[1;34m(obj)\u001b[0m\n\u001b[0;32m     46\u001b[0m     ser \u001b[38;5;241m=\u001b[39m serialize_object(obj)\n\u001b[0;32m     47\u001b[0m     \u001b[38;5;28;01mif\u001b[39;00m ser \u001b[38;5;129;01mis\u001b[39;00m \u001b[38;5;129;01mnot\u001b[39;00m \u001b[38;5;28;01mNone\u001b[39;00m:\n\u001b[1;32m---> 48\u001b[0m         \u001b[38;5;28;01mreturn\u001b[39;00m safe_serialize(ser)  \u001b[38;5;66;03m# recursivo por si hay anidaciones\u001b[39;00m\n\u001b[0;32m     49\u001b[0m \u001b[38;5;28;01mexcept\u001b[39;00m \u001b[38;5;167;01mException\u001b[39;00m:\n\u001b[0;32m     50\u001b[0m     \u001b[38;5;28;01mpass\u001b[39;00m\n",
      "    \u001b[1;31m[... skipping similar frames: safe_serialize at line 48 (1407 times)]\u001b[0m\n",
      "File \u001b[1;32m~\\OneDrive\\Documents\\U\\2025-2\\Proyecto de Grado\\Legislative-Voting-Behavior-Prediction-\\notebooks\\..\\src\\common_utils.py:48\u001b[0m, in \u001b[0;36msafe_serialize\u001b[1;34m(obj)\u001b[0m\n\u001b[0;32m     46\u001b[0m     ser \u001b[38;5;241m=\u001b[39m serialize_object(obj)\n\u001b[0;32m     47\u001b[0m     \u001b[38;5;28;01mif\u001b[39;00m ser \u001b[38;5;129;01mis\u001b[39;00m \u001b[38;5;129;01mnot\u001b[39;00m \u001b[38;5;28;01mNone\u001b[39;00m:\n\u001b[1;32m---> 48\u001b[0m         \u001b[38;5;28;01mreturn\u001b[39;00m safe_serialize(ser)  \u001b[38;5;66;03m# recursivo por si hay anidaciones\u001b[39;00m\n\u001b[0;32m     49\u001b[0m \u001b[38;5;28;01mexcept\u001b[39;00m \u001b[38;5;167;01mException\u001b[39;00m:\n\u001b[0;32m     50\u001b[0m     \u001b[38;5;28;01mpass\u001b[39;00m\n",
      "File \u001b[1;32m~\\OneDrive\\Documents\\U\\2025-2\\Proyecto de Grado\\Legislative-Voting-Behavior-Prediction-\\notebooks\\..\\src\\common_utils.py:30\u001b[0m, in \u001b[0;36msafe_serialize\u001b[1;34m(obj)\u001b[0m\n\u001b[0;32m     27\u001b[0m         \u001b[38;5;28;01mreturn\u001b[39;00m \u001b[38;5;124m\"\u001b[39m\u001b[38;5;124msin_periodo\u001b[39m\u001b[38;5;124m\"\u001b[39m\n\u001b[0;32m     28\u001b[0m     \u001b[38;5;28;01mreturn\u001b[39;00m re\u001b[38;5;241m.\u001b[39msub(\u001b[38;5;124mr\u001b[39m\u001b[38;5;124m\"\u001b[39m\u001b[38;5;124m[^\u001b[39m\u001b[38;5;124m\\\u001b[39m\u001b[38;5;124mw\u001b[39m\u001b[38;5;124m\\\u001b[39m\u001b[38;5;124m-]+\u001b[39m\u001b[38;5;124m\"\u001b[39m, \u001b[38;5;124m\"\u001b[39m\u001b[38;5;124m_\u001b[39m\u001b[38;5;124m\"\u001b[39m, \u001b[38;5;28mstr\u001b[39m(name))\u001b[38;5;241m.\u001b[39mstrip(\u001b[38;5;124m\"\u001b[39m\u001b[38;5;124m_\u001b[39m\u001b[38;5;124m\"\u001b[39m)\n\u001b[1;32m---> 30\u001b[0m \u001b[38;5;28;01mdef\u001b[39;00m \u001b[38;5;21msafe_serialize\u001b[39m(obj):\n\u001b[0;32m     31\u001b[0m \u001b[38;5;250m    \u001b[39m\u001b[38;5;124;03m\"\"\"\u001b[39;00m\n\u001b[0;32m     32\u001b[0m \u001b[38;5;124;03m    Serializa objetos Zeep o SOAP a estructuras Python básicas (dict, list, str, etc.)\u001b[39;00m\n\u001b[0;32m     33\u001b[0m \u001b[38;5;124;03m    para poder normalizarlos con pandas.json_normalize sin errores.\u001b[39;00m\n\u001b[0;32m     34\u001b[0m \u001b[38;5;124;03m    \"\"\"\u001b[39;00m\n\u001b[0;32m     35\u001b[0m     \u001b[38;5;66;03m# tipos base\u001b[39;00m\n",
      "\u001b[1;31mKeyboardInterrupt\u001b[0m: "
     ]
    }
   ],
   "source": [
    "logging.info(f\"Iniciando extracción de votaciones para {len(df_periodos)} períodos...\")\n",
    "\n",
    "for row in tqdm(df_periodos.itertuples(), total=len(df_periodos), desc=\"Procesando Períodos\"):\n",
    "    \n",
    "    # La función 'build_detalle_periodo' (del notebook 02)\n",
    "    # parece usar el 'Nombre' del período (ej. \"1990-1994\")\n",
    "    nombre_periodo = row.Nombre \n",
    "    \n",
    "    nombre_carpeta = sanitize_filename(nombre_periodo)\n",
    "    carpeta_periodo = DATA_DIR_RAW / nombre_carpeta\n",
    "    \n",
    "    # --- Definir ruta de Output ---\n",
    "    ruta_output_votes = carpeta_periodo / \"detalle.csv\"\n",
    "\n",
    "    logging.info(f\"--- Procesando Período: {nombre_periodo} ---\")\n",
    "\n",
    "    # --- Chequeo: Evitar Re-procesamiento ---\n",
    "    if ruta_output_votes.exists():\n",
    "        logging.info(f\"Saltando período: El archivo 'detalle.csv' ya existe.\")\n",
    "        continue\n",
    "\n",
    "    try:\n",
    "        # 1. Llamar a la lógica compleja (que está en /src)\n",
    "        # Esta función debe contener los 'Client' de zeep y toda la lógica\n",
    "        logging.info(\"Llamando a build_detalle_periodo... (Esto puede tardar horas)\")\n",
    "        df_out = build_detalle_periodo(nombre_periodo)\n",
    "        \n",
    "        if df_out is None or df_out.empty:\n",
    "            logging.warning(f\"No se generaron datos para el período {nombre_periodo}. Archivo NO creado.\")\n",
    "            continue\n",
    "\n",
    "        # 2. Crear carpeta (si la función no lo hizo)\n",
    "        carpeta_periodo.mkdir(parents=True, exist_ok=True)\n",
    "\n",
    "        # 3. Guardar\n",
    "        df_out.to_csv(ruta_output_votes, index=False, encoding=\"utf-8\")\n",
    "        logging.info(f\"Guardado exitosamente: {ruta_output_votes} ({len(df_out)} filas)\")\n",
    "\n",
    "    except Exception as e:\n",
    "        logging.error(f\"ERROR FATAL al procesar período {nombre_periodo}: {e}\", exc_info=True)\n",
    "\n",
    "logging.info(\"--- Extracción de votaciones finalizada ---\")"
   ]
  }
 ],
 "metadata": {
  "kernelspec": {
   "display_name": "Python 3 (ipykernel)",
   "language": "python",
   "name": "python3"
  },
  "language_info": {
   "codemirror_mode": {
    "name": "ipython",
    "version": 3
   },
   "file_extension": ".py",
   "mimetype": "text/x-python",
   "name": "python",
   "nbconvert_exporter": "python",
   "pygments_lexer": "ipython3",
   "version": "3.11.5"
  }
 },
 "nbformat": 4,
 "nbformat_minor": 5
}
