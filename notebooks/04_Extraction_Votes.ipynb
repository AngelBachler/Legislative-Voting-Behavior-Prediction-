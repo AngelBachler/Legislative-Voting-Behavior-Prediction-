{
 "cells": [
  {
   "cell_type": "markdown",
   "id": "8918a78d",
   "metadata": {},
   "source": [
    "# 04: Extracción de Votaciones (Detalle)\n",
    "\n",
    "**Propósito:** Este *notebook* extrae el historial detallado de todas las votaciones (`roll-call data`) para cada período legislativo.\n",
    "\n",
    "**Dependencias:**\n",
    "* `data/01_raw/periodos_master.csv`: La lista maestra de períodos.\n",
    "\n",
    "**Salidas (Artifacts):**\n",
    "* `data/01_raw/[periodo]/detalle.csv`: Un archivo CSV por período que contiene el detalle de cada voto (quién, qué, cómo votó) en cada votación."
   ]
  },
  {
   "cell_type": "code",
   "execution_count": 1,
   "id": "c418d1e9",
   "metadata": {},
   "outputs": [],
   "source": [
    "import pandas as pd\n",
    "from pathlib import Path\n",
    "import sys\n",
    "import logging\n",
    "from tqdm.notebook import tqdm # Para barras de progreso\n",
    "\n",
    "# --- Configurar Logging ---\n",
    "logging.basicConfig(level=logging.INFO, format='%(asctime)s - %(levelname)s - %(message)s')\n",
    "\n",
    "# --- Importar lógica personalizada de /src ---\n",
    "sys.path.append('../') \n",
    "try:\n",
    "    # Asumimos que 'sanitize_filename' está en un módulo común\n",
    "    from src.common_utils import sanitize_filename\n",
    "    # Importamos la función orquestadora principal de nuestro NUEVO módulo\n",
    "    from src.vote_utils import build_detalle_periodo \n",
    "except ImportError as e:\n",
    "    logging.error(f\"ERROR: No se pudieron importar las funciones desde /src. {e}\")\n",
    "    logging.error(\"Asegúrese de que 'src/common_utils.py' y 'src/vote_utils.py' existan.\")\n",
    "    raise\n",
    "\n",
    "# Registrar 'tqdm' con pandas\n",
    "tqdm.pandas()"
   ]
  },
  {
   "cell_type": "code",
   "execution_count": 2,
   "id": "cfb43b20",
   "metadata": {},
   "outputs": [
    {
     "name": "stderr",
     "output_type": "stream",
     "text": [
      "2025-10-26 11:53:09,545 - INFO - Ruta Raíz: C:\\Users\\angel\\OneDrive\\Documents\\U\\2025-2\\Proyecto de Grado\\Legislative-Voting-Behavior-Prediction-\n",
      "2025-10-26 11:53:09,550 - INFO - Directorio de Datos Raw: C:\\Users\\angel\\OneDrive\\Documents\\U\\2025-2\\Proyecto de Grado\\Legislative-Voting-Behavior-Prediction-\\data\\01_raw\n"
     ]
    }
   ],
   "source": [
    "# --- 1. Configuración de Rutas y Constantes ---\n",
    "ROOT = Path.cwd().parent\n",
    "DATA_DIR_RAW = ROOT / \"data\" / \"01_raw\"\n",
    "\n",
    "# --- Definir el ARCHIVO DE ENTRADA (Dependencia) ---\n",
    "MASTER_PERIOD_FILE = DATA_DIR_RAW / \"periodos_master.csv\"\n",
    "\n",
    "logging.info(f\"Ruta Raíz: {ROOT}\")\n",
    "logging.info(f\"Directorio de Datos Raw: {DATA_DIR_RAW}\")"
   ]
  },
  {
   "cell_type": "markdown",
   "id": "11b915b1",
   "metadata": {},
   "source": [
    "## 2. Carga de Dependencias (Períodos)\n",
    "\n",
    "Cargamos la lista maestra de períodos. La función de extracción (`build_detalle_periodo`) itera internamente usando el nombre del período."
   ]
  },
  {
   "cell_type": "code",
   "execution_count": 3,
   "id": "e2cffd1c",
   "metadata": {},
   "outputs": [
    {
     "name": "stderr",
     "output_type": "stream",
     "text": [
      "2025-10-26 11:53:09,559 - INFO - Se cargó la lista maestra de 10 períodos.\n"
     ]
    },
    {
     "data": {
      "text/html": [
       "<div>\n",
       "<style scoped>\n",
       "    .dataframe tbody tr th:only-of-type {\n",
       "        vertical-align: middle;\n",
       "    }\n",
       "\n",
       "    .dataframe tbody tr th {\n",
       "        vertical-align: top;\n",
       "    }\n",
       "\n",
       "    .dataframe thead th {\n",
       "        text-align: right;\n",
       "    }\n",
       "</style>\n",
       "<table border=\"1\" class=\"dataframe\">\n",
       "  <thead>\n",
       "    <tr style=\"text-align: right;\">\n",
       "      <th></th>\n",
       "      <th>Id</th>\n",
       "      <th>Nombre</th>\n",
       "      <th>FechaInicio</th>\n",
       "      <th>FechaTermino</th>\n",
       "    </tr>\n",
       "  </thead>\n",
       "  <tbody>\n",
       "    <tr>\n",
       "      <th>0</th>\n",
       "      <td>7</td>\n",
       "      <td>1965-1969</td>\n",
       "      <td>1965-03-11</td>\n",
       "      <td>1969-03-11 00:00:00</td>\n",
       "    </tr>\n",
       "    <tr>\n",
       "      <th>1</th>\n",
       "      <td>1</td>\n",
       "      <td>1990-1994</td>\n",
       "      <td>1990-03-11</td>\n",
       "      <td>1994-03-10 00:00:00</td>\n",
       "    </tr>\n",
       "    <tr>\n",
       "      <th>2</th>\n",
       "      <td>2</td>\n",
       "      <td>1994-1998</td>\n",
       "      <td>1994-03-11</td>\n",
       "      <td>1998-03-10 00:00:00</td>\n",
       "    </tr>\n",
       "    <tr>\n",
       "      <th>3</th>\n",
       "      <td>3</td>\n",
       "      <td>1998-2002</td>\n",
       "      <td>1998-03-11</td>\n",
       "      <td>2002-03-10 00:00:00</td>\n",
       "    </tr>\n",
       "    <tr>\n",
       "      <th>4</th>\n",
       "      <td>4</td>\n",
       "      <td>2002-2006</td>\n",
       "      <td>2002-03-11</td>\n",
       "      <td>2006-03-10 00:00:00</td>\n",
       "    </tr>\n",
       "  </tbody>\n",
       "</table>\n",
       "</div>"
      ],
      "text/plain": [
       "   Id     Nombre FechaInicio         FechaTermino\n",
       "0   7  1965-1969  1965-03-11  1969-03-11 00:00:00\n",
       "1   1  1990-1994  1990-03-11  1994-03-10 00:00:00\n",
       "2   2  1994-1998  1994-03-11  1998-03-10 00:00:00\n",
       "3   3  1998-2002  1998-03-11  2002-03-10 00:00:00\n",
       "4   4  2002-2006  2002-03-11  2006-03-10 00:00:00"
      ]
     },
     "metadata": {},
     "output_type": "display_data"
    }
   ],
   "source": [
    "try:\n",
    "    df_periodos = pd.read_csv(MASTER_PERIOD_FILE)\n",
    "    logging.info(f\"Se cargó la lista maestra de {len(df_periodos)} períodos.\")\n",
    "    display(df_periodos.head())\n",
    "except FileNotFoundError as e:\n",
    "    logging.error(f\"ERROR FATAL: No se encontró el archivo de dependencia: {MASTER_PERIOD_FILE}\")\n",
    "    logging.error(\"Por favor, ejecute el notebook '00_Extraction_Periods.ipynb' primero.\")\n",
    "    raise"
   ]
  },
  {
   "cell_type": "markdown",
   "id": "436a8b52",
   "metadata": {},
   "source": [
    "## 3. Bucle Principal de Extracción de Votos\n",
    "\n",
    "Iteramos sobre cada período y llamamos a la función orquestadora `build_detalle_periodo` (que vive en `src/vote_utils.py`). Esta es la parte más lenta del *pipeline*."
   ]
  },
  {
   "cell_type": "code",
   "execution_count": 4,
   "id": "63f2df71",
   "metadata": {},
   "outputs": [
    {
     "name": "stderr",
     "output_type": "stream",
     "text": [
      "2025-10-26 11:53:09,581 - INFO - Iniciando extracción de votaciones para 10 períodos...\n"
     ]
    },
    {
     "data": {
      "application/vnd.jupyter.widget-view+json": {
       "model_id": "1d31f68c83a241aeab3eea7a5de0e924",
       "version_major": 2,
       "version_minor": 0
      },
      "text/plain": [
       "Procesando Períodos:   0%|          | 0/10 [00:00<?, ?it/s]"
      ]
     },
     "metadata": {},
     "output_type": "display_data"
    },
    {
     "name": "stderr",
     "output_type": "stream",
     "text": [
      "2025-10-26 11:53:09,606 - INFO - --- Procesando Período: 1965-1969 ---\n",
      "2025-10-26 11:53:09,607 - INFO - Llamando a build_detalle_periodo... (Esto puede tardar horas)\n"
     ]
    },
    {
     "data": {
      "application/vnd.jupyter.widget-view+json": {
       "model_id": "ac4092438498476ea31e385aeb65f510",
       "version_major": 2,
       "version_minor": 0
      },
      "text/plain": [
       "  0%|          | 0/4 [00:00<?, ?it/s]"
      ]
     },
     "metadata": {},
     "output_type": "display_data"
    },
    {
     "name": "stderr",
     "output_type": "stream",
     "text": [
      "2025-10-26 11:53:10,043 - INFO - Procesando año: 1965\n",
      "2025-10-26 11:53:10,080 - INFO - Procesando año: 1966\n",
      "2025-10-26 11:53:10,120 - INFO - Procesando año: 1967\n",
      "2025-10-26 11:53:10,152 - INFO - Procesando año: 1968\n",
      "2025-10-26 11:53:10,190 - ERROR - ERROR FATAL al procesar período 1965-1969: No objects to concatenate\n",
      "Traceback (most recent call last):\n",
      "  File \"C:\\Users\\angel\\AppData\\Local\\Temp\\ipykernel_9524\\110925791.py\", line 26, in <module>\n",
      "    df_out = build_detalle_periodo(nombre_periodo)\n",
      "             ^^^^^^^^^^^^^^^^^^^^^^^^^^^^^^^^^^^^^\n",
      "  File \"C:\\Users\\angel\\OneDrive\\Documents\\U\\2025-2\\Proyecto de Grado\\Legislative-Voting-Behavior-Prediction-\\notebooks\\..\\src\\vote_utils.py\", line 52, in build_detalle_periodo\n",
      "    detalles_periodo_df = pd.concat(detalles_list, ignore_index=True)\n",
      "                          ^^^^^^^^^^^^^^^^^^^^^^^^^^^^^^^^^^^^^^^^^^^\n",
      "  File \"C:\\Users\\angel\\anaconda3\\Lib\\site-packages\\pandas\\core\\reshape\\concat.py\", line 380, in concat\n",
      "    op = _Concatenator(\n",
      "         ^^^^^^^^^^^^^^\n",
      "  File \"C:\\Users\\angel\\anaconda3\\Lib\\site-packages\\pandas\\core\\reshape\\concat.py\", line 443, in __init__\n",
      "    objs, keys = self._clean_keys_and_objs(objs, keys)\n",
      "                 ^^^^^^^^^^^^^^^^^^^^^^^^^^^^^^^^^^^^^\n",
      "  File \"C:\\Users\\angel\\anaconda3\\Lib\\site-packages\\pandas\\core\\reshape\\concat.py\", line 505, in _clean_keys_and_objs\n",
      "    raise ValueError(\"No objects to concatenate\")\n",
      "ValueError: No objects to concatenate\n",
      "2025-10-26 11:53:10,194 - INFO - --- Procesando Período: 1990-1994 ---\n",
      "2025-10-26 11:53:10,195 - INFO - Llamando a build_detalle_periodo... (Esto puede tardar horas)\n"
     ]
    },
    {
     "data": {
      "application/vnd.jupyter.widget-view+json": {
       "model_id": "322de98c634b4bceb0f1d8376b2466bb",
       "version_major": 2,
       "version_minor": 0
      },
      "text/plain": [
       "  0%|          | 0/4 [00:00<?, ?it/s]"
      ]
     },
     "metadata": {},
     "output_type": "display_data"
    },
    {
     "name": "stderr",
     "output_type": "stream",
     "text": [
      "2025-10-26 11:53:10,596 - INFO - Procesando año: 1990\n",
      "2025-10-26 11:53:10,626 - INFO - Procesando año: 1991\n",
      "2025-10-26 11:53:10,658 - INFO - Procesando año: 1992\n",
      "2025-10-26 11:53:10,686 - INFO - Procesando año: 1993\n",
      "2025-10-26 11:53:10,714 - ERROR - ERROR FATAL al procesar período 1990-1994: No objects to concatenate\n",
      "Traceback (most recent call last):\n",
      "  File \"C:\\Users\\angel\\AppData\\Local\\Temp\\ipykernel_9524\\110925791.py\", line 26, in <module>\n",
      "    df_out = build_detalle_periodo(nombre_periodo)\n",
      "             ^^^^^^^^^^^^^^^^^^^^^^^^^^^^^^^^^^^^^\n",
      "  File \"C:\\Users\\angel\\OneDrive\\Documents\\U\\2025-2\\Proyecto de Grado\\Legislative-Voting-Behavior-Prediction-\\notebooks\\..\\src\\vote_utils.py\", line 52, in build_detalle_periodo\n",
      "    detalles_periodo_df = pd.concat(detalles_list, ignore_index=True)\n",
      "                          ^^^^^^^^^^^^^^^^^^^^^^^^^^^^^^^^^^^^^^^^^^^\n",
      "  File \"C:\\Users\\angel\\anaconda3\\Lib\\site-packages\\pandas\\core\\reshape\\concat.py\", line 380, in concat\n",
      "    op = _Concatenator(\n",
      "         ^^^^^^^^^^^^^^\n",
      "  File \"C:\\Users\\angel\\anaconda3\\Lib\\site-packages\\pandas\\core\\reshape\\concat.py\", line 443, in __init__\n",
      "    objs, keys = self._clean_keys_and_objs(objs, keys)\n",
      "                 ^^^^^^^^^^^^^^^^^^^^^^^^^^^^^^^^^^^^^\n",
      "  File \"C:\\Users\\angel\\anaconda3\\Lib\\site-packages\\pandas\\core\\reshape\\concat.py\", line 505, in _clean_keys_and_objs\n",
      "    raise ValueError(\"No objects to concatenate\")\n",
      "ValueError: No objects to concatenate\n",
      "2025-10-26 11:53:10,716 - INFO - --- Procesando Período: 1994-1998 ---\n",
      "2025-10-26 11:53:10,717 - INFO - Llamando a build_detalle_periodo... (Esto puede tardar horas)\n"
     ]
    },
    {
     "data": {
      "application/vnd.jupyter.widget-view+json": {
       "model_id": "7ae8874cf3d84093a10db07f6f3a0b0e",
       "version_major": 2,
       "version_minor": 0
      },
      "text/plain": [
       "  0%|          | 0/4 [00:00<?, ?it/s]"
      ]
     },
     "metadata": {},
     "output_type": "display_data"
    },
    {
     "name": "stderr",
     "output_type": "stream",
     "text": [
      "2025-10-26 11:53:11,145 - INFO - Procesando año: 1994\n",
      "2025-10-26 11:53:11,182 - INFO - Procesando año: 1995\n",
      "2025-10-26 11:53:11,209 - INFO - Procesando año: 1996\n",
      "2025-10-26 11:53:11,241 - INFO - Procesando año: 1997\n",
      "2025-10-26 11:53:11,276 - ERROR - ERROR FATAL al procesar período 1994-1998: No objects to concatenate\n",
      "Traceback (most recent call last):\n",
      "  File \"C:\\Users\\angel\\AppData\\Local\\Temp\\ipykernel_9524\\110925791.py\", line 26, in <module>\n",
      "    df_out = build_detalle_periodo(nombre_periodo)\n",
      "             ^^^^^^^^^^^^^^^^^^^^^^^^^^^^^^^^^^^^^\n",
      "  File \"C:\\Users\\angel\\OneDrive\\Documents\\U\\2025-2\\Proyecto de Grado\\Legislative-Voting-Behavior-Prediction-\\notebooks\\..\\src\\vote_utils.py\", line 52, in build_detalle_periodo\n",
      "    detalles_periodo_df = pd.concat(detalles_list, ignore_index=True)\n",
      "                          ^^^^^^^^^^^^^^^^^^^^^^^^^^^^^^^^^^^^^^^^^^^\n",
      "  File \"C:\\Users\\angel\\anaconda3\\Lib\\site-packages\\pandas\\core\\reshape\\concat.py\", line 380, in concat\n",
      "    op = _Concatenator(\n",
      "         ^^^^^^^^^^^^^^\n",
      "  File \"C:\\Users\\angel\\anaconda3\\Lib\\site-packages\\pandas\\core\\reshape\\concat.py\", line 443, in __init__\n",
      "    objs, keys = self._clean_keys_and_objs(objs, keys)\n",
      "                 ^^^^^^^^^^^^^^^^^^^^^^^^^^^^^^^^^^^^^\n",
      "  File \"C:\\Users\\angel\\anaconda3\\Lib\\site-packages\\pandas\\core\\reshape\\concat.py\", line 505, in _clean_keys_and_objs\n",
      "    raise ValueError(\"No objects to concatenate\")\n",
      "ValueError: No objects to concatenate\n",
      "2025-10-26 11:53:11,279 - INFO - --- Procesando Período: 1998-2002 ---\n",
      "2025-10-26 11:53:11,281 - INFO - Llamando a build_detalle_periodo... (Esto puede tardar horas)\n"
     ]
    },
    {
     "data": {
      "application/vnd.jupyter.widget-view+json": {
       "model_id": "f47e8a6552194c5487057f2e9da963a5",
       "version_major": 2,
       "version_minor": 0
      },
      "text/plain": [
       "  0%|          | 0/4 [00:00<?, ?it/s]"
      ]
     },
     "metadata": {},
     "output_type": "display_data"
    },
    {
     "name": "stderr",
     "output_type": "stream",
     "text": [
      "2025-10-26 11:53:11,688 - INFO - Procesando año: 1998\n",
      "2025-10-26 11:53:11,732 - INFO - Procesando año: 1999\n",
      "2025-10-26 11:53:11,768 - INFO - Procesando año: 2000\n",
      "2025-10-26 11:53:11,805 - INFO - Procesando año: 2001\n",
      "2025-10-26 11:53:11,843 - ERROR - ERROR FATAL al procesar período 1998-2002: No objects to concatenate\n",
      "Traceback (most recent call last):\n",
      "  File \"C:\\Users\\angel\\AppData\\Local\\Temp\\ipykernel_9524\\110925791.py\", line 26, in <module>\n",
      "    df_out = build_detalle_periodo(nombre_periodo)\n",
      "             ^^^^^^^^^^^^^^^^^^^^^^^^^^^^^^^^^^^^^\n",
      "  File \"C:\\Users\\angel\\OneDrive\\Documents\\U\\2025-2\\Proyecto de Grado\\Legislative-Voting-Behavior-Prediction-\\notebooks\\..\\src\\vote_utils.py\", line 52, in build_detalle_periodo\n",
      "    detalles_periodo_df = pd.concat(detalles_list, ignore_index=True)\n",
      "                          ^^^^^^^^^^^^^^^^^^^^^^^^^^^^^^^^^^^^^^^^^^^\n",
      "  File \"C:\\Users\\angel\\anaconda3\\Lib\\site-packages\\pandas\\core\\reshape\\concat.py\", line 380, in concat\n",
      "    op = _Concatenator(\n",
      "         ^^^^^^^^^^^^^^\n",
      "  File \"C:\\Users\\angel\\anaconda3\\Lib\\site-packages\\pandas\\core\\reshape\\concat.py\", line 443, in __init__\n",
      "    objs, keys = self._clean_keys_and_objs(objs, keys)\n",
      "                 ^^^^^^^^^^^^^^^^^^^^^^^^^^^^^^^^^^^^^\n",
      "  File \"C:\\Users\\angel\\anaconda3\\Lib\\site-packages\\pandas\\core\\reshape\\concat.py\", line 505, in _clean_keys_and_objs\n",
      "    raise ValueError(\"No objects to concatenate\")\n",
      "ValueError: No objects to concatenate\n",
      "2025-10-26 11:53:11,845 - INFO - --- Procesando Período: 2002-2006 ---\n",
      "2025-10-26 11:53:11,846 - INFO - Llamando a build_detalle_periodo... (Esto puede tardar horas)\n"
     ]
    },
    {
     "data": {
      "application/vnd.jupyter.widget-view+json": {
       "model_id": "69a45900337c4047a0e9189d7c4c0eab",
       "version_major": 2,
       "version_minor": 0
      },
      "text/plain": [
       "  0%|          | 0/4 [00:00<?, ?it/s]"
      ]
     },
     "metadata": {},
     "output_type": "display_data"
    },
    {
     "name": "stderr",
     "output_type": "stream",
     "text": [
      "2025-10-26 11:53:12,244 - INFO - Procesando año: 2002\n"
     ]
    },
    {
     "data": {
      "application/vnd.jupyter.widget-view+json": {
       "model_id": "795bd758b8f64e89ba8fc172b8a30953",
       "version_major": 2,
       "version_minor": 0
      },
      "text/plain": [
       "  0%|          | 0/454 [00:00<?, ?it/s]"
      ]
     },
     "metadata": {},
     "output_type": "display_data"
    },
    {
     "name": "stderr",
     "output_type": "stream",
     "text": [
      "2025-10-26 11:53:32,667 - INFO - Procesando año: 2003\n"
     ]
    },
    {
     "data": {
      "application/vnd.jupyter.widget-view+json": {
       "model_id": "8cd2b97af34343aca12baf310c0a1f66",
       "version_major": 2,
       "version_minor": 0
      },
      "text/plain": [
       "  0%|          | 0/706 [00:00<?, ?it/s]"
      ]
     },
     "metadata": {},
     "output_type": "display_data"
    },
    {
     "name": "stderr",
     "output_type": "stream",
     "text": [
      "2025-10-26 11:54:05,022 - INFO - Procesando año: 2004\n"
     ]
    },
    {
     "data": {
      "application/vnd.jupyter.widget-view+json": {
       "model_id": "4d5a00d0a9f944bda6d4d9c729117578",
       "version_major": 2,
       "version_minor": 0
      },
      "text/plain": [
       "  0%|          | 0/719 [00:00<?, ?it/s]"
      ]
     },
     "metadata": {},
     "output_type": "display_data"
    },
    {
     "name": "stderr",
     "output_type": "stream",
     "text": [
      "2025-10-26 11:54:37,211 - INFO - Procesando año: 2005\n"
     ]
    },
    {
     "data": {
      "application/vnd.jupyter.widget-view+json": {
       "model_id": "b4adebaf9657422cb54e1cd5b62e1438",
       "version_major": 2,
       "version_minor": 0
      },
      "text/plain": [
       "  0%|          | 0/569 [00:00<?, ?it/s]"
      ]
     },
     "metadata": {},
     "output_type": "display_data"
    },
    {
     "name": "stderr",
     "output_type": "stream",
     "text": [
      "2025-10-26 11:55:06,747 - INFO - Guardado exitosamente: C:\\Users\\angel\\OneDrive\\Documents\\U\\2025-2\\Proyecto de Grado\\Legislative-Voting-Behavior-Prediction-\\data\\01_raw\\2002-2006\\detalle.csv (196206 filas)\n",
      "2025-10-26 11:55:06,749 - INFO - --- Procesando Período: 2006-2010 ---\n",
      "2025-10-26 11:55:06,749 - INFO - Llamando a build_detalle_periodo... (Esto puede tardar horas)\n"
     ]
    },
    {
     "data": {
      "application/vnd.jupyter.widget-view+json": {
       "model_id": "8d109786baf44b16a51f3797f253075d",
       "version_major": 2,
       "version_minor": 0
      },
      "text/plain": [
       "  0%|          | 0/4 [00:00<?, ?it/s]"
      ]
     },
     "metadata": {},
     "output_type": "display_data"
    },
    {
     "name": "stderr",
     "output_type": "stream",
     "text": [
      "2025-10-26 11:55:07,155 - INFO - Procesando año: 2006\n"
     ]
    },
    {
     "data": {
      "application/vnd.jupyter.widget-view+json": {
       "model_id": "dd95efa14aaf4765849689eb74a2f103",
       "version_major": 2,
       "version_minor": 0
      },
      "text/plain": [
       "  0%|          | 0/731 [00:00<?, ?it/s]"
      ]
     },
     "metadata": {},
     "output_type": "display_data"
    },
    {
     "name": "stderr",
     "output_type": "stream",
     "text": [
      "2025-10-26 11:55:39,415 - INFO - Procesando año: 2007\n"
     ]
    },
    {
     "data": {
      "application/vnd.jupyter.widget-view+json": {
       "model_id": "d117af3dbe4140f98243e0c6035533d8",
       "version_major": 2,
       "version_minor": 0
      },
      "text/plain": [
       "  0%|          | 0/803 [00:00<?, ?it/s]"
      ]
     },
     "metadata": {},
     "output_type": "display_data"
    },
    {
     "name": "stderr",
     "output_type": "stream",
     "text": [
      "2025-10-26 11:56:14,671 - INFO - Procesando año: 2008\n"
     ]
    },
    {
     "data": {
      "application/vnd.jupyter.widget-view+json": {
       "model_id": "550a7163562443bc993bb8ea6a12856f",
       "version_major": 2,
       "version_minor": 0
      },
      "text/plain": [
       "  0%|          | 0/830 [00:00<?, ?it/s]"
      ]
     },
     "metadata": {},
     "output_type": "display_data"
    },
    {
     "name": "stderr",
     "output_type": "stream",
     "text": [
      "2025-10-26 11:56:50,961 - INFO - Procesando año: 2009\n"
     ]
    },
    {
     "data": {
      "application/vnd.jupyter.widget-view+json": {
       "model_id": "0808284c9d524772a3c9a4e47e26b26a",
       "version_major": 2,
       "version_minor": 0
      },
      "text/plain": [
       "  0%|          | 0/638 [00:00<?, ?it/s]"
      ]
     },
     "metadata": {},
     "output_type": "display_data"
    },
    {
     "name": "stderr",
     "output_type": "stream",
     "text": [
      "2025-10-26 11:57:05,330 - WARNING - Error en votacion 3086: 'Votos.Voto'\n",
      "2025-10-26 11:57:06,395 - WARNING - Error en votacion 13889: 'Votos.Voto'\n",
      "2025-10-26 11:57:10,976 - WARNING - Error en votacion 1788: 'Votos.Voto'\n",
      "2025-10-26 11:57:24,241 - INFO - Guardado exitosamente: C:\\Users\\angel\\OneDrive\\Documents\\U\\2025-2\\Proyecto de Grado\\Legislative-Voting-Behavior-Prediction-\\data\\01_raw\\2006-2010\\detalle.csv (239395 filas)\n",
      "2025-10-26 11:57:24,243 - INFO - --- Procesando Período: 2010-2014 ---\n",
      "2025-10-26 11:57:24,244 - INFO - Llamando a build_detalle_periodo... (Esto puede tardar horas)\n"
     ]
    },
    {
     "data": {
      "application/vnd.jupyter.widget-view+json": {
       "model_id": "9423675a6f9643719772d03d7e49d3f5",
       "version_major": 2,
       "version_minor": 0
      },
      "text/plain": [
       "  0%|          | 0/4 [00:00<?, ?it/s]"
      ]
     },
     "metadata": {},
     "output_type": "display_data"
    },
    {
     "name": "stderr",
     "output_type": "stream",
     "text": [
      "2025-10-26 11:57:24,632 - INFO - Procesando año: 2010\n"
     ]
    },
    {
     "data": {
      "application/vnd.jupyter.widget-view+json": {
       "model_id": "4b537f9f44984ac295345716b0f18ae1",
       "version_major": 2,
       "version_minor": 0
      },
      "text/plain": [
       "  0%|          | 0/963 [00:00<?, ?it/s]"
      ]
     },
     "metadata": {},
     "output_type": "display_data"
    },
    {
     "name": "stderr",
     "output_type": "stream",
     "text": [
      "2025-10-26 11:58:05,793 - WARNING - Error en votacion 1057: 'Votos.Voto'\n",
      "2025-10-26 11:58:07,091 - INFO - Procesando año: 2011\n"
     ]
    },
    {
     "data": {
      "application/vnd.jupyter.widget-view+json": {
       "model_id": "ba6d68fa41a945b1a9755f94e61584c0",
       "version_major": 2,
       "version_minor": 0
      },
      "text/plain": [
       "  0%|          | 0/1109 [00:00<?, ?it/s]"
      ]
     },
     "metadata": {},
     "output_type": "display_data"
    },
    {
     "name": "stderr",
     "output_type": "stream",
     "text": [
      "2025-10-26 11:59:03,065 - INFO - Procesando año: 2012\n"
     ]
    },
    {
     "data": {
      "application/vnd.jupyter.widget-view+json": {
       "model_id": "f1e3373597a34f659194c062a7224805",
       "version_major": 2,
       "version_minor": 0
      },
      "text/plain": [
       "  0%|          | 0/1170 [00:00<?, ?it/s]"
      ]
     },
     "metadata": {},
     "output_type": "display_data"
    },
    {
     "name": "stderr",
     "output_type": "stream",
     "text": [
      "2025-10-26 11:59:46,181 - WARNING - Error en votacion 1330: 'Votos.Voto'\n",
      "2025-10-26 12:00:00,686 - INFO - Procesando año: 2013\n"
     ]
    },
    {
     "data": {
      "application/vnd.jupyter.widget-view+json": {
       "model_id": "ba1a1b30626a46fc813d6895c5941332",
       "version_major": 2,
       "version_minor": 0
      },
      "text/plain": [
       "  0%|          | 0/1198 [00:00<?, ?it/s]"
      ]
     },
     "metadata": {},
     "output_type": "display_data"
    },
    {
     "name": "stderr",
     "output_type": "stream",
     "text": [
      "2025-10-26 12:01:08,502 - INFO - Guardado exitosamente: C:\\Users\\angel\\OneDrive\\Documents\\U\\2025-2\\Proyecto de Grado\\Legislative-Voting-Behavior-Prediction-\\data\\01_raw\\2010-2014\\detalle.csv (363779 filas)\n",
      "2025-10-26 12:01:08,504 - INFO - --- Procesando Período: 2014-2018 ---\n",
      "2025-10-26 12:01:08,505 - INFO - Llamando a build_detalle_periodo... (Esto puede tardar horas)\n"
     ]
    },
    {
     "data": {
      "application/vnd.jupyter.widget-view+json": {
       "model_id": "ad75ba84c46745dc92e2aface557cfcb",
       "version_major": 2,
       "version_minor": 0
      },
      "text/plain": [
       "  0%|          | 0/4 [00:00<?, ?it/s]"
      ]
     },
     "metadata": {},
     "output_type": "display_data"
    },
    {
     "name": "stderr",
     "output_type": "stream",
     "text": [
      "2025-10-26 12:01:08,948 - INFO - Procesando año: 2014\n"
     ]
    },
    {
     "data": {
      "application/vnd.jupyter.widget-view+json": {
       "model_id": "427ee305737b454a92523bbbc86415df",
       "version_major": 2,
       "version_minor": 0
      },
      "text/plain": [
       "  0%|          | 0/858 [00:00<?, ?it/s]"
      ]
     },
     "metadata": {},
     "output_type": "display_data"
    },
    {
     "name": "stderr",
     "output_type": "stream",
     "text": [
      "2025-10-26 12:01:49,591 - INFO - Procesando año: 2015\n"
     ]
    },
    {
     "data": {
      "application/vnd.jupyter.widget-view+json": {
       "model_id": "c9d4f93b710744c696bc7b974f061569",
       "version_major": 2,
       "version_minor": 0
      },
      "text/plain": [
       "  0%|          | 0/1158 [00:00<?, ?it/s]"
      ]
     },
     "metadata": {},
     "output_type": "display_data"
    },
    {
     "name": "stderr",
     "output_type": "stream",
     "text": [
      "2025-10-26 12:02:43,961 - WARNING - Error en votacion 4192: 'Votos.Voto'\n",
      "2025-10-26 12:02:44,401 - INFO - Procesando año: 2016\n"
     ]
    },
    {
     "data": {
      "application/vnd.jupyter.widget-view+json": {
       "model_id": "037f2cf4314f46d5a980845e1074e0f5",
       "version_major": 2,
       "version_minor": 0
      },
      "text/plain": [
       "  0%|          | 0/1294 [00:00<?, ?it/s]"
      ]
     },
     "metadata": {},
     "output_type": "display_data"
    },
    {
     "name": "stderr",
     "output_type": "stream",
     "text": [
      "2025-10-26 12:03:46,202 - INFO - Procesando año: 2017\n"
     ]
    },
    {
     "data": {
      "application/vnd.jupyter.widget-view+json": {
       "model_id": "cbea4f71483b47bfb6407677cfab2a67",
       "version_major": 2,
       "version_minor": 0
      },
      "text/plain": [
       "  0%|          | 0/1051 [00:00<?, ?it/s]"
      ]
     },
     "metadata": {},
     "output_type": "display_data"
    },
    {
     "name": "stderr",
     "output_type": "stream",
     "text": [
      "2025-10-26 12:04:44,040 - INFO - Guardado exitosamente: C:\\Users\\angel\\OneDrive\\Documents\\U\\2025-2\\Proyecto de Grado\\Legislative-Voting-Behavior-Prediction-\\data\\01_raw\\2014-2018\\detalle.csv (409382 filas)\n",
      "2025-10-26 12:04:44,041 - INFO - --- Procesando Período: 2018-2022 ---\n",
      "2025-10-26 12:04:44,042 - INFO - Llamando a build_detalle_periodo... (Esto puede tardar horas)\n"
     ]
    },
    {
     "data": {
      "application/vnd.jupyter.widget-view+json": {
       "model_id": "012d4342d1ce4d96bba3fd72abe1661f",
       "version_major": 2,
       "version_minor": 0
      },
      "text/plain": [
       "  0%|          | 0/4 [00:00<?, ?it/s]"
      ]
     },
     "metadata": {},
     "output_type": "display_data"
    },
    {
     "name": "stderr",
     "output_type": "stream",
     "text": [
      "2025-10-26 12:04:44,419 - INFO - Procesando año: 2018\n"
     ]
    },
    {
     "data": {
      "application/vnd.jupyter.widget-view+json": {
       "model_id": "aa192c6529234b9aa83ed18d9e0b9b8d",
       "version_major": 2,
       "version_minor": 0
      },
      "text/plain": [
       "  0%|          | 0/1178 [00:00<?, ?it/s]"
      ]
     },
     "metadata": {},
     "output_type": "display_data"
    },
    {
     "name": "stderr",
     "output_type": "stream",
     "text": [
      "2025-10-26 12:05:45,133 - INFO - Procesando año: 2019\n"
     ]
    },
    {
     "data": {
      "application/vnd.jupyter.widget-view+json": {
       "model_id": "1f914aeefdd14b958f862bc36fd6e568",
       "version_major": 2,
       "version_minor": 0
      },
      "text/plain": [
       "  0%|          | 0/1358 [00:00<?, ?it/s]"
      ]
     },
     "metadata": {},
     "output_type": "display_data"
    },
    {
     "name": "stderr",
     "output_type": "stream",
     "text": [
      "2025-10-26 12:05:52,855 - WARNING - Error en votacion 39951: 'Votos.Voto'\n",
      "2025-10-26 12:06:58,528 - INFO - Procesando año: 2020\n"
     ]
    },
    {
     "data": {
      "application/vnd.jupyter.widget-view+json": {
       "model_id": "85c1059894d24904800291e80c55bb79",
       "version_major": 2,
       "version_minor": 0
      },
      "text/plain": [
       "  0%|          | 0/1543 [00:00<?, ?it/s]"
      ]
     },
     "metadata": {},
     "output_type": "display_data"
    },
    {
     "name": "stderr",
     "output_type": "stream",
     "text": [
      "2025-10-26 12:07:13,027 - WARNING - Error en votacion 23407: 'Votos.Voto'\n",
      "2025-10-26 12:07:16,399 - WARNING - Error en votacion 26819: 'Votos.Voto'\n",
      "2025-10-26 12:07:20,464 - WARNING - Error en votacion 27323: 'Votos.Voto'\n",
      "2025-10-26 12:07:26,965 - WARNING - Error en votacion 26327: 'Votos.Voto'\n",
      "2025-10-26 12:07:26,987 - WARNING - Error en votacion 26326: 'Votos.Voto'\n",
      "2025-10-26 12:07:27,012 - WARNING - Error en votacion 26325: 'Votos.Voto'\n",
      "2025-10-26 12:07:30,031 - WARNING - Error en votacion 31825: 'Votos.Voto'\n",
      "2025-10-26 12:07:30,058 - WARNING - Error en votacion 31824: 'Votos.Voto'\n",
      "2025-10-26 12:07:30,080 - WARNING - Error en votacion 38685: 'Votos.Voto'\n",
      "2025-10-26 12:07:30,103 - WARNING - Error en votacion 31826: 'Votos.Voto'\n",
      "2025-10-26 12:08:20,818 - INFO - Procesando año: 2021\n"
     ]
    },
    {
     "data": {
      "application/vnd.jupyter.widget-view+json": {
       "model_id": "d4c4f3fc16fe47a5bd1f50763f585ae2",
       "version_major": 2,
       "version_minor": 0
      },
      "text/plain": [
       "  0%|          | 0/1268 [00:00<?, ?it/s]"
      ]
     },
     "metadata": {},
     "output_type": "display_data"
    },
    {
     "name": "stderr",
     "output_type": "stream",
     "text": [
      "2025-10-26 12:09:40,557 - INFO - Guardado exitosamente: C:\\Users\\angel\\OneDrive\\Documents\\U\\2025-2\\Proyecto de Grado\\Legislative-Voting-Behavior-Prediction-\\data\\01_raw\\2018-2022\\detalle.csv (686977 filas)\n",
      "2025-10-26 12:09:40,559 - INFO - --- Procesando Período: 2022-2026 ---\n",
      "2025-10-26 12:09:40,560 - INFO - Llamando a build_detalle_periodo... (Esto puede tardar horas)\n"
     ]
    },
    {
     "data": {
      "application/vnd.jupyter.widget-view+json": {
       "model_id": "c7018945794e40fca20a654ac8b59eca",
       "version_major": 2,
       "version_minor": 0
      },
      "text/plain": [
       "  0%|          | 0/4 [00:00<?, ?it/s]"
      ]
     },
     "metadata": {},
     "output_type": "display_data"
    },
    {
     "name": "stderr",
     "output_type": "stream",
     "text": [
      "2025-10-26 12:09:40,935 - INFO - Procesando año: 2022\n"
     ]
    },
    {
     "data": {
      "application/vnd.jupyter.widget-view+json": {
       "model_id": "054cc348d6474a4aa701ec722e35a9cb",
       "version_major": 2,
       "version_minor": 0
      },
      "text/plain": [
       "  0%|          | 0/1315 [00:00<?, ?it/s]"
      ]
     },
     "metadata": {},
     "output_type": "display_data"
    },
    {
     "name": "stderr",
     "output_type": "stream",
     "text": [
      "2025-10-26 12:10:12,056 - WARNING - Error en votacion 29079: 'Votos.Voto'\n",
      "2025-10-26 12:10:50,272 - INFO - Procesando año: 2023\n"
     ]
    },
    {
     "data": {
      "application/vnd.jupyter.widget-view+json": {
       "model_id": "f07a8d75d7dd4aa9a82b5ecfe361ad68",
       "version_major": 2,
       "version_minor": 0
      },
      "text/plain": [
       "  0%|          | 0/1853 [00:00<?, ?it/s]"
      ]
     },
     "metadata": {},
     "output_type": "display_data"
    },
    {
     "name": "stderr",
     "output_type": "stream",
     "text": [
      "2025-10-26 12:11:15,687 - WARNING - Error en votacion 36733: 'Votos.Voto'\n",
      "2025-10-26 12:12:25,136 - INFO - Procesando año: 2024\n"
     ]
    },
    {
     "data": {
      "application/vnd.jupyter.widget-view+json": {
       "model_id": "7e6b667ed95b4bd88faf867ee5cab237",
       "version_major": 2,
       "version_minor": 0
      },
      "text/plain": [
       "  0%|          | 0/1844 [00:00<?, ?it/s]"
      ]
     },
     "metadata": {},
     "output_type": "display_data"
    },
    {
     "name": "stderr",
     "output_type": "stream",
     "text": [
      "2025-10-26 12:13:58,028 - INFO - Procesando año: 2025\n"
     ]
    },
    {
     "data": {
      "application/vnd.jupyter.widget-view+json": {
       "model_id": "8e9f61f73c66463b80396cbfb9f343cd",
       "version_major": 2,
       "version_minor": 0
      },
      "text/plain": [
       "  0%|          | 0/1082 [00:00<?, ?it/s]"
      ]
     },
     "metadata": {},
     "output_type": "display_data"
    },
    {
     "name": "stderr",
     "output_type": "stream",
     "text": [
      "2025-10-26 12:15:14,910 - INFO - Guardado exitosamente: C:\\Users\\angel\\OneDrive\\Documents\\U\\2025-2\\Proyecto de Grado\\Legislative-Voting-Behavior-Prediction-\\data\\01_raw\\2022-2026\\detalle.csv (783644 filas)\n",
      "2025-10-26 12:15:14,912 - INFO - --- Extracción de votaciones finalizada ---\n"
     ]
    }
   ],
   "source": [
    "logging.info(f\"Iniciando extracción de votaciones para {len(df_periodos)} períodos...\")\n",
    "\n",
    "for row in tqdm(df_periodos.itertuples(), total=len(df_periodos), desc=\"Procesando Períodos\"):\n",
    "    \n",
    "    # La función 'build_detalle_periodo' (del notebook 02)\n",
    "    # parece usar el 'Nombre' del período (ej. \"1990-1994\")\n",
    "    nombre_periodo = row.Nombre \n",
    "    \n",
    "    nombre_carpeta = sanitize_filename(nombre_periodo)\n",
    "    carpeta_periodo = DATA_DIR_RAW / nombre_carpeta\n",
    "    \n",
    "    # --- Definir ruta de Output ---\n",
    "    ruta_output_votes = carpeta_periodo / \"detalle.csv\"\n",
    "\n",
    "    logging.info(f\"--- Procesando Período: {nombre_periodo} ---\")\n",
    "\n",
    "    # --- Chequeo: Evitar Re-procesamiento ---\n",
    "    if ruta_output_votes.exists():\n",
    "        logging.info(f\"Saltando período: El archivo 'detalle.csv' ya existe.\")\n",
    "        continue\n",
    "\n",
    "    try:\n",
    "        # 1. Llamar a la lógica compleja (que está en /src)\n",
    "        # Esta función debe contener los 'Client' de zeep y toda la lógica\n",
    "        logging.info(\"Llamando a build_detalle_periodo... (Esto puede tardar horas)\")\n",
    "        df_out = build_detalle_periodo(nombre_periodo)\n",
    "        \n",
    "        if df_out is None or df_out.empty:\n",
    "            logging.warning(f\"No se generaron datos para el período {nombre_periodo}. Archivo NO creado.\")\n",
    "            continue\n",
    "\n",
    "        # 2. Crear carpeta (si la función no lo hizo)\n",
    "        carpeta_periodo.mkdir(parents=True, exist_ok=True)\n",
    "\n",
    "        # 3. Guardar\n",
    "        df_out.to_csv(ruta_output_votes, index=False, encoding=\"utf-8\")\n",
    "        logging.info(f\"Guardado exitosamente: {ruta_output_votes} ({len(df_out)} filas)\")\n",
    "\n",
    "    except Exception as e:\n",
    "        logging.error(f\"ERROR FATAL al procesar período {nombre_periodo}: {e}\", exc_info=True)\n",
    "\n",
    "logging.info(\"--- Extracción de votaciones finalizada ---\")"
   ]
  }
 ],
 "metadata": {
  "kernelspec": {
   "display_name": "Python 3 (ipykernel)",
   "language": "python",
   "name": "python3"
  },
  "language_info": {
   "codemirror_mode": {
    "name": "ipython",
    "version": 3
   },
   "file_extension": ".py",
   "mimetype": "text/x-python",
   "name": "python",
   "nbconvert_exporter": "python",
   "pygments_lexer": "ipython3",
   "version": "3.11.5"
  }
 },
 "nbformat": 4,
 "nbformat_minor": 5
}
