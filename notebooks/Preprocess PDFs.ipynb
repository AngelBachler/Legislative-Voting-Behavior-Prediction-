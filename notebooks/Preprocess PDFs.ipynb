{
 "cells": [
  {
   "cell_type": "code",
   "execution_count": 12,
   "id": "052a6834",
   "metadata": {},
   "outputs": [],
   "source": [
    "#!pip install -q ollama\n",
    "\n",
    "# Import and create a client that points explicitly to the local daemon\n",
    "from ollama import Client\n",
    "\n",
    "# Explicit host helps avoid accidental DNS problems\n",
    "client = Client(host=\"http://127.0.0.1:11434\")   # <- change if your server runs elsewhere\n",
    "\n",
    "# Pick a model that you have already pulled locally\n",
    "model_name = \"gpt-oss:120b-cloud\""
   ]
  },
  {
   "cell_type": "code",
   "execution_count": 13,
   "id": "66c3c2eb",
   "metadata": {},
   "outputs": [],
   "source": [
    "from pathlib import Path\n",
    "# Si es notebook, mejor usar:\n",
    "BASE_DIR = Path.cwd()\n",
    "\n",
    "# Ir un nivel arriba (de notebooks → raíz del repo)\n",
    "ROOT = BASE_DIR.parent\n",
    "\n",
    "# Carpeta data dentro del repo\n",
    "DATA_DIR = ROOT / \"data\"\n",
    "PDF_DIR = DATA_DIR / \"pdfs_descargados\"\n",
    "pdfs = list(PDF_DIR.glob(\"*.pdf\"))[:239]"
   ]
  },
  {
   "cell_type": "code",
   "execution_count": 14,
   "id": "cd7eb9d3",
   "metadata": {
    "scrolled": true
   },
   "outputs": [
    {
     "name": "stdout",
     "output_type": "stream",
     "text": [
      "📖 El índice general está en la página 3\n"
     ]
    }
   ],
   "source": [
    "from PyPDF2 import PdfReader\n",
    "import re\n",
    "\n",
    "pdf = PdfReader(pdfs[1])\n",
    "\n",
    "def es_indice(texto):\n",
    "    if not texto:\n",
    "        return False\n",
    "    # Palabras clave típicas de un índice\n",
    "    if re.search(r\"\\b(ÍNDICE GENERAL)\\b\", texto.upper()):\n",
    "        return True\n",
    "    # Patrón: varias líneas con \"texto ... número\"\n",
    "    lineas = texto.split(\"\\n\")\n",
    "    coincidencias = sum(bool(re.search(r\"\\.+\\s*\\d+$\", l)) for l in lineas)\n",
    "    return coincidencias > 3 \n",
    "\n",
    "# Buscar la página del índice\n",
    "indice_page_num = None\n",
    "for i, page in enumerate(pdf.pages, start=1):\n",
    "    texto = page.extract_text()\n",
    "    if es_indice(texto):\n",
    "        indice_page_num = i\n",
    "        print(f\"📖 El índice general está en la página {indice_page_num}\")\n",
    "        break\n",
    "\n",
    "if indice_page_num is None:\n",
    "    print(\"❌ No se encontró la página del índice\")"
   ]
  },
  {
   "cell_type": "code",
   "execution_count": 15,
   "id": "12404592",
   "metadata": {
    "scrolled": false
   },
   "outputs": [],
   "source": [
    "import json\n",
    "import time\n",
    "import logging\n",
    "from typing import Dict, Any, List\n",
    "\n",
    "def _ollama_generate(\n",
    "    *,\n",
    "    model: str,\n",
    "    prompt: str,\n",
    "    stream: bool = False,\n",
    "    max_tokens: int | None = None,\n",
    ") -> Dict[str, Any]:\n",
    "    \"\"\"\n",
    "    Llamada directa a Ollama usando `client.generate`.\n",
    "    Devuelve el objeto JSON tal cual lo entrega Ollama.\n",
    "    \"\"\"\n",
    "    # El SDK de Ollama usa `client.generate` con los mismos parámetros que la REST API.\n",
    "    # https://github.com/ollama/ollama/blob/main/docs/api.md#generate\n",
    "    payload = {\n",
    "        \"model\": model,\n",
    "        \"prompt\": prompt,\n",
    "        \"stream\": stream\n",
    "    }\n",
    "    if max_tokens is not None:\n",
    "        payload[\"max_tokens\"] = max_tokens\n",
    "\n",
    "    # La respuesta de Ollama (cuando stream=False) es una dict con:\n",
    "    # {\"model\": \"...\", \"created_at\": \"...\", \"response\": \"...\", \"done\": true, \"context\": [...], \"total_duration\": ...}\n",
    "    return client.generate(**payload)\n",
    "\n",
    "def extraer_paginas(\n",
    "    indice: str,\n",
    "    *,\n",
    "    modelo: str = model_name,\n",
    "    max_intentos: int = 3,\n",
    "    espera_retry: float = 2.0,\n",
    "    logger: logging.Logger | None = None,\n",
    ") -> Dict[str, str]:\n",
    "    \"\"\"\n",
    "    Envía el texto del índice a un modelo local de Ollama y devuelve\n",
    "    un diccionario `{sección: página}`.\n",
    "    \"\"\"\n",
    "    if logger is None:\n",
    "        logger = logging.getLogger(__name__)\n",
    "\n",
    "    # -------------------------------------------------\n",
    "    # 1️⃣ Prompt\n",
    "    # -------------------------------------------------\n",
    "    prompt = f\"\"\"\\  \n",
    "Extrae únicamente el índice del texto y devuélvelo en *formato JSON válido*.  \n",
    "No escribas explicaciones, resúmenes, comentarios, ni texto adicional.  \n",
    "El resultado debe ser solo el JSON, sin bloques de markdown ni comillas triples.  \n",
    "\n",
    "- Las secciones principales están numeradas con números romanos (I., II., III., ...).  \n",
    "- Los subíndices son títulos que siguen a una sección principal pero no tienen numeración romana.  \n",
    "- El JSON debe tener este formato:\n",
    "\n",
    "{{\n",
    "    \"NOMBRE_DE_SECCIÓN\": {{\n",
    "        \"página\": \"NÚMERO_DE_PÁGINA\",\n",
    "        \"subíndices\": {{\n",
    "            \"SUBÍNDICE_1\": \"NÚMERO_DE_PÁGINA\",\n",
    "            \"SUBÍNDICE_2\": \"NÚMERO_DE_PÁGINA\"\n",
    "        }}\n",
    "    }}\n",
    "}}\n",
    "\n",
    "Si una sección no tiene subíndices, omite el campo \"subíndices\".  \n",
    "\n",
    "Texto a procesar:\n",
    "{indice}\n",
    "\"\"\"\n",
    "\n",
    "    # -------------------------------------------------\n",
    "    # 2️⃣ Llamada a Ollama con reintentos\n",
    "    # -------------------------------------------------\n",
    "    for intento in range(1, max_intentos + 1):\n",
    "        try:\n",
    "            # stream=False para obtener la respuesta completa de una vez\n",
    "            respuesta = _ollama_generate(\n",
    "                model=modelo,\n",
    "                prompt=prompt,\n",
    "                stream=False\n",
    "            )\n",
    "            contenido = respuesta.get(\"response\", \"\")\n",
    "            break\n",
    "        except Exception as exc:\n",
    "            logger.warning(\n",
    "                f\"Intento {intento}/{max_intentos} falló al llamar a Ollama: {exc!r}\"\n",
    "            )\n",
    "            if intento == max_intentos:\n",
    "                logger.error(\"Se agotaron los reintentos. Devolviendo dict vacío.\")\n",
    "                return {}\n",
    "            time.sleep(espera_retry)\n",
    "\n",
    "    # -------------------------------------------------\n",
    "    # 3️⃣ Normalizar la cadena (quitar bloque markdown)\n",
    "    # -------------------------------------------------\n",
    "    json_str = (\n",
    "        contenido.replace(\"```json\", \"\")\n",
    "        .replace(\"```\", \"\")\n",
    "        .strip()\n",
    "    )\n",
    "\n",
    "    # -------------------------------------------------\n",
    "    # 4️⃣ Parsear JSON\n",
    "    # -------------------------------------------------\n",
    "    try:\n",
    "        datos = json.loads(json_str)\n",
    "        # Asegurarnos de que todo sea string y sin espacios de más\n",
    "        datos = {str(k).strip(): str(v).strip() for k, v in datos.items()}\n",
    "    except json.JSONDecodeError as e:\n",
    "        logger.error(\n",
    "            f\"No se pudo decodificar el JSON devuelto por Ollama.\\n\"\n",
    "            f\"Error: {e}\\nRespuesta cruda: {json_str}\"\n",
    "        )\n",
    "        datos = {}\n",
    "\n",
    "    return datos"
   ]
  },
  {
   "cell_type": "code",
   "execution_count": 61,
   "id": "9f9266ff",
   "metadata": {
    "scrolled": true
   },
   "outputs": [
    {
     "name": "stdout",
     "output_type": "stream",
     "text": [
      "📖 El índice general está en la página 3\n",
      "📖 El índice general está en la página 3\n",
      "📖 El índice general está en la página 3\n",
      "📖 El índice general está en la página 3\n",
      "📖 El índice general está en la página 3\n",
      "📖 El índice general está en la página 3\n",
      "📖 El índice general está en la página 3\n"
     ]
    },
    {
     "name": "stderr",
     "output_type": "stream",
     "text": [
      "No se pudo decodificar el JSON devuelto por Ollama.\n",
      "Error: Expecting value: line 1 column 1 (char 0)\n",
      "Respuesta cruda: **JSON jerárquico del índice**\n",
      "\n",
      "\n",
      "{\n",
      "  \"ASISTENCIA\": {\n",
      "    \"página\": \"238\"\n",
      "  },\n",
      "  \"APERTURA DE LA SESIÓN\": {\n",
      "    \"página\": \"243\"\n",
      "  },\n",
      "  \"ACTAS\": {\n",
      "    \"página\": \"243\"\n",
      "  },\n",
      "  \"CUENTA\": {\n",
      "    \"página\": \"243\",\n",
      "    \"subíndices\": {\n",
      "      \"ENVÍO DE PROYECTO A COMISIÓN\": \"243\",\n",
      "      \"FUSIÓN DE PROYECTOS\": \"243\",\n",
      "      \"SALUDO A INVITADOS A LA CÁMARA DE DIPUTADAS Y DIPUTADOS\": \"244\",\n",
      "      \"INTEGRACIÓN DE COMISIÓN MIXTA\": \"244\",\n",
      "      \"MINUTO DE SILENCIO EN MEMORIA DE ALCALDE DE LA COMUNA DE PINTO, DON MANUEL GUZMÁN AEDO, RECIENTEMENTE FALLECIDO\": \"246\"\n",
      "    }\n",
      "  },\n",
      "  \"ORDEN DEL DÍA\": {\n",
      "    \"página\": \"247\",\n",
      "    \"subíndices\": {\n",
      "      \"PRÓRROGA DE VIGENCIA DE ESTADO DE EXCEPCIÓN CONSTITUCIONAL DE EMERGENCIA EN REGIÓN DE LA ARAUCANÍA Y PROVINCIAS DE ARAUCO Y DEL BIOBÍO, REGIÓN DEL BIOBÍO\": \"247\",\n",
      "      \"AUMENTO DE PENAS POR DELITOS COMETIDOS CONTRA FUNCIONARIOS DE CARABINEROS DE CHILE, DE LA POLICÍA DE INVESTIGACIONES Y DE GENDARMERÍA (PRIMER TRÁMITE CONSTITUCIONAL . BOLETÍN N° 14870 -25) [CONTINUACIÓN]\": \"263\"\n",
      "    }\n",
      "  },\n",
      "  \"DOCUMENTOS DE LA CUENTA\": {\n",
      "    \"subíndices\": {}\n",
      "  }\n",
      "}\n"
     ]
    },
    {
     "name": "stdout",
     "output_type": "stream",
     "text": [
      "📖 El índice general está en la página 3\n",
      "📖 El índice general está en la página 3\n",
      "📖 El índice general está en la página 3\n",
      "📖 El índice general está en la página 3\n",
      "📖 El índice general está en la página 3\n",
      "📖 El índice general está en la página 3\n",
      "📖 El índice general está en la página 3\n",
      "📖 El índice general está en la página 3\n",
      "📖 El índice general está en la página 3\n",
      "📖 El índice general está en la página 3\n",
      "📖 El índice general está en la página 3\n",
      "📖 El índice general está en la página 3\n",
      "📖 El índice general está en la página 3\n",
      "📖 El índice general está en la página 3\n",
      "📖 El índice general está en la página 3\n",
      "📖 El índice general está en la página 3\n",
      "📖 El índice general está en la página 3\n",
      "📖 El índice general está en la página 3\n",
      "📖 El índice general está en la página 3\n",
      "📖 El índice general está en la página 3\n",
      "📖 El índice general está en la página 3\n"
     ]
    },
    {
     "name": "stderr",
     "output_type": "stream",
     "text": [
      "No se pudo decodificar el JSON devuelto por Ollama.\n",
      "Error: Expecting value: line 1 column 1 (char 0)\n",
      "Respuesta cruda: **Índice extraído (JSON jerárquico)**  \n",
      "\n",
      "\n",
      "{\n",
      "  \"ASISTENCIA\": {\n",
      "    \"página\": \"10\"\n",
      "  },\n",
      "  \"APERTURA DE LA SESIÓN\": {\n",
      "    \"página\": \"15\"\n",
      "  },\n",
      "  \"ACTAS\": {\n",
      "    \"página\": \"15\"\n",
      "  },\n",
      "  \"CUENTA\": {\n",
      "    \"página\": \"15\"\n",
      "  },\n",
      "  \"TABLA\": {\n",
      "    \"página\": \"15\",\n",
      "    \"subíndices\": {\n",
      "      \"ELECCIÓN DE LOS MIEMBROS DE LA COMISIÓN EXPERTA A QUE SE REFIERE EL ARTÍCULO 145 DE LA CONSTITUCIÓN POLÍTICA DE LA REPÚBLICA\": \"15\"\n",
      "    }\n",
      "  },\n",
      "  \"DOCUMENTOS DE LA CUENTA\": {\n",
      "    \"página\": \"\",\n",
      "    \"subíndices\": {\n",
      "      \"1. Oficio del Senado que comunica la aprobación del proyecto para promover el envejecimiento positivo, el cuidado integral de las personas mayores y el fortalecimiento de la institucionalidad del adulto mayor\": \"\",\n",
      "      \"2. Oficio del Senado que comunica el acuerdo a la solicitud del Presidente de la República para prorrogar la vigencia del estado de excepción constitucional en la Región de La Araucanía y provincias de Arauco y del Biobío\": \"\",\n",
      "      \"3. Proyecto iniciado en moción de los diputados Manouchehri, Ilabaca, Jouannet y Melo, y de las diputadas Cicardini, Cordero, Ñanco y Oliv era, que modifica la ley N° 17.798 sobre control de armas para prohibir la realización de espectáculos pirotécnicos y el uso de pirotecnia en eventos masivos\": \"\",\n",
      "      \"4. Proyecto iniciado en moción de los diputados Rivas, Alin co, Calisto, Durán, Eduardo, Schubert y Urruticoechea, y de las diputadas Barchiesi, Cordero y Jiles, que modifica el Código Penal para sancionar la apología, justificación y normalización de la pedofilia\": \"\",\n",
      "      \"5. Proyecto iniciado en moción de los diputados Araya, Jaime; Bianchi; Soto, Raúl; Tapia y Ulloa, y de las diputadas González, Marta y Marzán, que modifica la ley N° 20.000 para aumentar las penas por cultivar especies vegetales con efectos psicotrópicos o estupefacientes en bienes del Estado o municipales\": \"\",\n",
      "      \"6. Oficio de la Excma. Corte Suprema que remite opinión respecto del proyecto iniciado en moción que modifica el Código Orgánico de Tribunales\": \"\"\n",
      "    }\n",
      "  }\n",
      "}\n",
      "\n",
      "\n",
      "**Notas aclaratorias**\n",
      "\n",
      "- Las secciones principales están identificadas por numerales romanos (I., II., III., IV., V., VI.).  \n",
      "- Los títulos que aparecen bajo la sección **VI. DOCUMENTOS DE LA CUENTA** no tienen numeración romana; por tanto se consideran **subíndices**.  \n",
      "- En el índice original sólo se especifican números de página para las secciones I‑V (10 y 15). No aparecen números de página para la sección VI ni para sus subíndices; dichos campos se han dejado vacíos (`\"\"`).  \n",
      "- El título largo que sigue a la sección **V. TABLA** se ha tratado como un subíndice de V., ya que no lleva numeración romana y está directamente asociado a esa sección.\n"
     ]
    },
    {
     "name": "stdout",
     "output_type": "stream",
     "text": [
      "📖 El índice general está en la página 3\n",
      "📖 El índice general está en la página 3\n",
      "📖 El índice general está en la página 3\n"
     ]
    },
    {
     "name": "stderr",
     "output_type": "stream",
     "text": [
      "No se pudo decodificar el JSON devuelto por Ollama.\n",
      "Error: Expecting value: line 1 column 1 (char 0)\n",
      "Respuesta cruda: **Índice extraído en formato JSON jerárquico**\n",
      "\n",
      "\n",
      "{\n",
      "  \"I. ASISTENCIA\": {\n",
      "    \"página\": \"11\"\n",
      "  },\n",
      "  \"II. APERTURA DE LA S ESIÓN\": {\n",
      "    \"página\": \"17\"\n",
      "  },\n",
      "  \"III. ACTAS\": {\n",
      "    \"página\": \"17\"\n",
      "  },\n",
      "  \"IV. CUENTA\": {\n",
      "    \"página\": \"17\",\n",
      "    \"subíndices\": {\n",
      "      \"ENVÍO DE PROYECTO A COMISIÓN\": \"17\"\n",
      "    }\n",
      "  },\n",
      "  \"V. TABLA\": {\n",
      "    \"página\": \"20\",\n",
      "    \"subíndices\": {\n",
      "      \"INFORME DE LA COMISIÓN ESPECIAL INVESTIGADORA DE REUNIR ANTECEDENTES RELACIONADOS CON EL CUMPLIMIENTO DE FUNCIONES DE RESGUARDO DE LA SEGURIDAD Y ORDEN PÚBLICO INTERIOR, Y REVISAR POLÍTICA DE PERSECUCIÓN Y USO DE HERRAMIENTAS QUE LA CONSTITUCIÓN Y LAS LEYES ENTREGAN AL GOBIERNO EN EL COMBATE DE LA DELINCUENCIA, EL CRIMEN ORGANIZADO Y EL TERRORISMO (CEI 5)\": \"20\",\n",
      "      \"CREACIÓN DE FONDO DE GARANTÍAS ESPECIALES (SEGUNDO TRÁMITE CONSTITUCIONAL . BOLETÍN N° 15654 -05)\": \"34\",\n",
      "      \"ADECUACIÓN DE LEYES PARA AGILIZACIÓN DE CUMPLIMIENTO DE PLAN DE EMERGENCIA HABITACIONAL (PRIMER TRÁMITE CONSTITUCIONAL . BOLETÍN N° 15552 -14)\": \"45\",\n",
      "      \"ESTABLECIMIENTO, PROMOCIÓN Y GARANTÍA DE ATENCIÓN MÉDICA, SOCIAL Y EDUCATIVA, ASÍ COMO DE PROTECCIÓN E INCLUSIÓN DE PERSONAS CON CONDICIÓN DEL ESPECTRO AUTISTA U OTRA QUE AFECTE EL NEURODESARROLLO (TERCER TRÁMITE CONSTITUCIONAL . BOLETINES NOS 14310 -35 Y 14549 -35, REFUNDIDOS )\": \"59\",\n",
      "      \"AUMENTO DE DURACIÓN DE ESTADO DE EXCEPCIÓN CONSTITUCIONAL DE EMERGENCIA A CONTAR DE SEXTA PRÓRROGA SUCESIVA (PROPOSICIÓN DE LA COMISIÓN MIXTA . BOLETÍN N° 15509 -07)\": \"91\",\n",
      "      \"PROTECCIÓN DE INFRAESTRUCTURA CRÍTICA POR PARTE DE LAS FUERZAS ARMADAS EN CASO DE PELIGRO GRAVE O INMINENTE (PROPOSICIÓN DE LA COMISIÓN MIXTA . BOLETINES NOS 15219 -07 Y 13085 -07, REFUNDIDOS )\": \"97\",\n",
      "      \"RATIFICACIÓN DE NOMBRAMIENTO DEL SECRETARIO GENERAL Y DEL PROSECRETARIO DE LOS ÓRGANOS ENCARGADOS DE REDACTAR LA NUEVA CONSTITUCIÓN POLÍTICA DE LA REPÚBLICA\": \"114\"\n",
      "    }\n",
      "  },\n",
      "  \"VI. DOCUMENTOS DE LA CUENTA\": {\n",
      "    \"página\": null,\n",
      "    \"subíndices\": {\n",
      "      \"1. Oficio del Senado mediante el cual comunica que tomó conocimiento del rechazo de la Cámara de Diputados al proyecto \\\"Modifica la Carta Fundamental con el objeto de permitir la protección de infraestructura crítica por parte de las Fuerzas Armadas, en caso de peligro grave o inminente\\\", así como del nombre de los diputados y diputadas que concurrirán a la formación de la comisión mixta\": null\n",
      "    }\n",
      "  }\n",
      "}\n",
      "\n",
      "\n",
      "**Notas sobre la extracción**\n",
      "\n",
      "- Cada sección principal está identificada por su numeración romana (I., II., III., …).  \n",
      "- Los títulos que aparecen después de una sección principal y **no** llevan numeración romana se consideran subíndices de esa sección.  \n",
      "- Cuando el índice no incluye número de página (p. ej. “VI. DOCUMENTOS DE LA CUENTA”), el valor se dejó como `null`.  \n",
      "- Los subíndices que tampoco especifican página se han anotado también con `null`.\n"
     ]
    },
    {
     "name": "stdout",
     "output_type": "stream",
     "text": [
      "📖 El índice general está en la página 3\n",
      "📖 El índice general está en la página 3\n",
      "📖 El índice general está en la página 3\n",
      "📖 El índice general está en la página 3\n",
      "📖 El índice general está en la página 3\n"
     ]
    },
    {
     "name": "stderr",
     "output_type": "stream",
     "text": [
      "No se pudo decodificar el JSON devuelto por Ollama.\n",
      "Error: Expecting value: line 1 column 1 (char 0)\n",
      "Respuesta cruda: **Índice extraído en formato JSON jerárquico**\n",
      "\n",
      "\n",
      "{\n",
      "  \"I. ASISTENCI A\": {\n",
      "    \"página\": \"22\"\n",
      "  },\n",
      "  \"II. APERTURA DE LA SESIÓN\": {\n",
      "    \"página\": \"27\"\n",
      "  },\n",
      "  \"III. ACTAS\": {\n",
      "    \"página\": \"27\"\n",
      "  },\n",
      "  \"IV. CUENTA\": {\n",
      "    \"página\": \"27\",\n",
      "    \"subíndices\": {\n",
      "      \"CREACIÓN DE COMISIONES ESPECIALES INVESTIGADORAS\": \"27\",\n",
      "      \"SALUDO A DELEGACIÓN DE CROACIA\": \"28\"\n",
      "    }\n",
      "  },\n",
      "  \"V. ORDEN DEL DÍA\": {\n",
      "    \"página\": \"28\",\n",
      "    \"subíndices\": {\n",
      "      \"ESTABLECIMIENTO DE REFORMA TRIBUTARIA HACIA UN PACTO FISCAL POR EL DESARROLLO Y LA JUSTICIA SOCIAL (PRIMER TRÁMITE CONSTITUCIONAL. BOLETÍN NO 15170‑05)\": \"28\"\n",
      "    }\n",
      "  },\n",
      "  \"VI. DOCUMENTOS DE LA CUENTA\": {\n",
      "    \"subíndices\": {\n",
      "      \"1. Informe de la Comisión de Minería y Energía\": null\n",
      "    }\n",
      "  },\n",
      "  \"VII. OTROS DOCUMENTOS DE LA CUENTA\": {\n",
      "    \"subíndices\": {\n",
      "      \"1. Peticiones\": null\n",
      "    }\n",
      "  }\n",
      "}\n",
      "\n",
      "\n",
      "**Notas**\n",
      "\n",
      "- Los títulos de las secciones y subíndices se han tomado tal cual aparecen en el texto, eliminando sólo los puntos suspensivos y el exceso de espacios.\n",
      "- Cuando el número de página no está indicado en el índice original (por ejemplo, para los sub‑índices de las secciones **VI** y **VII**), el valor se ha puesto como `null`. Si se dispone de la información de página, basta reemplazar `null` por el número correspondiente.\n"
     ]
    },
    {
     "name": "stdout",
     "output_type": "stream",
     "text": [
      "📖 El índice general está en la página 3\n",
      "📖 El índice general está en la página 3\n",
      "📖 El índice general está en la página 3\n",
      "📖 El índice general está en la página 3\n",
      "📖 El índice general está en la página 3\n",
      "📖 El índice general está en la página 3\n",
      "📖 El índice general está en la página 3\n",
      "📖 El índice general está en la página 3\n",
      "📖 El índice general está en la página 3\n",
      "📖 El índice general está en la página 3\n"
     ]
    },
    {
     "name": "stderr",
     "output_type": "stream",
     "text": [
      "No se pudo decodificar el JSON devuelto por Ollama.\n",
      "Error: Expecting value: line 1 column 1 (char 0)\n",
      "Respuesta cruda: **JSON con el índice jerárquico extraído del texto**\n",
      "\n",
      "\n",
      "{\n",
      "  \"ASISTENCIA\": {\n",
      "    \"página\": \"25\"\n",
      "  },\n",
      "  \"APERTURA DE LA SESIÓN\": {\n",
      "    \"página\": \"31\"\n",
      "  },\n",
      "  \"ACTAS\": {\n",
      "    \"página\": \"31\"\n",
      "  },\n",
      "  \"CUENTA\": {\n",
      "    \"página\": \"31\",\n",
      "    \"subíndices\": {\n",
      "      \"RECHAZO DE CÁMARA DE DIPUTADOS A ACTOS DE VIOLENCIA COMETIDOS EN CONTRA DE MINISTRA DEL INTERIOR Y SEGURIDAD PÚBLICA Y SU COMITIVA EN REGIÓN DE LA ARAUCANÍA\": \"31\",\n",
      "      \"INFORME DE DEPARTAMENTO DE EVALUACIÓN DE LA LEY\": \"32\"\n",
      "    }\n",
      "  },\n",
      "  \"OBJETO DE LA SESIÓN\": {\n",
      "    \"página\": \"33\",\n",
      "    \"subíndices\": {\n",
      "      \"ACUERDOS DE SALA PARA NUEVO PERÍODO LEGISLATIVO\": \"33\"\n",
      "    }\n",
      "  },\n",
      "  \"DOCUMENTOS DE LA CUENTA\": {\n",
      "    \"subíndices\": {\n",
      "      \"Oficio de S.E. el Presidente de la República por el cual solicita el acuerdo del Congreso Nacional a efectos de prorrogar la vigencia del estado de excepción constitucional de emergencia\": \"\",\n",
      "      \"Oficio del ex‑Presidente de la República por el cual comunica que ha resuelto no hacer uso de la facultad que le confiere el inciso primero del artículo 73 de la Constitución Política de la República\": \"\",\n",
      "      \"Oficio del Senado por el cual informa que procedió a elegir como Presidente al senador Álvaro Elizalde Soto y, como Vicepresidenta, a la senadora Luz Ebensperger Orrego\": \"\",\n",
      "      \"Oficio del Senado por el cual comunica que ha aprobado la proposición formulada por la Comisión Mixta constituida para resolver las divergencias suscitadas entre ambas Cámaras\": \"\",\n",
      "      \"Oficio del Senado por el cual comunica que ha aprobado, en los mismos términos, el proyecto iniciado en mensaje que \\\"Aprueba el Acuerdo Modificatorio del…\\\"\": \"\"\n",
      "    }\n",
      "  }\n",
      "}\n",
      "\n",
      "\n",
      "**Notas sobre la construcción del JSON**\n",
      "\n",
      "- Las secciones principales están identificadas por numerales romanos (I., II., III., IV., V., VI.) y se usan como claves de primer nivel.  \n",
      "- Cada clave incluye el número de página que aparece justo después del título.  \n",
      "- Los “subíndices” son los títulos que siguen a una sección principal pero que no llevan numeración romana.  \n",
      "- Cuando no se indica página para un subíndice (caso de los documentos listados bajo *DOCUMENTOS DE LA CUENTA*), se deja el valor de página vacío (`\"\"`).  \n",
      "- Si una sección no tiene subíndices, el campo **subíndices** se omite (como en *ASISTENCIA*, *APERTURA DE LA SESIÓN* y *ACTAS*).\n"
     ]
    },
    {
     "name": "stdout",
     "output_type": "stream",
     "text": [
      "📖 El índice general está en la página 3\n",
      "📖 El índice general está en la página 3\n",
      "📖 El índice general está en la página 3\n",
      "📖 El índice general está en la página 3\n"
     ]
    },
    {
     "name": "stderr",
     "output_type": "stream",
     "text": [
      "No se pudo decodificar el JSON devuelto por Ollama.\n",
      "Error: Expecting value: line 1 column 1 (char 0)\n",
      "Respuesta cruda: **Índice extraído y estructurado como JSON jerárquico**\n",
      "\n",
      "\n",
      "{\n",
      "  \"ASISTENCIA\": {\n",
      "    \"página\": \"20\"\n",
      "  },\n",
      "  \"APERTURA DE LA SESIÓN\": {\n",
      "    \"página\": \"25\"\n",
      "  },\n",
      "  \"ACTAS\": {\n",
      "    \"página\": \"25\"\n",
      "  },\n",
      "  \"CUENTA\": {\n",
      "    \"página\": \"25\"\n",
      "  },\n",
      "  \"SALUDO A EMBAJADOR DE AUSTRIA EN CHILE\": {\n",
      "    \"página\": \"25\"\n",
      "  },\n",
      "  \"ORDEN DEL DÍA\": {\n",
      "    \"página\": \"25\"\n",
      "  },\n",
      "  \"INCREMENTO DE FONDO DE ESTABLECIMIENTO DE PRECIOS DEL PETRÓLEO (SEGUNDO TRÁMITE CONSTITUCIONAL. BOLETÍN N° 14945‑05)\": {\n",
      "    \"página\": \"25\"\n",
      "  },\n",
      "  \"ACUERDO REGIONAL SOBRE EL ACCESO A LA INFORMACIÓN, LA PARTICIPACIÓN PÚBLICA Y EL ACCESO A LA JUSTICIA EN ASUNTOS AMBIENTALES EN AMÉRICA LATINA Y EL CARIBE, Y SU ANEXO 1, ADOPTADO EN ESCAZÚ, REPÚBLICA DE COSTA RICA, EL 4 DE MARZO DE 2018 (PRIMER TRÁMITE CONSTITUCIONAL. BOLETÍN N° 14852‑10)\": {\n",
      "    \"página\": \"51\"\n",
      "  },\n",
      "  \"DOCUMENTOS DE LA CUENTA\": {\n",
      "    \"página\": \"25\",\n",
      "    \"subíndices\": {\n",
      "      \"1. Oficio del Senado por el cual comunica que ha rechazado en general el proyecto de reforma constitucional, iniciado en moción, \\\"Sobre las calidades que deben reunir los integrantes del Tribunal Calificador de Elecciones\\\", y que ha designado a los miembros de la Comisión de Constitución, Legislación, Justicia y Reglamento para integrar la comisión mixta correspondiente. Boletín N° 8855‑07 (216/SEC/22).\": \"\",\n",
      "      \"2. Proyecto iniciado en moción de los diputados señores Moreno; Araya, don Cristián; Irarrázaval; Jürgensen; Kaiser; Meza; Romero, don Agustín; Romero, don Leondías; Schubert y Urruticoechea, que \\\"Declara el 12 de abril de cada año como el Día Nacional de las Personas con Extremidades Diferentes\\\". Boletín N° 14970‑35.\": \"\",\n",
      "      \"3. Proyecto iniciado en moción de los diputados señores González, don Mauro; Aedo; Berger; Bobadilla; Calisto y Romero, don Leonidas, que \\\"Modifica la ley N° 18.892, General de Pesca y Acuicultura, para sancionar a quien apodre, extraiga, transporte o comercialice recursos hidrobiológicos contaminados\\\". Boletín N° 14971‑21.\": \"\",\n",
      "      \"4. Proyecto iniciado en moción de los diputados señores Araya, don Jaime; Alinco; Soto, don Raúl; Tapia y Ulloa; y de las diputadas señoras González, doña Marta; Marzán y Molina, que \\\"Modifica la ley N° 17.798 para agravar la pena aplicable por poseer, tener o portar armas u otros elementos sujetos a control, en las cercanías de establecimientos educacionales o de salud, y por efectuar disparos en dicha zona\\\". Boletín N° 14972‑02.\": \"\",\n",
      "      \"5. Proyecto iniciado en moción de los diputados señores Bianchi; Alinco; Araya, don Jaime; Soto, don Raúl; Tapia y Ulloa; y de las diputadas señoras González, doña Marta; Marzán y Molina, que \\\"Modifica la ley N° 18.046, sobre Sociedades Anónimas\\\".\": \"\"\n",
      "    }\n",
      "  }\n",
      "}\n",
      "\n",
      "\n",
      "**Notas aclaratorias**\n",
      "\n",
      "1. **Páginas de los subíndices**  \n",
      "   En el fragmento del índice proporcionado no aparecen números de página asociados a cada uno de los sub‑índices bajo la sección *DOCUMENTOS DE LA CUENTA*. Por esa razón el valor correspondiente se ha dejado vacío (`\"\"`). Si se dispone de esa información en otra parte del documento, basta reemplazar los valores vacíos por los números de página correspondientes.\n",
      "\n",
      "2. **Normalización de títulos**  \n",
      "   - Los títulos de las secciones principales se han conservado tal como aparecen en el índice, respetando mayúsculas, tildes y signos de puntuación.  \n",
      "   - Cuando el título incluye información adicional entre paréntesis (por ejemplo, referencia al boletín), se ha mantenido íntegramente para evitar ambigüedades.\n",
      "\n",
      "3. **Jerarquía**  \n",
      "   Cada sección principal se representa como una clave de nivel superior del objeto JSON. Si la sección contiene sub‑índices, estos aparecen dentro del objeto `\"subíndices\"` con su propio mapeo a página (vacío en este caso).\n",
      "\n",
      "4. **Formato**  \n",
      "   El JSON está estructurado de acuerdo con el formato solicitado, listo para ser consumido por aplicaciones que requieran la representación jerárquica del índice.\n"
     ]
    },
    {
     "name": "stdout",
     "output_type": "stream",
     "text": [
      "📖 El índice general está en la página 3\n"
     ]
    },
    {
     "name": "stderr",
     "output_type": "stream",
     "text": [
      "No se pudo decodificar el JSON devuelto por Ollama.\n",
      "Error: Expecting value: line 1 column 1 (char 0)\n",
      "Respuesta cruda: **Índice extraído en formato JSON jerárquico**\n",
      "\n",
      "\n",
      "{\n",
      "    \"I. ASISTENCIA\": {\n",
      "        \"página\": \"89\"\n",
      "    },\n",
      "    \"II. APERTURA DE LA SESIÓN\": {\n",
      "        \"página\": \"95\"\n",
      "    },\n",
      "    \"III. ACTAS\": {\n",
      "        \"página\": \"95\"\n",
      "    },\n",
      "    \"IV. CUENTA\": {\n",
      "        \"página\": \"95\",\n",
      "        \"subíndices\": {\n",
      "            \"AUTORIZACIÓN A COMISIONES PARA SESIONAR UNIDAS\": \"95\",\n",
      "            \"PERMISO CONSTITUCIONAL\": \"95\",\n",
      "            \"MINUTO DE SILENCIO POR SENSIBLE FALLECIMIENTO DE PERIODISTA FRANCISCA SANDOVAL\": \"98\",\n",
      "            \"RÉPLICA A IMPUTACIONES (APLICACIÓN DE ARTÍCULO 33 DEL REGLAMENTO)\": \"98\"\n",
      "        }\n",
      "    },\n",
      "    \"V. ORDEN DEL DÍA\": {\n",
      "        \"página\": \"100\",\n",
      "        \"subíndices\": {\n",
      "            \"ACLARACIÓN DE ALCANCE DE ARTÍCULO 74 DE LEY DEL DEPORTE (PRIMER TRÁMITE CONSTITUCIONAL. BOLETÍN N° 14521-29)\": \"100\",\n",
      "            \"EXCLUSIÓN A ABUELOS BENEFICIARIOS DE PENSIÓN BÁSICA SOLIDARIA DE VEJEZ O CON INSUFICIENCIA DE INGRESOS DE OBLIGACIÓN SUBSIDIARIA DE PROVISIÓN DE ALIMENTOS (PRIMER TRÁMITE CONSTITUCIONAL. BOLETÍN N° 14761-18)\": \"114\"\n",
      "        }\n",
      "    },\n",
      "    \"VI. PROYECTOS DE ACUERDO Y DE RESOLUCIÓN\": {\n",
      "        \"página\": \"133\",\n",
      "        \"subíndices\": {\n",
      "            \"ADOPCIÓN DE MEDIDAS GUBERNAMENTALES PARA PALIAR EFECTOS DE ALZAS DE TARIFAS ELÉCTRICAS (N° 57)\": \"133\",\n",
      "            \"INCREMENTO A SUBSIDIO DE INDAP PARA FORTALECIMIENTO Y PROTECCIÓN DE AGRICULTURA FAMILIAR CAMPESINA (N° 71)\": \"135\",\n",
      "            \"PERFECCIONAMIENTO DE PENSIÓN GARANTIZADA UNIVERSAL Y SUPRESIÓN EN LEGISLACIÓN PREVISIONAL DE INCOMPATIBILIDADES QUE DISCRIMINEN A VÍCTIMAS DE DERECHOS HUMANOS EN DICTADURA BENEFICIARIAS DE PENSIONES DE REPARACIÓN O DE SOBREVIVENCIA (N° 98)\": \"138\"\n",
      "        }\n",
      "    },\n",
      "    \"VII. DOCUMENTOS DE LA CUENTA\": {\n",
      "        \"subíndices\": {}\n",
      "    }\n",
      "}\n"
     ]
    },
    {
     "name": "stdout",
     "output_type": "stream",
     "text": [
      "📖 El índice general está en la página 3\n",
      "📖 El índice general está en la página 3\n",
      "📖 El índice general está en la página 3\n",
      "📖 El índice general está en la página 3\n",
      "📖 El índice general está en la página 3\n"
     ]
    },
    {
     "name": "stderr",
     "output_type": "stream",
     "text": [
      "No se pudo decodificar el JSON devuelto por Ollama.\n",
      "Error: Expecting value: line 1 column 1 (char 0)\n",
      "Respuesta cruda: **Índice extraído en formato JSON jerárquico**\n",
      "\n",
      "\n",
      "{\n",
      "  \"ASISTENCIA\": {\n",
      "    \"página\": \"11\"\n",
      "  },\n",
      "  \"APERTURA DE LA SESIÓN\": {\n",
      "    \"página\": \"17\"\n",
      "  },\n",
      "  \"ACTAS\": {\n",
      "    \"página\": \"17\"\n",
      "  },\n",
      "  \"CUENTA\": {\n",
      "    \"página\": \"17\"\n",
      "  },\n",
      "  \"OBJETO DE LA SESIÓN\": {\n",
      "    \"página\": \"17\"\n",
      "  },\n",
      "  \"DOCUMENTOS DE LA CUENTA\": {\n",
      "    \"página\": \"\",\n",
      "    \"subíndices\": {\n",
      "      \"1. Proyecto iniciado en moción de las diputadas señoras Del Real; Cid y Flores, y de los diputados señores Calisto, Fuenzalida, Labbé, Mellado, don Miguel, y Nara njo, que \\\"Prohíbe el uso de vidrios oscuros o polarizados en vehículos particulares y aumenta la sanción por su conducción sin placa patente\\\". Boletín N° 15023‑25.\": \"\",\n",
      "      \"2. Proyecto iniciado en moción de los diputados señores Carter, Bórquez, Cornejo, Lilayu, Martínez, Sulantay y Trisotti, y de las diputadas señoras Bravo, doña Marta; Pérez, doña Marlene, y Romero, doña Natalia, que \\\"Modifica diversos cuerpos legales para tipificar y penar el delito de infanticidio calificado\\\". Boletín N° 15024‑07.\": \"\",\n",
      "      \"3. Proyecto iniciado en moción del diputado señor Carter, que \\\"Modifica el Código Penal y la ley N° 17.288, sobre monumentos nacionales, para agravar las penas por apropiación o destrucción de monumentos nacionales y promover su denuncia\\\". Boletín N° 15025‑24.\": \"\",\n",
      "      \"4. Proyecto iniciado en moción de los diputados señores Coloma, Benavente, Cornejo, Donoso, Labbé, Leal y Lilayu, y de las diputadas señoras Bravo, doña Marta; Pérez, doña Marlene y Romero, doña Natalia, que \\\"Establece regla de proporcionalidad para el cobro de licencias de conducir\\\". Boletín N° 15026‑15.\": \"\",\n",
      "      \"5. Proyecto iniciado en moción de los diputados señores Donoso, Benavente, Bórquez, Cornejo, Fuenzalida, Martínez, Sulantay y Trisotti, y de las diputadas señoras Romero, doña Natalia, y Weisse, que \\\"Modifica la Carta Fundamental para establecer el deber del Estado de promover las tradiciones chilenas\\\". Boletín N° 15027‑07.\": \"\",\n",
      "      \"6. Proyecto iniciado en moción de los diputados señores Leiva, Alessandri, Araya, don Jaime; Calisto, Longton, Mirosevic, Oyarzo y Santana, y de la diputada señora Fries, que \\\"Modifica el Código Procesal Penal en materia de prisión preventiva por uso de armas de fuego o pertenencia a una organización criminal\\\". Boletín N° 15028‑25.\": \"\",\n",
      "      \"7. Proyecto iniciado en moción de los diputados señores Castro, Celis y González, don Félix, y de las diputadas señoras Cid, Morales, doña Carla; Ossandón y ...\": \"\"\n",
      "    }\n",
      "  }\n",
      "}\n",
      "\n",
      "\n",
      "**Notas sobre el JSON**\n",
      "\n",
      "* Cada sección principal (I – VI) se ha convertido en una clave cuyo valor contiene el número de página correspondiente.  \n",
      "* Las secciones I – V no poseen subíndices, por lo que sólo aparecen el campo `\"página\"`.  \n",
      "* La sección **VI. DOCUMENTOS DE LA CUENTA** contiene varios subíndices numerados (1, 2, 3, …) que aparecen dentro del objeto `\"subíndices\"`.  \n",
      "* En el texto original no se indican números de página para los subíndices de la sección VI; por ello el valor de `\"página\"` para cada uno se ha dejado como cadena vacía (`\"\"`).  \n",
      "* Si más adelante se dispone de los números de página de los subíndices, basta remplazar el valor vacío por el número correspondiente.\n"
     ]
    },
    {
     "name": "stdout",
     "output_type": "stream",
     "text": [
      "📖 El índice general está en la página 3\n",
      "📖 El índice general está en la página 3\n",
      "📖 El índice general está en la página 3\n",
      "📖 El índice general está en la página 3\n",
      "📖 El índice general está en la página 3\n",
      "📖 El índice general está en la página 3\n",
      "📖 El índice general está en la página 3\n",
      "📖 El índice general está en la página 3\n",
      "📖 El índice general está en la página 3\n",
      "📖 El índice general está en la página 3\n"
     ]
    },
    {
     "name": "stderr",
     "output_type": "stream",
     "text": [
      "No se pudo decodificar el JSON devuelto por Ollama.\n",
      "Error: Expecting value: line 1 column 1 (char 0)\n",
      "Respuesta cruda: **JSON con el índice jerárquico extraído**\n",
      "\n",
      "\n",
      "{\n",
      "  \"ASISTENCIA\": {\n",
      "    \"página\": \"13\"\n",
      "  },\n",
      "  \"APERTURA DE LA SESIÓN\": {\n",
      "    \"página\": \"19\"\n",
      "  },\n",
      "  \"ACTAS\": {\n",
      "    \"página\": \"19\"\n",
      "  },\n",
      "  \"CUENTA\": {\n",
      "    \"página\": \"19\"\n",
      "  },\n",
      "  \"OBJETO DE LA SESIÓN\": {\n",
      "    \"página\": \"19\",\n",
      "    \"subíndices\": {\n",
      "      \"ANÁLISIS DE EVENTUALES IRREGULARIDADES EN EL MERCADO DEL GAS LICUADO Y SUS EFECTOS EN LOS CONSUMIDORES (PROYECTOS DE RESOLUCIÓN)\": \"19\"\n",
      "    }\n",
      "  },\n",
      "  \"DOCUMENTOS DE LA CUENTA\": {\n",
      "    \"subíndices\": {\n",
      "      \"1. Mensaje del Presidente de la República que da inicio a la tramitación del proyecto «Establece un nuevo marco de financiamiento e introduce mejoras al transporte público remunerado de pasajeros» (Boletín N° 15140‑15)\": \"\",\n",
      "      \"2. Oficio del Presidente que presenta la urgencia calificada de «discusión inmediata» para el proyecto que modifica el decreto con fuerza de ley N° 16 de 1986 (Boletín N° 14947‑05(S))\": \"\",\n",
      "      \"3. Oficio del Presidente que presenta la urgencia «suma» para el proyecto que establece un nuevo marco de financiamiento (Boletín N° 15140‑15)\": \"\",\n",
      "      \"4. Oficios del Presidente que presentan la urgencia calificada de «simple» para varios proyectos (entre ellos la creación del Servicio de Biodiversidad y Áreas Protegidas – Boletín N° 9404‑12)\": \"\",\n",
      "      \"5. Oficio del Presidente que presenta la urgencia calificada de «simple» para el proyecto que prohíbe informar las deudas contraídas para financiar atenciones de salud (Boletín N° 14211‑11(S))\": \"\",\n",
      "      \"6. Proyecto iniciado en moción de la diputada Ahumada y de los diputados Castro, Oyarzo y Soto, que modifica la Ley N° 21.020 sobre tenencia responsable de mascotas (Boletín N° 15136‑11)\": \"\",\n",
      "      \"7. Proyecto iniciado en moción de diversas diputadas que modifica la Ley N° 18.695, orgánica constitucional de Municipalidades\": \"\"\n",
      "    }\n",
      "  }\n",
      "}\n",
      "\n",
      "\n",
      "**Notas aclaratorias**\n",
      "\n",
      "- Los números de página aparecen sólo cuando están explícitamente indicados en el índice (p.ej., “13”, “19”).  \n",
      "- Para la sección **DOCUMENTOS DE LA CUENTA** no se indica un número de página en el fragmento proporcionado; por eso el campo `\"página\"` se omite.  \n",
      "- Los subíndices bajo **DOCUMENTOS DE LA CUENTA** tampoco tienen número de página en el texto; el valor se deja vacío (`\"\"`).  \n",
      "- Los títulos de los subíndices se han resumido manteniendo la información esencial para que el JSON sea legible.\n"
     ]
    },
    {
     "name": "stdout",
     "output_type": "stream",
     "text": [
      "📖 El índice general está en la página 3\n",
      "📖 El índice general está en la página 3\n",
      "📖 El índice general está en la página 3\n",
      "📖 El índice general está en la página 3\n"
     ]
    },
    {
     "name": "stderr",
     "output_type": "stream",
     "text": [
      "No se pudo decodificar el JSON devuelto por Ollama.\n",
      "Error: Expecting value: line 1 column 1 (char 0)\n",
      "Respuesta cruda: **Índice extraído en formato JSON jerárquico**\n",
      "\n",
      "\n",
      "{\n",
      "  \"I. ASISTENCIA\": {\n",
      "    \"página\": \"8\"\n",
      "  },\n",
      "  \"II. APERTURA DE LA SESIÓN\": {\n",
      "    \"página\": \"13\"\n",
      "  },\n",
      "  \"III. ACTAS\": {\n",
      "    \"página\": \"13\"\n",
      "  },\n",
      "  \"IV. CUENTA\": {\n",
      "    \"página\": \"13\"\n",
      "  },\n",
      "  \"V. OBJETO DE LA SESIÓN\": {\n",
      "    \"página\": \"13\",\n",
      "    \"subíndices\": {\n",
      "      \"ANÁLISIS SOBRE SITUACIÓN MEDIOAMBIENTAL EN ZONA DE SACRIFICIO DE CONCÓN, QUINTERO Y PUCHUNCAVÍ (PROYECTOS DE RESOLUCIÓN)\": \"13\"\n",
      "    }\n",
      "  },\n",
      "  \"VI. DOCUMENTOS DE LA CUENTA\": {\n",
      "    \"subíndices\": {\n",
      "      \"1. Proyecto iniciado en moción de la diputada señora Barchiesi; y de los diputados señores De La Carrera; Irarrázaval; Moreno; Ojeda y Sánchez, que \\\"Modifica la Carta Fundamental para crear la Coordinación Sociocultural de la Presidencia de la República y establece requisitos para el ejercicio de dicho cargo\\\". Boletín N° 15161‑07.\": null,\n",
      "      \"2. Proyecto iniciado en moción de los diputados señores Rivas; Arroyo; Oyarzo; Piñó; Pulgar y de las diputadas señoras Ahumada y Medina, que \\\"Modifica la Carta Fundamental para establecer el deber de los tribunales de velar por los derechos de la víctima del delito y castigar al inculpado, y el derecho ciudadan…\\\". Boletín N° 15162‑07.\": null,\n",
      "      \"3. Proyecto iniciado en moción de los diputados señores Araya, don Jaime; Alinco; Bianchi y Ulloa; y de la diputada señora González, doña Marta, que \\\"Modifica el Código del Trabajo para disponer la entrega de información expresa sobre las remuneraciones asociadas a las ofertas de empleo\\\". Boletín N° 15163‑13.\": null,\n",
      "      \"4. Oficio de la Excma. Corte Suprema por el cual remite opinión respecto del proyecto, iniciado en moción, que \\\"Modifica la ley N°21.120 y otros cuerpos normativos, en materia de reconocimiento y protección del derecho a la identidad de género\\\". Boletín 14985‑34 (130‑2022).\": null\n",
      "    }\n",
      "  },\n",
      "  \"VII. OTROS DOCUMENTOS DE LA CUENTA\": {\n",
      "    \"subíndices\": {\n",
      "      \"Respuestas a Oficios\": null,\n",
      "      \"Contraloría General\": null,\n",
      "      \"Diputado González, don Mauro. Solicita informar sobre las auditorías efectuadas a los recursos provenientes de la Subvención Escolar Preferencial y los Programas de Integración Escolar entregados al municipio de Puerto Montt, según se indica en documento anexo (231000 al 2603).\": null,\n",
      "      \"Diputado Romero, don Agustín. Solicita pronunciamiento respecto de las obligaciones de transparencia que le corresponden a la Municipalidad de Maipú respecto de la empresa Sanitaria Smapa.\": null\n",
      "    }\n",
      "  }\n",
      "}\n",
      "\n",
      "\n",
      "> **Nota**  \n",
      "> * Las secciones principales están identificadas por números romanos (I‑VII).  \n",
      "> * Los subíndices son los títulos que aparecen inmediatamente después de una sección principal sin numeración romana.  \n",
      "> * Cuando el número de página no está indicado en el texto original, el campo **página** se ha omitido y el valor se ha dejado como `null`.\n"
     ]
    },
    {
     "name": "stdout",
     "output_type": "stream",
     "text": [
      "📖 El índice general está en la página 3\n",
      "📖 El índice general está en la página 3\n",
      "📖 El índice general está en la página 3\n",
      "📖 El índice general está en la página 3\n",
      "📖 El índice general está en la página 3\n",
      "📖 El índice general está en la página 3\n",
      "📖 El índice general está en la página 3\n"
     ]
    },
    {
     "name": "stderr",
     "output_type": "stream",
     "text": [
      "No se pudo decodificar el JSON devuelto por Ollama.\n",
      "Error: Expecting value: line 1 column 1 (char 0)\n",
      "Respuesta cruda: **Índice extraído en formato JSON jerárquico**\n",
      "\n",
      "\n",
      "{\n",
      "  \"I. ASISTENCIA\": {\n",
      "    \"página\": \"17\"\n",
      "  },\n",
      "  \"II. APERTURA DE LA SESIÓN\": {\n",
      "    \"página\": \"23\"\n",
      "  },\n",
      "  \"III. ACTAS\": {\n",
      "    \"página\": \"23\"\n",
      "  },\n",
      "  \"IV. CUENTA\": {\n",
      "    \"página\": \"23\"\n",
      "  },\n",
      "  \"V. OBJETO DE LA SESIÓN\": {\n",
      "    \"página\": \"23\",\n",
      "    \"subíndices\": {\n",
      "      \"ANÁLISIS DE DÉFICIT HABITACIONAL Y DE ACTUALES Y FUTURAS POLÍTICAS DE GOBIERNO PARA MEJORAR ACCESO A VIVIENDA Y CONDICIONES DE HABITABILIDAD, CON ÉNFASIS EN SECTORES MÁS VULNERABLES (PROYECTOS DE RESOLUCIÓN)\": \"23\"\n",
      "    }\n",
      "  },\n",
      "  \"VI. DOCUMENTOS DE LA CUENTA\": {\n",
      "    \"página\": \"23\",\n",
      "    \"subíndices\": {\n",
      "      \"1. Proyecto iniciado en moción de los diputados señores Trisotti, Alessandri, Bobadilla, Coloma, Fuenzalida, Labbé, Leal, Martínez y Moreira, y de la diputada señora Weisse, que \\\"Modifica la ley N° 21.325, de migración y extranjería, con el objeto de facultar al Presidente de la República para decretar la expulsión de los extranjeros condenados por los delitos de robo, hurto o alguno de los contenidos en la ley N° 20.000\\\". Boletín N° 15203-07.\": \"23\",\n",
      "      \"2. Proyecto iniciado en moción de los diputados señores Kaiser, De la Carrera, Irarrázaval y Jürgensen, y de las diputadas señoras Barchiesi y Naveillan, que \\\"Modifica diversos cuerpos legales para tipificar el delito de sicariato\\\". Boletín N° 15208-07.\": \"23\",\n",
      "      \"3. Proyecto iniciado en moción de los diputados señores Undurraga, don Francisco; Guzmán, Longton y Teao, y de las diputadas señoras Orsini y Ossandón, que \\\"Modifica el Código del Trabajo para reducir el porcentaje mínimo de trabajadores de nacionalidad chilena en los casos que indica\\\". Boletín N° 15209-13.\": \"23\",\n",
      "      \"4. Copia autorizada de la sentencia definitiva del Tribunal Constitucional recaída en un requerimiento de inaplicabilidad por inconstitucionalidad, respecto del artículo 196 ter, inciso primero, parte final, de la ley N° 18.290. Rol 13066‑22‑INA. Acogido. Se tomó conocimiento.\": \"23\",\n",
      "      \"5. Copia autorizada de la sentencia definitiva del Tribunal Constitucional recaída en un requerimiento de inaplicabilidad por inconstitucionalidad, respecto del artículo 1°, inciso segundo, de la ley N° 18.216. Rol 12624‑21‑INA. Rechazado. Se tomó conocimiento.\": \"23\",\n",
      "      \"6. Copia autorizada de la sentencia definitiva del Tribunal Constitucional recaída en un requerimiento de inaplicabilidad por inconstitucionalidad, respecto del artículo 1°, inciso segundo, de la ley N° 18.216. Rol 12643‑21‑INA. Rechazado. Se tomó conocimiento.\": \"23\",\n",
      "      \"7. Copia autorizada de la sentencia definitiva del Tribunal Constitucional recaída en un requerimiento de inaplicabilidad por inconstitucionalidad, respecto del artículo\": \"23\"\n",
      "    }\n",
      "  }\n",
      "}\n",
      "\n",
      "\n",
      "**Notas**\n",
      "\n",
      "* Las secciones principales están identificadas por numerales romanos (I., II., III., …).  \n",
      "* Los subíndices son los títulos que aparecen inmediatamente después de una sección principal y no llevan numeración romana.  \n",
      "* Cuando el índice no indica una página distinta para los subíndices, se ha asignado la misma página que la sección principal (página 23).  \n",
      "* Si una sección no posee subíndices, el campo *subíndices* se omite.\n"
     ]
    },
    {
     "name": "stdout",
     "output_type": "stream",
     "text": [
      "📖 El índice general está en la página 3\n",
      "📖 El índice general está en la página 3\n",
      "📖 El índice general está en la página 3\n",
      "📖 El índice general está en la página 3\n",
      "📖 El índice general está en la página 3\n",
      "📖 El índice general está en la página 3\n",
      "📖 El índice general está en la página 3\n",
      "📖 El índice general está en la página 3\n"
     ]
    },
    {
     "name": "stderr",
     "output_type": "stream",
     "text": [
      "No se pudo decodificar el JSON devuelto por Ollama.\n",
      "Error: Expecting value: line 1 column 1 (char 0)\n",
      "Respuesta cruda: **Índice extraído en formato JSON jerárquico**\n",
      "\n",
      "\n",
      "{\n",
      "  \"ASISTENCIA\": {\n",
      "    \"página\": \"7\"\n",
      "  },\n",
      "  \"APERTURA DE LA SESIÓN\": {\n",
      "    \"página\": \"13\"\n",
      "  },\n",
      "  \"ACTAS\": {\n",
      "    \"página\": \"13\"\n",
      "  },\n",
      "  \"CUENTA\": {\n",
      "    \"página\": \"13\"\n",
      "  },\n",
      "  \"OBJETO DE LA SESIÓN\": {\n",
      "    \"página\": \"14\",\n",
      "    \"subíndices\": {\n",
      "      \"ANÁLISIS DE COMPROMISO GUBERNAMENTAL CON LABOR QUE DESEMPEÑAN LAS FUERZAS DE ORDEN Y SEGURIDAD PÚBLICA (PROYECTOS DE RESOLUCIÓN)\": \"14\"\n",
      "    }\n",
      "  },\n",
      "  \"DOCUMENTOS DE LA CUENTA\": {\n",
      "    \"subíndices\": {\n",
      "      \"1. Mensaje de S. E. el Presidente de la República por el cual da inicio a la tramitación del proyecto que \\\"Declara feriado nacional el día 16 de septiembre del año 2022\\\". Boletín N° 15251‑13\": \"099‑370\",\n",
      "      \"2. Oficio de S. E. el Presidente de la República mediante el cual hace presente la urgencia \\\"discusión inmediata\\\", para el despacho del proyecto que \\\"Establece un nuevo marco de financiamiento e introduce mejoras al transporte público remunerado de pasajeros\\\". Boletín N° 15140‑15\": \"368‑370\",\n",
      "      \"3. Oficio de S. E. el Presidente de la República mediante el cual hace presente la urgencia \\\"suma\\\", para el despacho del proyecto que \\\"Modifica y complementa las normas que indica respecto del sistema educativo\\\". Boletín N° 15153‑04\": \"369‑370\",\n",
      "      \"4. Informe de la Comisión de Gobierno Interior, Nacionalidad, Ciudadanía y Regionalización recaído en el proyecto, iniciado en moción, que \\\"Concede, por especial gracia, la nacionalidad chilena a la ciudadana neozelandesa, doctora Mary Therese Kalin Hurley\\\". Boletín N° 14960‑17\": \"S\",\n",
      "      \"5. Proyecto iniciado en moción de las diputadas señoras Bravo, doña Marta; Pérez, doña Marlene; y Romero, doña Natalia; y de los diputados señores Bórquez; Labbé; Leal; Lilayu; Moreira; Sulantay y Von Mühlenbrock, que \\\"Modifica el Código del Trabajo para extender la duración del permiso postnatal parental\\\". Boletín N° 15246‑13\": \"15246‑13\",\n",
      "      \"6. Proyecto iniciado en moción de las diputadas señoras Mix; Cicardini y Orsini; y de los diputados señores Cuello; Giordano; Hirsch; Ibáñez; Mulet; Santana y Ulloa, que \\\"Modifica la ley N° 19.296, que establece normas sobre asociaciones de funcionarios de la Administración del Estado, para fijar un plazo en que la autoridad administrativa deba recibir en audiencia a los dirigentes de las referidas asociaciones\\\". Boletín N° 15247‑13\": \"15247‑13\",\n",
      "      \"7. Proyecto iniciado en moción de las diputadas señoras Tello; Acevedo; Arce; Bravo, doña Ana María; Gazmuri; González, doña Marta; Olivera; Pizarro; Romero, doña Natalia y Schneider, que \\\"Modifica el Código Civil para permitir a…\\\"\": \"pág. no indicada en el fragmento\"\n",
      "    }\n",
      "  }\n",
      "}\n",
      "\n",
      "\n",
      "**Notas sobre la extracción**\n",
      "\n",
      "- Las secciones principales son aquellas marcadas con numerales romanos (I., II., III., IV., V., VI.).  \n",
      "- Los subíndices son todos los títulos que aparecen inmediatamente después de una sección principal y **no** poseen numeración romana. En el caso de la sección **VI. DOCUMENTOS DE LA CUENTA** se consideraron como subíndices los elementos numerados (1., 2., 3., …) porque, aunque llevan numeración arábiga, no son numerales romanos.  \n",
      "- Los números de página provienen de la propia línea del índice:\n",
      "  - Para las secciones principales, el número de página aparece después de los puntos suspensivos (ej.: “7”, “13”, “14”).  \n",
      "  - Para los subíndices bajo la sección VI, el número de página está entre paréntesis al final de cada descripción (ej.: “099‑370”).  \n",
      "- En el caso del subíndice **7** bajo la sección VI, el fragmento proporcionado no incluye el número de página; por eso se indica *“pág. no indicada en el fragmento”*.  \n",
      "\n",
      "Este JSON respeta la jerarquía solicitada y contiene tanto las secciones principales como sus respectivos subíndices y números de página.\n"
     ]
    },
    {
     "name": "stdout",
     "output_type": "stream",
     "text": [
      "📖 El índice general está en la página 3\n",
      "📖 El índice general está en la página 3\n",
      "📖 El índice general está en la página 3\n",
      "📖 El índice general está en la página 3\n",
      "📖 El índice general está en la página 3\n",
      "📖 El índice general está en la página 3\n",
      "📖 El índice general está en la página 3\n",
      "📖 El índice general está en la página 3\n"
     ]
    },
    {
     "name": "stderr",
     "output_type": "stream",
     "text": [
      "No se pudo decodificar el JSON devuelto por Ollama.\n",
      "Error: Expecting value: line 1 column 1 (char 0)\n",
      "Respuesta cruda: **Índice extraído (JSON jerárquico)**  \n",
      "\n",
      "\n",
      "{\n",
      "  \"ASISTENCIA\": {\n",
      "    \"página\": \"6\"\n",
      "  },\n",
      "  \"APERTURA DE LA SESIÓN\": {\n",
      "    \"página\": \"11\"\n",
      "  },\n",
      "  \"ACTAS\": {\n",
      "    \"página\": \"11\"\n",
      "  },\n",
      "  \"CUENTA\": {\n",
      "    \"página\": \"11\"\n",
      "  },\n",
      "  \"TABLA\": {\n",
      "    \"página\": \"11\",\n",
      "    \"subíndices\": {\n",
      "      \"PRÓRROGA DE VIGENCIA DE ESTADO DE EXCEPCIÓN CONSTITUCIONAL DE EMERGENCIA EN REGIÓN DE LA ARAUCANÍA Y EN PROVINCIAS DE ARAUCO Y DE BIOBÍO, REGIÓN DEL BIOBÍO\": \"11\"\n",
      "    }\n",
      "  },\n",
      "  \"DOCUMENTOS DE LA CUENTA\": {\n",
      "    \"subíndices\": {\n",
      "      \"Oficios de S.E. el Presidente de la República por los cuales hace presente la urgencia calificada de \\\"suma\\\", para el despacho de los siguientes proyectos:\": null,\n",
      "      \"1. \\\"Modifica el Fondo de Garantía para Pequeños y Medianos Empresarios y permite flexibilizar convenios de pago por impuestos adeudados, para apoyar la reactivación de la economía\\\". Boletín N° 15259‑03 (476‑370)\": null,\n",
      "      \"2. \\\"Modifica la ley N° 19.993, con el objeto de permitir que el tratamiento de los productos de la pequeña y mediana minería de Enami pueda realizarse por Codelco en instalaciones distintas de la Fundición Ventanas\\\". Boletín N° 15265‑08 (477‑370)\": null,\n",
      "      \"3. \\\"Sustituye el artículo 66 de la Carta Fundamental, en relación con los quórums necesarios para la aprobación, modificación o derogación de las normas legales que se indican\\\". Boletín N° 15188‑07 (S) (refundido con boletín 15207‑07) (478‑370)\": null,\n",
      "      \"Oficios de S.E. el Presidente de la República por los cuales hace presente la urgencia calificada de \\\"simple\\\", para el despacho de los siguientes proyectos:\": null,\n",
      "      \"4. \\\"Establece un nuevo marco de financiamiento e introduce mejoras al transporte público remunerado de pasajeros\\\". Boletín N° 15140‑15 (475‑370)\": null,\n",
      "      \"5. \\\"Regula la disposición final de elementos de protección personal de carácter sanitario, prohíbe y sanciona su eliminación en lugares públicos\\\". Boletín N° 13598‑11 (479‑370)\": null,\n",
      "      \"6. Proyecto iniciado en moción de las diputadas señoras Hertz, Acevedo, Bulnes, Pizzarro y Serrano, y de los diputados señores Bianchi, Brito, Hirsch, Naranjo y Winter, que \\\"Modifica las leyes N° 19.992 y N° 20.405, para reconocer carácter público a los antecedentes recogidos por la Comisión Nacional sobre Prisión Política y Tortura, y por la Comisión Asesora Presidencial para la Calificación de Detenidos Desaparecidos, Ejecutados Políticos y Víctimas de Prisión Política y Tortura\\\". Boletín N° 15281‑17\": null,\n",
      "      \"7. Proyecto iniciado en moción de los diputados señores Urruticoechea, Araya, Cristián De la Carrera, Jürgensen, Ojeda, Romero, Leonidas Sánchez y Schubert, y de la diputada señora Barchiesi, que \\\"Modifica el Código Penal para…\\\"\": null\n",
      "    }\n",
      "  }\n",
      "}\n",
      "\n",
      "\n",
      "**Interpretación del JSON**\n",
      "\n",
      "- Cada clave de primer nivel corresponde a una **sección principal** tal como aparecen numeradas con números romanos en el índice.\n",
      "- El campo `\"página\"` indica la página donde comienza esa sección (cuando está disponible).\n",
      "- Si la sección contiene **subíndices** (títulos que aparecen después de la sección principal sin numeración romana), se agrupan bajo el objeto `\"subíndices\"`.\n",
      "- Cuando el número de página del subíndice no se especifica en el texto proporcionado, se coloca el valor `null`.  \n",
      "\n",
      "Este JSON refleja fielmente la estructura del índice tal como se muestra en el fragmento suministrado.\n"
     ]
    },
    {
     "name": "stdout",
     "output_type": "stream",
     "text": [
      "📖 El índice general está en la página 3\n",
      "📖 El índice general está en la página 3\n",
      "📖 El índice general está en la página 3\n",
      "📖 El índice general está en la página 3\n",
      "📖 El índice general está en la página 3\n",
      "📖 El índice general está en la página 3\n",
      "📖 El índice general está en la página 3\n",
      "📖 El índice general está en la página 3\n",
      "📖 El índice general está en la página 3\n",
      "📖 El índice general está en la página 3\n",
      "📖 El índice general está en la página 3\n",
      "📖 El índice general está en la página 3\n",
      "📖 El índice general está en la página 3\n",
      "📖 El índice general está en la página 3\n",
      "📖 El índice general está en la página 3\n",
      "📖 El índice general está en la página 3\n",
      "📖 El índice general está en la página 3\n",
      "📖 El índice general está en la página 3\n",
      "📖 El índice general está en la página 3\n",
      "📖 El índice general está en la página 3\n"
     ]
    },
    {
     "name": "stderr",
     "output_type": "stream",
     "text": [
      "No se pudo decodificar el JSON devuelto por Ollama.\n",
      "Error: Extra data: line 39 column 1 (char 2240)\n",
      "Respuesta cruda: {\n",
      "  \"ASISTENCIA\": {\n",
      "    \"página\": \"8\"\n",
      "  },\n",
      "  \"APERTURA DE LA SESIÓN\": {\n",
      "    \"página\": \"13\"\n",
      "  },\n",
      "  \"ACTAS\": {\n",
      "    \"página\": \"13\"\n",
      "  },\n",
      "  \"CUENTA\": {\n",
      "    \"página\": \"13\",\n",
      "    \"subíndices\": {\n",
      "      \"PRÓRROGA DE PLAZO A COMISIÓN ESPECIAL INVESTIGADORA\": \"13\",\n",
      "      \"ENVÍO DE PROYECTO A COMISIÓN\": \"15\"\n",
      "    }\n",
      "  },\n",
      "  \"ORDEN DEL DÍA\": {\n",
      "    \"página\": \"17\",\n",
      "    \"subíndices\": {\n",
      "      \"PRÓRROGA DE PLAZO A MÉDICOS CIRUJANOS HABILITADOS TEMPORALMENTE PARA EJERCICIO DE ESPECIALIDAD EN SECTOR PÚBLICO Y REGULACIÓN DE TÉRMINO DE HABILITACIÓN TEMPORAL OTORGADA A PROFESIONALES DE LA SALUD VÍA DECRETO N° 4, DE 2020 (SEGUNDO TRÁMITE CONSTITUCIONAL. BOLETÍN Nº 15118‑11)\": \"17\",\n",
      "      \"FACILIDAD DE PAGO PARA DERECHOS DE ASEO MUNICIPAL Y FACULTAD A SERVICIO DE TESORERÍAS PARA COBRO EN CASOS QUE INDICA (TERCER TRÁMITE CONSTITUCIONAL. BOLETINES Nº 10858‑06, 11889‑06, 14252‑06, 14475‑06 Y 14797‑06, REFUNDIDOS)\": \"28\",\n",
      "      \"FACILITACIÓN DE RECUPERACIÓN DE IMPUESTO ESPECÍFICO A LOS COMBUSTIBLES EN FAVOR DE TRANSPORTISTAS DE CARGA (PRIMER TRÁMITE CONSTITUCIONAL. BOLETÍN N° 15289‑05)\": \"56\",\n",
      "      \"CONSTRUCCIÓN DE MEMORIAL Y CIRCUITO DE MEMORIA EN COMUNA DE LA REINA EN RECUERDO DE VÍCTIMAS DE LA CARAVANA DE LA MUERTE (PRIMER TRÁMITE CONSTITUCIONAL. BOLETÍN N° 15278‑24)\": \"65\"\n",
      "    }\n",
      "  },\n",
      "  \"PROYECTOS DE ACUERDO Y DE RESOLUCIÓN\": {\n",
      "    \"página\": \"67\",\n",
      "    \"subíndices\": {\n",
      "      \"SUBVENCIÓN PARA EMBARCACIÓN ADICIONAL A FIN DE GARANTIZAR CONECTIVIDAD DE ISLA SANTA MARÍA, COMUNA DE CORONEL, REGIÓN DEL BIOBÍO (PROYECTO DE RESOLUCIÓN N° 225)\": \"67\",\n",
      "      \"PREOCUPACIÓN POR EXTERNALIDADES NEGATIVAS DE JORNADAS LABORALES ESPECIALES O EXCEPCIONALES DE TRABAJADORES DE LA MINERÍA (PROYECTO DE RESOLUCIÓN N° 306)\": \"70\",\n",
      "      \"CREACIÓN DE SEGURO DE ACCIDENTES PARA DIRIGENTES VECINALES Y COMUNITARIOS (PROYECTO DE RESOLUCIÓN N° 313)\": \"72\",\n",
      "      \"SOLICITUD DE ENVÍO A TRAMITACIÓN DE PROYECTO DE LEY PARA MEJORAMIENTO DE CONDICIONES LABORALES Y DE CARRERA FUNCIONARIA DE PERSONAL DE CARABINEROS DE CHILE (PROYECTO DE RESOLUCIÓN N° 316)\": \"75\",\n",
      "      \"REBAJA DE REQUISITO DE EDAD PARA QUE MUJERES PUEDAN OPTAR A PENSIÓN GARANTIZADA UNIVERSAL, CONSIDERANDO QUE SU EDAD DE JUBILACIÓN ES A LOS SESENTA AÑOS (PROYECTO DE RESOLUCIÓN N° 378)\": \"77\"\n",
      "    }\n",
      "  }\n",
      "}\n",
      "\n",
      "* El objeto JSON sigue la estructura solicitada: cada sección principal incluye su número de página y, cuando corresponde, un objeto **subíndices** con los títulos y sus respectivas páginas.  \n",
      "* Los nombres de las secciones y subíndices se tomaron tal como aparecen en el índice, preservando la redacción completa para evitar ambigüedades.\n"
     ]
    },
    {
     "name": "stdout",
     "output_type": "stream",
     "text": [
      "📖 El índice general está en la página 3\n",
      "📖 El índice general está en la página 3\n",
      "📖 El índice general está en la página 3\n",
      "📖 El índice general está en la página 3\n"
     ]
    },
    {
     "name": "stderr",
     "output_type": "stream",
     "text": [
      "Intento 1/3 falló al llamar a Ollama: ResponseError(\"you've reached your hourly usage limit, please upgrade to continue\")\n",
      "Intento 2/3 falló al llamar a Ollama: ResponseError(\"you've reached your hourly usage limit, please upgrade to continue\")\n",
      "Intento 3/3 falló al llamar a Ollama: ResponseError(\"you've reached your hourly usage limit, please upgrade to continue\")\n",
      "Se agotaron los reintentos. Devolviendo dict vacío.\n"
     ]
    },
    {
     "name": "stdout",
     "output_type": "stream",
     "text": [
      "📖 El índice general está en la página 3\n"
     ]
    },
    {
     "name": "stderr",
     "output_type": "stream",
     "text": [
      "Intento 1/3 falló al llamar a Ollama: ResponseError(\"you've reached your hourly usage limit, please upgrade to continue\")\n",
      "Intento 2/3 falló al llamar a Ollama: ResponseError(\"you've reached your hourly usage limit, please upgrade to continue\")\n",
      "Intento 3/3 falló al llamar a Ollama: ResponseError(\"you've reached your hourly usage limit, please upgrade to continue\")\n",
      "Se agotaron los reintentos. Devolviendo dict vacío.\n"
     ]
    },
    {
     "name": "stdout",
     "output_type": "stream",
     "text": [
      "📖 El índice general está en la página 3\n"
     ]
    },
    {
     "name": "stderr",
     "output_type": "stream",
     "text": [
      "Intento 1/3 falló al llamar a Ollama: ResponseError(\"you've reached your hourly usage limit, please upgrade to continue\")\n",
      "Intento 2/3 falló al llamar a Ollama: ResponseError(\"you've reached your hourly usage limit, please upgrade to continue\")\n",
      "Intento 3/3 falló al llamar a Ollama: ResponseError(\"you've reached your hourly usage limit, please upgrade to continue\")\n",
      "Se agotaron los reintentos. Devolviendo dict vacío.\n"
     ]
    },
    {
     "name": "stdout",
     "output_type": "stream",
     "text": [
      "📖 El índice general está en la página 3\n"
     ]
    },
    {
     "name": "stderr",
     "output_type": "stream",
     "text": [
      "Intento 1/3 falló al llamar a Ollama: ResponseError(\"you've reached your hourly usage limit, please upgrade to continue\")\n",
      "Intento 2/3 falló al llamar a Ollama: ResponseError(\"you've reached your hourly usage limit, please upgrade to continue\")\n",
      "Intento 3/3 falló al llamar a Ollama: ResponseError(\"you've reached your hourly usage limit, please upgrade to continue\")\n",
      "Se agotaron los reintentos. Devolviendo dict vacío.\n"
     ]
    },
    {
     "name": "stdout",
     "output_type": "stream",
     "text": [
      "📖 El índice general está en la página 3\n"
     ]
    },
    {
     "name": "stderr",
     "output_type": "stream",
     "text": [
      "Intento 1/3 falló al llamar a Ollama: ResponseError(\"you've reached your hourly usage limit, please upgrade to continue\")\n",
      "Intento 2/3 falló al llamar a Ollama: ResponseError(\"you've reached your hourly usage limit, please upgrade to continue\")\n",
      "Intento 3/3 falló al llamar a Ollama: ResponseError(\"you've reached your hourly usage limit, please upgrade to continue\")\n",
      "Se agotaron los reintentos. Devolviendo dict vacío.\n"
     ]
    },
    {
     "name": "stdout",
     "output_type": "stream",
     "text": [
      "📖 El índice general está en la página 3\n"
     ]
    },
    {
     "name": "stderr",
     "output_type": "stream",
     "text": [
      "Intento 1/3 falló al llamar a Ollama: ResponseError(\"you've reached your hourly usage limit, please upgrade to continue\")\n",
      "Intento 2/3 falló al llamar a Ollama: ResponseError(\"you've reached your hourly usage limit, please upgrade to continue\")\n",
      "Intento 3/3 falló al llamar a Ollama: ResponseError(\"you've reached your hourly usage limit, please upgrade to continue\")\n",
      "Se agotaron los reintentos. Devolviendo dict vacío.\n"
     ]
    },
    {
     "name": "stdout",
     "output_type": "stream",
     "text": [
      "📖 El índice general está en la página 3\n"
     ]
    },
    {
     "name": "stderr",
     "output_type": "stream",
     "text": [
      "Intento 1/3 falló al llamar a Ollama: ResponseError(\"you've reached your hourly usage limit, please upgrade to continue\")\n",
      "Intento 2/3 falló al llamar a Ollama: ResponseError(\"you've reached your hourly usage limit, please upgrade to continue\")\n",
      "Intento 3/3 falló al llamar a Ollama: ResponseError(\"you've reached your hourly usage limit, please upgrade to continue\")\n",
      "Se agotaron los reintentos. Devolviendo dict vacío.\n"
     ]
    },
    {
     "name": "stdout",
     "output_type": "stream",
     "text": [
      "📖 El índice general está en la página 3\n"
     ]
    },
    {
     "name": "stderr",
     "output_type": "stream",
     "text": [
      "Intento 1/3 falló al llamar a Ollama: ResponseError(\"you've reached your hourly usage limit, please upgrade to continue\")\n",
      "Intento 2/3 falló al llamar a Ollama: ResponseError(\"you've reached your hourly usage limit, please upgrade to continue\")\n",
      "Intento 3/3 falló al llamar a Ollama: ResponseError(\"you've reached your hourly usage limit, please upgrade to continue\")\n",
      "Se agotaron los reintentos. Devolviendo dict vacío.\n"
     ]
    },
    {
     "name": "stdout",
     "output_type": "stream",
     "text": [
      "📖 El índice general está en la página 3\n"
     ]
    },
    {
     "name": "stderr",
     "output_type": "stream",
     "text": [
      "Intento 1/3 falló al llamar a Ollama: ResponseError(\"you've reached your hourly usage limit, please upgrade to continue\")\n",
      "Intento 2/3 falló al llamar a Ollama: ResponseError(\"you've reached your hourly usage limit, please upgrade to continue\")\n",
      "Intento 3/3 falló al llamar a Ollama: ResponseError(\"you've reached your hourly usage limit, please upgrade to continue\")\n",
      "Se agotaron los reintentos. Devolviendo dict vacío.\n"
     ]
    },
    {
     "name": "stdout",
     "output_type": "stream",
     "text": [
      "📖 El índice general está en la página 3\n"
     ]
    },
    {
     "name": "stderr",
     "output_type": "stream",
     "text": [
      "Intento 1/3 falló al llamar a Ollama: ResponseError(\"you've reached your hourly usage limit, please upgrade to continue\")\n",
      "Intento 2/3 falló al llamar a Ollama: ResponseError(\"you've reached your hourly usage limit, please upgrade to continue\")\n",
      "Intento 3/3 falló al llamar a Ollama: ResponseError(\"you've reached your hourly usage limit, please upgrade to continue\")\n",
      "Se agotaron los reintentos. Devolviendo dict vacío.\n"
     ]
    },
    {
     "name": "stdout",
     "output_type": "stream",
     "text": [
      "📖 El índice general está en la página 3\n"
     ]
    },
    {
     "name": "stderr",
     "output_type": "stream",
     "text": [
      "Intento 1/3 falló al llamar a Ollama: ResponseError(\"you've reached your hourly usage limit, please upgrade to continue\")\n",
      "Intento 2/3 falló al llamar a Ollama: ResponseError(\"you've reached your hourly usage limit, please upgrade to continue\")\n",
      "Intento 3/3 falló al llamar a Ollama: ResponseError(\"you've reached your hourly usage limit, please upgrade to continue\")\n",
      "Se agotaron los reintentos. Devolviendo dict vacío.\n"
     ]
    },
    {
     "name": "stdout",
     "output_type": "stream",
     "text": [
      "📖 El índice general está en la página 3\n"
     ]
    },
    {
     "name": "stderr",
     "output_type": "stream",
     "text": [
      "Intento 1/3 falló al llamar a Ollama: ResponseError(\"you've reached your hourly usage limit, please upgrade to continue\")\n",
      "Intento 2/3 falló al llamar a Ollama: ResponseError(\"you've reached your hourly usage limit, please upgrade to continue\")\n",
      "Intento 3/3 falló al llamar a Ollama: ResponseError(\"you've reached your hourly usage limit, please upgrade to continue\")\n",
      "Se agotaron los reintentos. Devolviendo dict vacío.\n"
     ]
    },
    {
     "name": "stdout",
     "output_type": "stream",
     "text": [
      "📖 El índice general está en la página 3\n"
     ]
    },
    {
     "name": "stderr",
     "output_type": "stream",
     "text": [
      "Intento 1/3 falló al llamar a Ollama: ResponseError(\"you've reached your hourly usage limit, please upgrade to continue\")\n",
      "Intento 2/3 falló al llamar a Ollama: ResponseError(\"you've reached your hourly usage limit, please upgrade to continue\")\n",
      "Intento 3/3 falló al llamar a Ollama: ResponseError(\"you've reached your hourly usage limit, please upgrade to continue\")\n",
      "Se agotaron los reintentos. Devolviendo dict vacío.\n"
     ]
    },
    {
     "name": "stdout",
     "output_type": "stream",
     "text": [
      "📖 El índice general está en la página 3\n"
     ]
    },
    {
     "name": "stderr",
     "output_type": "stream",
     "text": [
      "Intento 1/3 falló al llamar a Ollama: ResponseError(\"you've reached your hourly usage limit, please upgrade to continue\")\n",
      "Intento 2/3 falló al llamar a Ollama: ResponseError(\"you've reached your hourly usage limit, please upgrade to continue\")\n",
      "Intento 3/3 falló al llamar a Ollama: ResponseError(\"you've reached your hourly usage limit, please upgrade to continue\")\n",
      "Se agotaron los reintentos. Devolviendo dict vacío.\n"
     ]
    },
    {
     "name": "stdout",
     "output_type": "stream",
     "text": [
      "📖 El índice general está en la página 3\n"
     ]
    },
    {
     "name": "stderr",
     "output_type": "stream",
     "text": [
      "Intento 1/3 falló al llamar a Ollama: ResponseError(\"you've reached your hourly usage limit, please upgrade to continue\")\n",
      "Intento 2/3 falló al llamar a Ollama: ResponseError(\"you've reached your hourly usage limit, please upgrade to continue\")\n",
      "Intento 3/3 falló al llamar a Ollama: ResponseError(\"you've reached your hourly usage limit, please upgrade to continue\")\n",
      "Se agotaron los reintentos. Devolviendo dict vacío.\n"
     ]
    },
    {
     "name": "stdout",
     "output_type": "stream",
     "text": [
      "📖 El índice general está en la página 3\n"
     ]
    },
    {
     "name": "stderr",
     "output_type": "stream",
     "text": [
      "Intento 1/3 falló al llamar a Ollama: ResponseError(\"you've reached your hourly usage limit, please upgrade to continue\")\n",
      "Intento 2/3 falló al llamar a Ollama: ResponseError(\"you've reached your hourly usage limit, please upgrade to continue\")\n",
      "Intento 3/3 falló al llamar a Ollama: ResponseError(\"you've reached your hourly usage limit, please upgrade to continue\")\n",
      "Se agotaron los reintentos. Devolviendo dict vacío.\n"
     ]
    },
    {
     "name": "stdout",
     "output_type": "stream",
     "text": [
      "📖 El índice general está en la página 3\n"
     ]
    },
    {
     "name": "stderr",
     "output_type": "stream",
     "text": [
      "Intento 1/3 falló al llamar a Ollama: ResponseError(\"you've reached your hourly usage limit, please upgrade to continue\")\n",
      "Intento 2/3 falló al llamar a Ollama: ResponseError(\"you've reached your hourly usage limit, please upgrade to continue\")\n",
      "Intento 3/3 falló al llamar a Ollama: ResponseError(\"you've reached your hourly usage limit, please upgrade to continue\")\n",
      "Se agotaron los reintentos. Devolviendo dict vacío.\n"
     ]
    },
    {
     "name": "stdout",
     "output_type": "stream",
     "text": [
      "📖 El índice general está en la página 3\n"
     ]
    },
    {
     "name": "stderr",
     "output_type": "stream",
     "text": [
      "Intento 1/3 falló al llamar a Ollama: ResponseError(\"you've reached your hourly usage limit, please upgrade to continue\")\n",
      "Intento 2/3 falló al llamar a Ollama: ResponseError(\"you've reached your hourly usage limit, please upgrade to continue\")\n",
      "Intento 3/3 falló al llamar a Ollama: ResponseError(\"you've reached your hourly usage limit, please upgrade to continue\")\n",
      "Se agotaron los reintentos. Devolviendo dict vacío.\n"
     ]
    },
    {
     "name": "stdout",
     "output_type": "stream",
     "text": [
      "📖 El índice general está en la página 3\n"
     ]
    },
    {
     "name": "stderr",
     "output_type": "stream",
     "text": [
      "Intento 1/3 falló al llamar a Ollama: ResponseError(\"you've reached your hourly usage limit, please upgrade to continue\")\n",
      "Intento 2/3 falló al llamar a Ollama: ResponseError(\"you've reached your hourly usage limit, please upgrade to continue\")\n",
      "Intento 3/3 falló al llamar a Ollama: ResponseError(\"you've reached your hourly usage limit, please upgrade to continue\")\n",
      "Se agotaron los reintentos. Devolviendo dict vacío.\n"
     ]
    },
    {
     "name": "stdout",
     "output_type": "stream",
     "text": [
      "📖 El índice general está en la página 3\n"
     ]
    },
    {
     "name": "stderr",
     "output_type": "stream",
     "text": [
      "Intento 1/3 falló al llamar a Ollama: ResponseError(\"you've reached your hourly usage limit, please upgrade to continue\")\n",
      "Intento 2/3 falló al llamar a Ollama: ResponseError(\"you've reached your hourly usage limit, please upgrade to continue\")\n",
      "Intento 3/3 falló al llamar a Ollama: ResponseError(\"you've reached your hourly usage limit, please upgrade to continue\")\n",
      "Se agotaron los reintentos. Devolviendo dict vacío.\n"
     ]
    },
    {
     "name": "stdout",
     "output_type": "stream",
     "text": [
      "📖 El índice general está en la página 3\n"
     ]
    },
    {
     "name": "stderr",
     "output_type": "stream",
     "text": [
      "Intento 1/3 falló al llamar a Ollama: ResponseError(\"you've reached your hourly usage limit, please upgrade to continue\")\n",
      "Intento 2/3 falló al llamar a Ollama: ResponseError(\"you've reached your hourly usage limit, please upgrade to continue\")\n",
      "Intento 3/3 falló al llamar a Ollama: ResponseError(\"you've reached your hourly usage limit, please upgrade to continue\")\n",
      "Se agotaron los reintentos. Devolviendo dict vacío.\n"
     ]
    },
    {
     "name": "stdout",
     "output_type": "stream",
     "text": [
      "📖 El índice general está en la página 3\n"
     ]
    },
    {
     "name": "stderr",
     "output_type": "stream",
     "text": [
      "Intento 1/3 falló al llamar a Ollama: ResponseError(\"you've reached your hourly usage limit, please upgrade to continue\")\n",
      "Intento 2/3 falló al llamar a Ollama: ResponseError(\"you've reached your hourly usage limit, please upgrade to continue\")\n",
      "Intento 3/3 falló al llamar a Ollama: ResponseError(\"you've reached your hourly usage limit, please upgrade to continue\")\n",
      "Se agotaron los reintentos. Devolviendo dict vacío.\n"
     ]
    },
    {
     "name": "stdout",
     "output_type": "stream",
     "text": [
      "📖 El índice general está en la página 3\n"
     ]
    },
    {
     "name": "stderr",
     "output_type": "stream",
     "text": [
      "Intento 1/3 falló al llamar a Ollama: ResponseError(\"you've reached your hourly usage limit, please upgrade to continue\")\n",
      "Intento 2/3 falló al llamar a Ollama: ResponseError(\"you've reached your hourly usage limit, please upgrade to continue\")\n",
      "Intento 3/3 falló al llamar a Ollama: ResponseError(\"you've reached your hourly usage limit, please upgrade to continue\")\n",
      "Se agotaron los reintentos. Devolviendo dict vacío.\n"
     ]
    },
    {
     "name": "stdout",
     "output_type": "stream",
     "text": [
      "📖 El índice general está en la página 3\n"
     ]
    },
    {
     "name": "stderr",
     "output_type": "stream",
     "text": [
      "Intento 1/3 falló al llamar a Ollama: ResponseError(\"you've reached your hourly usage limit, please upgrade to continue\")\n",
      "Intento 2/3 falló al llamar a Ollama: ResponseError(\"you've reached your hourly usage limit, please upgrade to continue\")\n",
      "Intento 3/3 falló al llamar a Ollama: ResponseError(\"you've reached your hourly usage limit, please upgrade to continue\")\n",
      "Se agotaron los reintentos. Devolviendo dict vacío.\n"
     ]
    },
    {
     "name": "stdout",
     "output_type": "stream",
     "text": [
      "📖 El índice general está en la página 3\n"
     ]
    },
    {
     "name": "stderr",
     "output_type": "stream",
     "text": [
      "Intento 1/3 falló al llamar a Ollama: ResponseError(\"you've reached your hourly usage limit, please upgrade to continue\")\n",
      "Intento 2/3 falló al llamar a Ollama: ResponseError(\"you've reached your hourly usage limit, please upgrade to continue\")\n",
      "Intento 3/3 falló al llamar a Ollama: ResponseError(\"you've reached your hourly usage limit, please upgrade to continue\")\n",
      "Se agotaron los reintentos. Devolviendo dict vacío.\n"
     ]
    },
    {
     "name": "stdout",
     "output_type": "stream",
     "text": [
      "📖 El índice general está en la página 3\n"
     ]
    },
    {
     "name": "stderr",
     "output_type": "stream",
     "text": [
      "Intento 1/3 falló al llamar a Ollama: ResponseError(\"you've reached your hourly usage limit, please upgrade to continue\")\n",
      "Intento 2/3 falló al llamar a Ollama: ResponseError(\"you've reached your hourly usage limit, please upgrade to continue\")\n",
      "Intento 3/3 falló al llamar a Ollama: ResponseError(\"you've reached your hourly usage limit, please upgrade to continue\")\n",
      "Se agotaron los reintentos. Devolviendo dict vacío.\n"
     ]
    },
    {
     "name": "stdout",
     "output_type": "stream",
     "text": [
      "📖 El índice general está en la página 3\n"
     ]
    },
    {
     "name": "stderr",
     "output_type": "stream",
     "text": [
      "Intento 1/3 falló al llamar a Ollama: ResponseError(\"you've reached your hourly usage limit, please upgrade to continue\")\n",
      "Intento 2/3 falló al llamar a Ollama: ResponseError(\"you've reached your hourly usage limit, please upgrade to continue\")\n",
      "Intento 3/3 falló al llamar a Ollama: ResponseError(\"you've reached your hourly usage limit, please upgrade to continue\")\n",
      "Se agotaron los reintentos. Devolviendo dict vacío.\n"
     ]
    },
    {
     "name": "stdout",
     "output_type": "stream",
     "text": [
      "📖 El índice general está en la página 3\n"
     ]
    },
    {
     "name": "stderr",
     "output_type": "stream",
     "text": [
      "Intento 1/3 falló al llamar a Ollama: ResponseError(\"you've reached your hourly usage limit, please upgrade to continue\")\n",
      "Intento 2/3 falló al llamar a Ollama: ResponseError(\"you've reached your hourly usage limit, please upgrade to continue\")\n",
      "Intento 3/3 falló al llamar a Ollama: ResponseError(\"you've reached your hourly usage limit, please upgrade to continue\")\n",
      "Se agotaron los reintentos. Devolviendo dict vacío.\n"
     ]
    },
    {
     "name": "stdout",
     "output_type": "stream",
     "text": [
      "📖 El índice general está en la página 3\n"
     ]
    },
    {
     "name": "stderr",
     "output_type": "stream",
     "text": [
      "Intento 1/3 falló al llamar a Ollama: ResponseError(\"you've reached your hourly usage limit, please upgrade to continue\")\n",
      "Intento 2/3 falló al llamar a Ollama: ResponseError(\"you've reached your hourly usage limit, please upgrade to continue\")\n",
      "Intento 3/3 falló al llamar a Ollama: ResponseError(\"you've reached your hourly usage limit, please upgrade to continue\")\n",
      "Se agotaron los reintentos. Devolviendo dict vacío.\n"
     ]
    },
    {
     "name": "stdout",
     "output_type": "stream",
     "text": [
      "📖 El índice general está en la página 3\n"
     ]
    },
    {
     "name": "stderr",
     "output_type": "stream",
     "text": [
      "Intento 1/3 falló al llamar a Ollama: ResponseError(\"you've reached your hourly usage limit, please upgrade to continue\")\n",
      "Intento 2/3 falló al llamar a Ollama: ResponseError(\"you've reached your hourly usage limit, please upgrade to continue\")\n",
      "Intento 3/3 falló al llamar a Ollama: ResponseError(\"you've reached your hourly usage limit, please upgrade to continue\")\n",
      "Se agotaron los reintentos. Devolviendo dict vacío.\n"
     ]
    },
    {
     "name": "stdout",
     "output_type": "stream",
     "text": [
      "📖 El índice general está en la página 3\n"
     ]
    },
    {
     "name": "stderr",
     "output_type": "stream",
     "text": [
      "Intento 1/3 falló al llamar a Ollama: ResponseError(\"you've reached your hourly usage limit, please upgrade to continue\")\n",
      "Intento 2/3 falló al llamar a Ollama: ResponseError(\"you've reached your hourly usage limit, please upgrade to continue\")\n",
      "Intento 3/3 falló al llamar a Ollama: ResponseError(\"you've reached your hourly usage limit, please upgrade to continue\")\n",
      "Se agotaron los reintentos. Devolviendo dict vacío.\n"
     ]
    },
    {
     "name": "stdout",
     "output_type": "stream",
     "text": [
      "📖 El índice general está en la página 3\n"
     ]
    },
    {
     "name": "stderr",
     "output_type": "stream",
     "text": [
      "Intento 1/3 falló al llamar a Ollama: ResponseError(\"you've reached your hourly usage limit, please upgrade to continue\")\n",
      "Intento 2/3 falló al llamar a Ollama: ResponseError(\"you've reached your hourly usage limit, please upgrade to continue\")\n",
      "Intento 3/3 falló al llamar a Ollama: ResponseError(\"you've reached your hourly usage limit, please upgrade to continue\")\n",
      "Se agotaron los reintentos. Devolviendo dict vacío.\n"
     ]
    },
    {
     "name": "stdout",
     "output_type": "stream",
     "text": [
      "📖 El índice general está en la página 3\n"
     ]
    },
    {
     "name": "stderr",
     "output_type": "stream",
     "text": [
      "Intento 1/3 falló al llamar a Ollama: ResponseError(\"you've reached your hourly usage limit, please upgrade to continue\")\n",
      "Intento 2/3 falló al llamar a Ollama: ResponseError(\"you've reached your hourly usage limit, please upgrade to continue\")\n",
      "Intento 3/3 falló al llamar a Ollama: ResponseError(\"you've reached your hourly usage limit, please upgrade to continue\")\n",
      "Se agotaron los reintentos. Devolviendo dict vacío.\n"
     ]
    },
    {
     "name": "stdout",
     "output_type": "stream",
     "text": [
      "📖 El índice general está en la página 3\n"
     ]
    },
    {
     "name": "stderr",
     "output_type": "stream",
     "text": [
      "Intento 1/3 falló al llamar a Ollama: ResponseError(\"you've reached your hourly usage limit, please upgrade to continue\")\n",
      "Intento 2/3 falló al llamar a Ollama: ResponseError(\"you've reached your hourly usage limit, please upgrade to continue\")\n",
      "Intento 3/3 falló al llamar a Ollama: ResponseError(\"you've reached your hourly usage limit, please upgrade to continue\")\n",
      "Se agotaron los reintentos. Devolviendo dict vacío.\n"
     ]
    },
    {
     "name": "stdout",
     "output_type": "stream",
     "text": [
      "📖 El índice general está en la página 3\n"
     ]
    },
    {
     "name": "stderr",
     "output_type": "stream",
     "text": [
      "Intento 1/3 falló al llamar a Ollama: ResponseError(\"you've reached your hourly usage limit, please upgrade to continue\")\n",
      "Intento 2/3 falló al llamar a Ollama: ResponseError(\"you've reached your hourly usage limit, please upgrade to continue\")\n",
      "Intento 3/3 falló al llamar a Ollama: ResponseError(\"you've reached your hourly usage limit, please upgrade to continue\")\n",
      "Se agotaron los reintentos. Devolviendo dict vacío.\n"
     ]
    },
    {
     "name": "stdout",
     "output_type": "stream",
     "text": [
      "📖 El índice general está en la página 3\n"
     ]
    },
    {
     "name": "stderr",
     "output_type": "stream",
     "text": [
      "Intento 1/3 falló al llamar a Ollama: ResponseError(\"you've reached your hourly usage limit, please upgrade to continue\")\n",
      "Intento 2/3 falló al llamar a Ollama: ResponseError(\"you've reached your hourly usage limit, please upgrade to continue\")\n",
      "Intento 3/3 falló al llamar a Ollama: ResponseError(\"you've reached your hourly usage limit, please upgrade to continue\")\n",
      "Se agotaron los reintentos. Devolviendo dict vacío.\n"
     ]
    },
    {
     "name": "stdout",
     "output_type": "stream",
     "text": [
      "📖 El índice general está en la página 3\n"
     ]
    },
    {
     "name": "stderr",
     "output_type": "stream",
     "text": [
      "Intento 1/3 falló al llamar a Ollama: ResponseError(\"you've reached your hourly usage limit, please upgrade to continue\")\n",
      "Intento 2/3 falló al llamar a Ollama: ResponseError(\"you've reached your hourly usage limit, please upgrade to continue\")\n",
      "Intento 3/3 falló al llamar a Ollama: ResponseError(\"you've reached your hourly usage limit, please upgrade to continue\")\n",
      "Se agotaron los reintentos. Devolviendo dict vacío.\n"
     ]
    },
    {
     "name": "stdout",
     "output_type": "stream",
     "text": [
      "📖 El índice general está en la página 3\n"
     ]
    },
    {
     "name": "stderr",
     "output_type": "stream",
     "text": [
      "Intento 1/3 falló al llamar a Ollama: ResponseError(\"you've reached your hourly usage limit, please upgrade to continue\")\n",
      "Intento 2/3 falló al llamar a Ollama: ResponseError(\"you've reached your hourly usage limit, please upgrade to continue\")\n",
      "Intento 3/3 falló al llamar a Ollama: ResponseError(\"you've reached your hourly usage limit, please upgrade to continue\")\n",
      "Se agotaron los reintentos. Devolviendo dict vacío.\n"
     ]
    },
    {
     "name": "stdout",
     "output_type": "stream",
     "text": [
      "📖 El índice general está en la página 3\n"
     ]
    },
    {
     "name": "stderr",
     "output_type": "stream",
     "text": [
      "Intento 1/3 falló al llamar a Ollama: ResponseError(\"you've reached your hourly usage limit, please upgrade to continue\")\n",
      "Intento 2/3 falló al llamar a Ollama: ResponseError(\"you've reached your hourly usage limit, please upgrade to continue\")\n",
      "Intento 3/3 falló al llamar a Ollama: ResponseError(\"you've reached your hourly usage limit, please upgrade to continue\")\n",
      "Se agotaron los reintentos. Devolviendo dict vacío.\n"
     ]
    },
    {
     "name": "stdout",
     "output_type": "stream",
     "text": [
      "📖 El índice general está en la página 3\n"
     ]
    },
    {
     "name": "stderr",
     "output_type": "stream",
     "text": [
      "Intento 1/3 falló al llamar a Ollama: ResponseError(\"you've reached your hourly usage limit, please upgrade to continue\")\n",
      "Intento 2/3 falló al llamar a Ollama: ResponseError(\"you've reached your hourly usage limit, please upgrade to continue\")\n",
      "Intento 3/3 falló al llamar a Ollama: ResponseError(\"you've reached your hourly usage limit, please upgrade to continue\")\n",
      "Se agotaron los reintentos. Devolviendo dict vacío.\n"
     ]
    },
    {
     "name": "stdout",
     "output_type": "stream",
     "text": [
      "📖 El índice general está en la página 3\n"
     ]
    },
    {
     "name": "stderr",
     "output_type": "stream",
     "text": [
      "Intento 1/3 falló al llamar a Ollama: ResponseError(\"you've reached your hourly usage limit, please upgrade to continue\")\n",
      "Intento 2/3 falló al llamar a Ollama: ResponseError(\"you've reached your hourly usage limit, please upgrade to continue\")\n",
      "Intento 3/3 falló al llamar a Ollama: ResponseError(\"you've reached your hourly usage limit, please upgrade to continue\")\n",
      "Se agotaron los reintentos. Devolviendo dict vacío.\n"
     ]
    },
    {
     "name": "stdout",
     "output_type": "stream",
     "text": [
      "📖 El índice general está en la página 3\n"
     ]
    },
    {
     "name": "stderr",
     "output_type": "stream",
     "text": [
      "Intento 1/3 falló al llamar a Ollama: ResponseError(\"you've reached your hourly usage limit, please upgrade to continue\")\n",
      "Intento 2/3 falló al llamar a Ollama: ResponseError(\"you've reached your hourly usage limit, please upgrade to continue\")\n",
      "Intento 3/3 falló al llamar a Ollama: ResponseError(\"you've reached your hourly usage limit, please upgrade to continue\")\n",
      "Se agotaron los reintentos. Devolviendo dict vacío.\n"
     ]
    },
    {
     "name": "stdout",
     "output_type": "stream",
     "text": [
      "📖 El índice general está en la página 3\n"
     ]
    },
    {
     "name": "stderr",
     "output_type": "stream",
     "text": [
      "Intento 1/3 falló al llamar a Ollama: ResponseError(\"you've reached your hourly usage limit, please upgrade to continue\")\n",
      "Intento 2/3 falló al llamar a Ollama: ResponseError(\"you've reached your hourly usage limit, please upgrade to continue\")\n",
      "Intento 3/3 falló al llamar a Ollama: ResponseError(\"you've reached your hourly usage limit, please upgrade to continue\")\n",
      "Se agotaron los reintentos. Devolviendo dict vacío.\n"
     ]
    },
    {
     "name": "stdout",
     "output_type": "stream",
     "text": [
      "📖 El índice general está en la página 3\n"
     ]
    },
    {
     "name": "stderr",
     "output_type": "stream",
     "text": [
      "Intento 1/3 falló al llamar a Ollama: ResponseError(\"you've reached your hourly usage limit, please upgrade to continue\")\n",
      "Intento 2/3 falló al llamar a Ollama: ResponseError(\"you've reached your hourly usage limit, please upgrade to continue\")\n",
      "Intento 3/3 falló al llamar a Ollama: ResponseError(\"you've reached your hourly usage limit, please upgrade to continue\")\n",
      "Se agotaron los reintentos. Devolviendo dict vacío.\n"
     ]
    },
    {
     "name": "stdout",
     "output_type": "stream",
     "text": [
      "📖 El índice general está en la página 3\n"
     ]
    },
    {
     "name": "stderr",
     "output_type": "stream",
     "text": [
      "Intento 1/3 falló al llamar a Ollama: ResponseError(\"you've reached your hourly usage limit, please upgrade to continue\")\n",
      "Intento 2/3 falló al llamar a Ollama: ResponseError(\"you've reached your hourly usage limit, please upgrade to continue\")\n",
      "Intento 3/3 falló al llamar a Ollama: ResponseError(\"you've reached your hourly usage limit, please upgrade to continue\")\n",
      "Se agotaron los reintentos. Devolviendo dict vacío.\n"
     ]
    },
    {
     "name": "stdout",
     "output_type": "stream",
     "text": [
      "📖 El índice general está en la página 3\n"
     ]
    },
    {
     "name": "stderr",
     "output_type": "stream",
     "text": [
      "Intento 1/3 falló al llamar a Ollama: ResponseError(\"you've reached your hourly usage limit, please upgrade to continue\")\n",
      "Intento 2/3 falló al llamar a Ollama: ResponseError(\"you've reached your hourly usage limit, please upgrade to continue\")\n",
      "Intento 3/3 falló al llamar a Ollama: ResponseError(\"you've reached your hourly usage limit, please upgrade to continue\")\n",
      "Se agotaron los reintentos. Devolviendo dict vacío.\n"
     ]
    },
    {
     "name": "stdout",
     "output_type": "stream",
     "text": [
      "📖 El índice general está en la página 3\n"
     ]
    },
    {
     "name": "stderr",
     "output_type": "stream",
     "text": [
      "Intento 1/3 falló al llamar a Ollama: ResponseError(\"you've reached your hourly usage limit, please upgrade to continue\")\n",
      "Intento 2/3 falló al llamar a Ollama: ResponseError(\"you've reached your hourly usage limit, please upgrade to continue\")\n",
      "Intento 3/3 falló al llamar a Ollama: ResponseError(\"you've reached your hourly usage limit, please upgrade to continue\")\n",
      "Se agotaron los reintentos. Devolviendo dict vacío.\n"
     ]
    },
    {
     "name": "stdout",
     "output_type": "stream",
     "text": [
      "📖 El índice general está en la página 3\n"
     ]
    },
    {
     "name": "stderr",
     "output_type": "stream",
     "text": [
      "Intento 1/3 falló al llamar a Ollama: ResponseError(\"you've reached your hourly usage limit, please upgrade to continue\")\n",
      "Intento 2/3 falló al llamar a Ollama: ResponseError(\"you've reached your hourly usage limit, please upgrade to continue\")\n",
      "Intento 3/3 falló al llamar a Ollama: ResponseError(\"you've reached your hourly usage limit, please upgrade to continue\")\n",
      "Se agotaron los reintentos. Devolviendo dict vacío.\n"
     ]
    },
    {
     "name": "stdout",
     "output_type": "stream",
     "text": [
      "📖 El índice general está en la página 3\n"
     ]
    },
    {
     "name": "stderr",
     "output_type": "stream",
     "text": [
      "Intento 1/3 falló al llamar a Ollama: ResponseError(\"you've reached your hourly usage limit, please upgrade to continue\")\n",
      "Intento 2/3 falló al llamar a Ollama: ResponseError(\"you've reached your hourly usage limit, please upgrade to continue\")\n",
      "Intento 3/3 falló al llamar a Ollama: ResponseError(\"you've reached your hourly usage limit, please upgrade to continue\")\n",
      "Se agotaron los reintentos. Devolviendo dict vacío.\n"
     ]
    },
    {
     "name": "stdout",
     "output_type": "stream",
     "text": [
      "📖 El índice general está en la página 3\n"
     ]
    },
    {
     "name": "stderr",
     "output_type": "stream",
     "text": [
      "Intento 1/3 falló al llamar a Ollama: ResponseError(\"you've reached your hourly usage limit, please upgrade to continue\")\n",
      "Intento 2/3 falló al llamar a Ollama: ResponseError(\"you've reached your hourly usage limit, please upgrade to continue\")\n",
      "Intento 3/3 falló al llamar a Ollama: ResponseError(\"you've reached your hourly usage limit, please upgrade to continue\")\n",
      "Se agotaron los reintentos. Devolviendo dict vacío.\n"
     ]
    },
    {
     "name": "stdout",
     "output_type": "stream",
     "text": [
      "📖 El índice general está en la página 3\n"
     ]
    },
    {
     "name": "stderr",
     "output_type": "stream",
     "text": [
      "Intento 1/3 falló al llamar a Ollama: ResponseError(\"you've reached your hourly usage limit, please upgrade to continue\")\n",
      "Intento 2/3 falló al llamar a Ollama: ResponseError(\"you've reached your hourly usage limit, please upgrade to continue\")\n",
      "Intento 3/3 falló al llamar a Ollama: ResponseError(\"you've reached your hourly usage limit, please upgrade to continue\")\n",
      "Se agotaron los reintentos. Devolviendo dict vacío.\n"
     ]
    },
    {
     "name": "stdout",
     "output_type": "stream",
     "text": [
      "📖 El índice general está en la página 3\n"
     ]
    },
    {
     "name": "stderr",
     "output_type": "stream",
     "text": [
      "Intento 1/3 falló al llamar a Ollama: ResponseError(\"you've reached your hourly usage limit, please upgrade to continue\")\n",
      "Intento 2/3 falló al llamar a Ollama: ResponseError(\"you've reached your hourly usage limit, please upgrade to continue\")\n",
      "Intento 3/3 falló al llamar a Ollama: ResponseError(\"you've reached your hourly usage limit, please upgrade to continue\")\n",
      "Se agotaron los reintentos. Devolviendo dict vacío.\n"
     ]
    },
    {
     "name": "stdout",
     "output_type": "stream",
     "text": [
      "📖 El índice general está en la página 3\n"
     ]
    },
    {
     "name": "stderr",
     "output_type": "stream",
     "text": [
      "Intento 1/3 falló al llamar a Ollama: ResponseError(\"you've reached your hourly usage limit, please upgrade to continue\")\n",
      "Intento 2/3 falló al llamar a Ollama: ResponseError(\"you've reached your hourly usage limit, please upgrade to continue\")\n",
      "Intento 3/3 falló al llamar a Ollama: ResponseError(\"you've reached your hourly usage limit, please upgrade to continue\")\n",
      "Se agotaron los reintentos. Devolviendo dict vacío.\n"
     ]
    },
    {
     "name": "stdout",
     "output_type": "stream",
     "text": [
      "📖 El índice general está en la página 3\n"
     ]
    },
    {
     "name": "stderr",
     "output_type": "stream",
     "text": [
      "Intento 1/3 falló al llamar a Ollama: ResponseError(\"you've reached your hourly usage limit, please upgrade to continue\")\n",
      "Intento 2/3 falló al llamar a Ollama: ResponseError(\"you've reached your hourly usage limit, please upgrade to continue\")\n",
      "Intento 3/3 falló al llamar a Ollama: ResponseError(\"you've reached your hourly usage limit, please upgrade to continue\")\n",
      "Se agotaron los reintentos. Devolviendo dict vacío.\n"
     ]
    },
    {
     "name": "stdout",
     "output_type": "stream",
     "text": [
      "📖 El índice general está en la página 3\n"
     ]
    },
    {
     "name": "stderr",
     "output_type": "stream",
     "text": [
      "Intento 1/3 falló al llamar a Ollama: ResponseError(\"you've reached your hourly usage limit, please upgrade to continue\")\n",
      "Intento 2/3 falló al llamar a Ollama: ResponseError(\"you've reached your hourly usage limit, please upgrade to continue\")\n",
      "Intento 3/3 falló al llamar a Ollama: ResponseError(\"you've reached your hourly usage limit, please upgrade to continue\")\n",
      "Se agotaron los reintentos. Devolviendo dict vacío.\n"
     ]
    },
    {
     "name": "stdout",
     "output_type": "stream",
     "text": [
      "📖 El índice general está en la página 3\n"
     ]
    },
    {
     "name": "stderr",
     "output_type": "stream",
     "text": [
      "Intento 1/3 falló al llamar a Ollama: ResponseError(\"you've reached your hourly usage limit, please upgrade to continue\")\n",
      "Intento 2/3 falló al llamar a Ollama: ResponseError(\"you've reached your hourly usage limit, please upgrade to continue\")\n",
      "Intento 3/3 falló al llamar a Ollama: ResponseError(\"you've reached your hourly usage limit, please upgrade to continue\")\n",
      "Se agotaron los reintentos. Devolviendo dict vacío.\n"
     ]
    },
    {
     "name": "stdout",
     "output_type": "stream",
     "text": [
      "📖 El índice general está en la página 3\n"
     ]
    },
    {
     "name": "stderr",
     "output_type": "stream",
     "text": [
      "Intento 1/3 falló al llamar a Ollama: ResponseError(\"you've reached your hourly usage limit, please upgrade to continue\")\n",
      "Intento 2/3 falló al llamar a Ollama: ResponseError(\"you've reached your hourly usage limit, please upgrade to continue\")\n",
      "Intento 3/3 falló al llamar a Ollama: ResponseError(\"you've reached your hourly usage limit, please upgrade to continue\")\n",
      "Se agotaron los reintentos. Devolviendo dict vacío.\n"
     ]
    },
    {
     "name": "stdout",
     "output_type": "stream",
     "text": [
      "📖 El índice general está en la página 3\n"
     ]
    },
    {
     "name": "stderr",
     "output_type": "stream",
     "text": [
      "Intento 1/3 falló al llamar a Ollama: ResponseError(\"you've reached your hourly usage limit, please upgrade to continue\")\n",
      "Intento 2/3 falló al llamar a Ollama: ResponseError(\"you've reached your hourly usage limit, please upgrade to continue\")\n",
      "Intento 3/3 falló al llamar a Ollama: ResponseError(\"you've reached your hourly usage limit, please upgrade to continue\")\n",
      "Se agotaron los reintentos. Devolviendo dict vacío.\n"
     ]
    },
    {
     "name": "stdout",
     "output_type": "stream",
     "text": [
      "📖 El índice general está en la página 3\n"
     ]
    },
    {
     "name": "stderr",
     "output_type": "stream",
     "text": [
      "Intento 1/3 falló al llamar a Ollama: ResponseError(\"you've reached your hourly usage limit, please upgrade to continue\")\n",
      "Intento 2/3 falló al llamar a Ollama: ResponseError(\"you've reached your hourly usage limit, please upgrade to continue\")\n",
      "Intento 3/3 falló al llamar a Ollama: ResponseError(\"you've reached your hourly usage limit, please upgrade to continue\")\n",
      "Se agotaron los reintentos. Devolviendo dict vacío.\n"
     ]
    },
    {
     "name": "stdout",
     "output_type": "stream",
     "text": [
      "📖 El índice general está en la página 3\n"
     ]
    },
    {
     "name": "stderr",
     "output_type": "stream",
     "text": [
      "Intento 1/3 falló al llamar a Ollama: ResponseError(\"you've reached your hourly usage limit, please upgrade to continue\")\n",
      "Intento 2/3 falló al llamar a Ollama: ResponseError(\"you've reached your hourly usage limit, please upgrade to continue\")\n",
      "Intento 3/3 falló al llamar a Ollama: ResponseError(\"you've reached your hourly usage limit, please upgrade to continue\")\n",
      "Se agotaron los reintentos. Devolviendo dict vacío.\n"
     ]
    },
    {
     "name": "stdout",
     "output_type": "stream",
     "text": [
      "📖 El índice general está en la página 3\n"
     ]
    },
    {
     "name": "stderr",
     "output_type": "stream",
     "text": [
      "Intento 1/3 falló al llamar a Ollama: ResponseError(\"you've reached your hourly usage limit, please upgrade to continue\")\n",
      "Intento 2/3 falló al llamar a Ollama: ResponseError(\"you've reached your hourly usage limit, please upgrade to continue\")\n",
      "Intento 3/3 falló al llamar a Ollama: ResponseError(\"you've reached your hourly usage limit, please upgrade to continue\")\n",
      "Se agotaron los reintentos. Devolviendo dict vacío.\n"
     ]
    },
    {
     "name": "stdout",
     "output_type": "stream",
     "text": [
      "📖 El índice general está en la página 3\n"
     ]
    },
    {
     "name": "stderr",
     "output_type": "stream",
     "text": [
      "Intento 1/3 falló al llamar a Ollama: ResponseError(\"you've reached your hourly usage limit, please upgrade to continue\")\n",
      "Intento 2/3 falló al llamar a Ollama: ResponseError(\"you've reached your hourly usage limit, please upgrade to continue\")\n",
      "Intento 3/3 falló al llamar a Ollama: ResponseError(\"you've reached your hourly usage limit, please upgrade to continue\")\n",
      "Se agotaron los reintentos. Devolviendo dict vacío.\n"
     ]
    },
    {
     "name": "stdout",
     "output_type": "stream",
     "text": [
      "📖 El índice general está en la página 3\n"
     ]
    },
    {
     "name": "stderr",
     "output_type": "stream",
     "text": [
      "Intento 1/3 falló al llamar a Ollama: ResponseError(\"you've reached your hourly usage limit, please upgrade to continue\")\n",
      "Intento 2/3 falló al llamar a Ollama: ResponseError(\"you've reached your hourly usage limit, please upgrade to continue\")\n",
      "Intento 3/3 falló al llamar a Ollama: ResponseError(\"you've reached your hourly usage limit, please upgrade to continue\")\n",
      "Se agotaron los reintentos. Devolviendo dict vacío.\n"
     ]
    },
    {
     "name": "stdout",
     "output_type": "stream",
     "text": [
      "📖 El índice general está en la página 3\n"
     ]
    },
    {
     "name": "stderr",
     "output_type": "stream",
     "text": [
      "Intento 1/3 falló al llamar a Ollama: ResponseError(\"you've reached your hourly usage limit, please upgrade to continue\")\n",
      "Intento 2/3 falló al llamar a Ollama: ResponseError(\"you've reached your hourly usage limit, please upgrade to continue\")\n",
      "Intento 3/3 falló al llamar a Ollama: ResponseError(\"you've reached your hourly usage limit, please upgrade to continue\")\n",
      "Se agotaron los reintentos. Devolviendo dict vacío.\n"
     ]
    },
    {
     "name": "stdout",
     "output_type": "stream",
     "text": [
      "📖 El índice general está en la página 3\n"
     ]
    },
    {
     "name": "stderr",
     "output_type": "stream",
     "text": [
      "Intento 1/3 falló al llamar a Ollama: ResponseError(\"you've reached your hourly usage limit, please upgrade to continue\")\n",
      "Intento 2/3 falló al llamar a Ollama: ResponseError(\"you've reached your hourly usage limit, please upgrade to continue\")\n",
      "Intento 3/3 falló al llamar a Ollama: ResponseError(\"you've reached your hourly usage limit, please upgrade to continue\")\n",
      "Se agotaron los reintentos. Devolviendo dict vacío.\n"
     ]
    },
    {
     "name": "stdout",
     "output_type": "stream",
     "text": [
      "📖 El índice general está en la página 3\n"
     ]
    },
    {
     "name": "stderr",
     "output_type": "stream",
     "text": [
      "Intento 1/3 falló al llamar a Ollama: ResponseError(\"you've reached your hourly usage limit, please upgrade to continue\")\n",
      "Intento 2/3 falló al llamar a Ollama: ResponseError(\"you've reached your hourly usage limit, please upgrade to continue\")\n",
      "Intento 3/3 falló al llamar a Ollama: ResponseError(\"you've reached your hourly usage limit, please upgrade to continue\")\n",
      "Se agotaron los reintentos. Devolviendo dict vacío.\n"
     ]
    },
    {
     "name": "stdout",
     "output_type": "stream",
     "text": [
      "📖 El índice general está en la página 3\n"
     ]
    },
    {
     "name": "stderr",
     "output_type": "stream",
     "text": [
      "Intento 1/3 falló al llamar a Ollama: ResponseError(\"you've reached your hourly usage limit, please upgrade to continue\")\n",
      "Intento 2/3 falló al llamar a Ollama: ResponseError(\"you've reached your hourly usage limit, please upgrade to continue\")\n",
      "Intento 3/3 falló al llamar a Ollama: ResponseError(\"you've reached your hourly usage limit, please upgrade to continue\")\n",
      "Se agotaron los reintentos. Devolviendo dict vacío.\n"
     ]
    },
    {
     "name": "stdout",
     "output_type": "stream",
     "text": [
      "📖 El índice general está en la página 3\n"
     ]
    },
    {
     "name": "stderr",
     "output_type": "stream",
     "text": [
      "Intento 1/3 falló al llamar a Ollama: ResponseError(\"you've reached your hourly usage limit, please upgrade to continue\")\n",
      "Intento 2/3 falló al llamar a Ollama: ResponseError(\"you've reached your hourly usage limit, please upgrade to continue\")\n",
      "Intento 3/3 falló al llamar a Ollama: ResponseError(\"you've reached your hourly usage limit, please upgrade to continue\")\n",
      "Se agotaron los reintentos. Devolviendo dict vacío.\n"
     ]
    },
    {
     "name": "stdout",
     "output_type": "stream",
     "text": [
      "📖 El índice general está en la página 3\n"
     ]
    },
    {
     "name": "stderr",
     "output_type": "stream",
     "text": [
      "Intento 1/3 falló al llamar a Ollama: ResponseError(\"you've reached your hourly usage limit, please upgrade to continue\")\n",
      "Intento 2/3 falló al llamar a Ollama: ResponseError(\"you've reached your hourly usage limit, please upgrade to continue\")\n",
      "Intento 3/3 falló al llamar a Ollama: ResponseError(\"you've reached your hourly usage limit, please upgrade to continue\")\n",
      "Se agotaron los reintentos. Devolviendo dict vacío.\n"
     ]
    },
    {
     "name": "stdout",
     "output_type": "stream",
     "text": [
      "📖 El índice general está en la página 3\n"
     ]
    },
    {
     "name": "stderr",
     "output_type": "stream",
     "text": [
      "Intento 1/3 falló al llamar a Ollama: ResponseError(\"you've reached your hourly usage limit, please upgrade to continue\")\n",
      "Intento 2/3 falló al llamar a Ollama: ResponseError(\"you've reached your hourly usage limit, please upgrade to continue\")\n",
      "Intento 3/3 falló al llamar a Ollama: ResponseError(\"you've reached your hourly usage limit, please upgrade to continue\")\n",
      "Se agotaron los reintentos. Devolviendo dict vacío.\n"
     ]
    },
    {
     "name": "stdout",
     "output_type": "stream",
     "text": [
      "📖 El índice general está en la página 3\n"
     ]
    },
    {
     "name": "stderr",
     "output_type": "stream",
     "text": [
      "Intento 1/3 falló al llamar a Ollama: ResponseError(\"you've reached your hourly usage limit, please upgrade to continue\")\n",
      "Intento 2/3 falló al llamar a Ollama: ResponseError(\"you've reached your hourly usage limit, please upgrade to continue\")\n",
      "Intento 3/3 falló al llamar a Ollama: ResponseError(\"you've reached your hourly usage limit, please upgrade to continue\")\n",
      "Se agotaron los reintentos. Devolviendo dict vacío.\n"
     ]
    },
    {
     "name": "stdout",
     "output_type": "stream",
     "text": [
      "📖 El índice general está en la página 3\n"
     ]
    },
    {
     "name": "stderr",
     "output_type": "stream",
     "text": [
      "Intento 1/3 falló al llamar a Ollama: ResponseError(\"you've reached your hourly usage limit, please upgrade to continue\")\n",
      "Intento 2/3 falló al llamar a Ollama: ResponseError(\"you've reached your hourly usage limit, please upgrade to continue\")\n",
      "Intento 3/3 falló al llamar a Ollama: ResponseError(\"you've reached your hourly usage limit, please upgrade to continue\")\n",
      "Se agotaron los reintentos. Devolviendo dict vacío.\n"
     ]
    },
    {
     "name": "stdout",
     "output_type": "stream",
     "text": [
      "📖 El índice general está en la página 3\n"
     ]
    },
    {
     "name": "stderr",
     "output_type": "stream",
     "text": [
      "Intento 1/3 falló al llamar a Ollama: ResponseError(\"you've reached your hourly usage limit, please upgrade to continue\")\n",
      "Intento 2/3 falló al llamar a Ollama: ResponseError(\"you've reached your hourly usage limit, please upgrade to continue\")\n",
      "Intento 3/3 falló al llamar a Ollama: ResponseError(\"you've reached your hourly usage limit, please upgrade to continue\")\n",
      "Se agotaron los reintentos. Devolviendo dict vacío.\n"
     ]
    },
    {
     "name": "stdout",
     "output_type": "stream",
     "text": [
      "📖 El índice general está en la página 3\n"
     ]
    },
    {
     "name": "stderr",
     "output_type": "stream",
     "text": [
      "Intento 1/3 falló al llamar a Ollama: ResponseError(\"you've reached your hourly usage limit, please upgrade to continue\")\n",
      "Intento 2/3 falló al llamar a Ollama: ResponseError(\"you've reached your hourly usage limit, please upgrade to continue\")\n",
      "Intento 3/3 falló al llamar a Ollama: ResponseError(\"you've reached your hourly usage limit, please upgrade to continue\")\n",
      "Se agotaron los reintentos. Devolviendo dict vacío.\n"
     ]
    },
    {
     "name": "stdout",
     "output_type": "stream",
     "text": [
      "📖 El índice general está en la página 3\n"
     ]
    },
    {
     "name": "stderr",
     "output_type": "stream",
     "text": [
      "Intento 1/3 falló al llamar a Ollama: ResponseError(\"you've reached your hourly usage limit, please upgrade to continue\")\n",
      "Intento 2/3 falló al llamar a Ollama: ResponseError(\"you've reached your hourly usage limit, please upgrade to continue\")\n",
      "Intento 3/3 falló al llamar a Ollama: ResponseError(\"you've reached your hourly usage limit, please upgrade to continue\")\n",
      "Se agotaron los reintentos. Devolviendo dict vacío.\n"
     ]
    },
    {
     "name": "stdout",
     "output_type": "stream",
     "text": [
      "📖 El índice general está en la página 3\n"
     ]
    },
    {
     "name": "stderr",
     "output_type": "stream",
     "text": [
      "Intento 1/3 falló al llamar a Ollama: ResponseError(\"you've reached your hourly usage limit, please upgrade to continue\")\n",
      "Intento 2/3 falló al llamar a Ollama: ResponseError(\"you've reached your hourly usage limit, please upgrade to continue\")\n",
      "Intento 3/3 falló al llamar a Ollama: ResponseError(\"you've reached your hourly usage limit, please upgrade to continue\")\n",
      "Se agotaron los reintentos. Devolviendo dict vacío.\n"
     ]
    },
    {
     "name": "stdout",
     "output_type": "stream",
     "text": [
      "📖 El índice general está en la página 3\n"
     ]
    },
    {
     "name": "stderr",
     "output_type": "stream",
     "text": [
      "Intento 1/3 falló al llamar a Ollama: ResponseError(\"you've reached your hourly usage limit, please upgrade to continue\")\n",
      "Intento 2/3 falló al llamar a Ollama: ResponseError(\"you've reached your hourly usage limit, please upgrade to continue\")\n",
      "Intento 3/3 falló al llamar a Ollama: ResponseError(\"you've reached your hourly usage limit, please upgrade to continue\")\n",
      "Se agotaron los reintentos. Devolviendo dict vacío.\n"
     ]
    },
    {
     "name": "stdout",
     "output_type": "stream",
     "text": [
      "📖 El índice general está en la página 3\n"
     ]
    },
    {
     "name": "stderr",
     "output_type": "stream",
     "text": [
      "Intento 1/3 falló al llamar a Ollama: ResponseError(\"you've reached your hourly usage limit, please upgrade to continue\")\n",
      "Intento 2/3 falló al llamar a Ollama: ResponseError(\"you've reached your hourly usage limit, please upgrade to continue\")\n",
      "Intento 3/3 falló al llamar a Ollama: ResponseError(\"you've reached your hourly usage limit, please upgrade to continue\")\n",
      "Se agotaron los reintentos. Devolviendo dict vacío.\n"
     ]
    },
    {
     "name": "stdout",
     "output_type": "stream",
     "text": [
      "📖 El índice general está en la página 3\n"
     ]
    },
    {
     "name": "stderr",
     "output_type": "stream",
     "text": [
      "Intento 1/3 falló al llamar a Ollama: ResponseError(\"you've reached your hourly usage limit, please upgrade to continue\")\n",
      "Intento 2/3 falló al llamar a Ollama: ResponseError(\"you've reached your hourly usage limit, please upgrade to continue\")\n",
      "Intento 3/3 falló al llamar a Ollama: ResponseError(\"you've reached your hourly usage limit, please upgrade to continue\")\n",
      "Se agotaron los reintentos. Devolviendo dict vacío.\n"
     ]
    },
    {
     "name": "stdout",
     "output_type": "stream",
     "text": [
      "📖 El índice general está en la página 3\n"
     ]
    },
    {
     "name": "stderr",
     "output_type": "stream",
     "text": [
      "Intento 1/3 falló al llamar a Ollama: ResponseError(\"you've reached your hourly usage limit, please upgrade to continue\")\n",
      "Intento 2/3 falló al llamar a Ollama: ResponseError(\"you've reached your hourly usage limit, please upgrade to continue\")\n",
      "Intento 3/3 falló al llamar a Ollama: ResponseError(\"you've reached your hourly usage limit, please upgrade to continue\")\n",
      "Se agotaron los reintentos. Devolviendo dict vacío.\n"
     ]
    },
    {
     "name": "stdout",
     "output_type": "stream",
     "text": [
      "📖 El índice general está en la página 3\n"
     ]
    },
    {
     "name": "stderr",
     "output_type": "stream",
     "text": [
      "Intento 1/3 falló al llamar a Ollama: ResponseError(\"you've reached your hourly usage limit, please upgrade to continue\")\n",
      "Intento 2/3 falló al llamar a Ollama: ResponseError(\"you've reached your hourly usage limit, please upgrade to continue\")\n",
      "Intento 3/3 falló al llamar a Ollama: ResponseError(\"you've reached your hourly usage limit, please upgrade to continue\")\n",
      "Se agotaron los reintentos. Devolviendo dict vacío.\n"
     ]
    },
    {
     "name": "stdout",
     "output_type": "stream",
     "text": [
      "📖 El índice general está en la página 3\n"
     ]
    },
    {
     "name": "stderr",
     "output_type": "stream",
     "text": [
      "Intento 1/3 falló al llamar a Ollama: ResponseError(\"you've reached your hourly usage limit, please upgrade to continue\")\n",
      "Intento 2/3 falló al llamar a Ollama: ResponseError(\"you've reached your hourly usage limit, please upgrade to continue\")\n",
      "Intento 3/3 falló al llamar a Ollama: ResponseError(\"you've reached your hourly usage limit, please upgrade to continue\")\n",
      "Se agotaron los reintentos. Devolviendo dict vacío.\n"
     ]
    },
    {
     "name": "stdout",
     "output_type": "stream",
     "text": [
      "📖 El índice general está en la página 3\n"
     ]
    },
    {
     "name": "stderr",
     "output_type": "stream",
     "text": [
      "Intento 1/3 falló al llamar a Ollama: ResponseError(\"you've reached your hourly usage limit, please upgrade to continue\")\n",
      "Intento 2/3 falló al llamar a Ollama: ResponseError(\"you've reached your hourly usage limit, please upgrade to continue\")\n",
      "Intento 3/3 falló al llamar a Ollama: ResponseError(\"you've reached your hourly usage limit, please upgrade to continue\")\n",
      "Se agotaron los reintentos. Devolviendo dict vacío.\n"
     ]
    },
    {
     "name": "stdout",
     "output_type": "stream",
     "text": [
      "📖 El índice general está en la página 3\n"
     ]
    },
    {
     "name": "stderr",
     "output_type": "stream",
     "text": [
      "Intento 1/3 falló al llamar a Ollama: ResponseError(\"you've reached your hourly usage limit, please upgrade to continue\")\n",
      "Intento 2/3 falló al llamar a Ollama: ResponseError(\"you've reached your hourly usage limit, please upgrade to continue\")\n",
      "Intento 3/3 falló al llamar a Ollama: ResponseError(\"you've reached your hourly usage limit, please upgrade to continue\")\n",
      "Se agotaron los reintentos. Devolviendo dict vacío.\n"
     ]
    },
    {
     "name": "stdout",
     "output_type": "stream",
     "text": [
      "📖 El índice general está en la página 3\n"
     ]
    },
    {
     "name": "stderr",
     "output_type": "stream",
     "text": [
      "Intento 1/3 falló al llamar a Ollama: ResponseError(\"you've reached your hourly usage limit, please upgrade to continue\")\n",
      "Intento 2/3 falló al llamar a Ollama: ResponseError(\"you've reached your hourly usage limit, please upgrade to continue\")\n",
      "Intento 3/3 falló al llamar a Ollama: ResponseError(\"you've reached your hourly usage limit, please upgrade to continue\")\n",
      "Se agotaron los reintentos. Devolviendo dict vacío.\n"
     ]
    },
    {
     "name": "stdout",
     "output_type": "stream",
     "text": [
      "📖 El índice general está en la página 3\n"
     ]
    },
    {
     "name": "stderr",
     "output_type": "stream",
     "text": [
      "Intento 1/3 falló al llamar a Ollama: ResponseError(\"you've reached your hourly usage limit, please upgrade to continue\")\n",
      "Intento 2/3 falló al llamar a Ollama: ResponseError(\"you've reached your hourly usage limit, please upgrade to continue\")\n",
      "Intento 3/3 falló al llamar a Ollama: ResponseError(\"you've reached your hourly usage limit, please upgrade to continue\")\n",
      "Se agotaron los reintentos. Devolviendo dict vacío.\n"
     ]
    },
    {
     "name": "stdout",
     "output_type": "stream",
     "text": [
      "📖 El índice general está en la página 3\n"
     ]
    },
    {
     "name": "stderr",
     "output_type": "stream",
     "text": [
      "Intento 1/3 falló al llamar a Ollama: ResponseError(\"you've reached your hourly usage limit, please upgrade to continue\")\n",
      "Intento 2/3 falló al llamar a Ollama: ResponseError(\"you've reached your hourly usage limit, please upgrade to continue\")\n",
      "Intento 3/3 falló al llamar a Ollama: ResponseError(\"you've reached your hourly usage limit, please upgrade to continue\")\n",
      "Se agotaron los reintentos. Devolviendo dict vacío.\n"
     ]
    },
    {
     "name": "stdout",
     "output_type": "stream",
     "text": [
      "📖 El índice general está en la página 3\n"
     ]
    },
    {
     "name": "stderr",
     "output_type": "stream",
     "text": [
      "Intento 1/3 falló al llamar a Ollama: ResponseError(\"you've reached your hourly usage limit, please upgrade to continue\")\n",
      "Intento 2/3 falló al llamar a Ollama: ResponseError(\"you've reached your hourly usage limit, please upgrade to continue\")\n",
      "Intento 3/3 falló al llamar a Ollama: ResponseError(\"you've reached your hourly usage limit, please upgrade to continue\")\n",
      "Se agotaron los reintentos. Devolviendo dict vacío.\n"
     ]
    },
    {
     "name": "stdout",
     "output_type": "stream",
     "text": [
      "📖 El índice general está en la página 3\n"
     ]
    },
    {
     "name": "stderr",
     "output_type": "stream",
     "text": [
      "Intento 1/3 falló al llamar a Ollama: ResponseError(\"you've reached your hourly usage limit, please upgrade to continue\")\n",
      "Intento 2/3 falló al llamar a Ollama: ResponseError(\"you've reached your hourly usage limit, please upgrade to continue\")\n",
      "Intento 3/3 falló al llamar a Ollama: ResponseError(\"you've reached your hourly usage limit, please upgrade to continue\")\n",
      "Se agotaron los reintentos. Devolviendo dict vacío.\n"
     ]
    },
    {
     "name": "stdout",
     "output_type": "stream",
     "text": [
      "📖 El índice general está en la página 3\n"
     ]
    },
    {
     "name": "stderr",
     "output_type": "stream",
     "text": [
      "Intento 1/3 falló al llamar a Ollama: ResponseError(\"you've reached your hourly usage limit, please upgrade to continue\")\n",
      "Intento 2/3 falló al llamar a Ollama: ResponseError(\"you've reached your hourly usage limit, please upgrade to continue\")\n",
      "Intento 3/3 falló al llamar a Ollama: ResponseError(\"you've reached your hourly usage limit, please upgrade to continue\")\n",
      "Se agotaron los reintentos. Devolviendo dict vacío.\n"
     ]
    },
    {
     "name": "stdout",
     "output_type": "stream",
     "text": [
      "📖 El índice general está en la página 3\n"
     ]
    },
    {
     "name": "stderr",
     "output_type": "stream",
     "text": [
      "Intento 1/3 falló al llamar a Ollama: ResponseError(\"you've reached your hourly usage limit, please upgrade to continue\")\n",
      "Intento 2/3 falló al llamar a Ollama: ResponseError(\"you've reached your hourly usage limit, please upgrade to continue\")\n",
      "Intento 3/3 falló al llamar a Ollama: ResponseError(\"you've reached your hourly usage limit, please upgrade to continue\")\n",
      "Se agotaron los reintentos. Devolviendo dict vacío.\n"
     ]
    },
    {
     "name": "stdout",
     "output_type": "stream",
     "text": [
      "📖 El índice general está en la página 3\n"
     ]
    },
    {
     "name": "stderr",
     "output_type": "stream",
     "text": [
      "Intento 1/3 falló al llamar a Ollama: ResponseError(\"you've reached your hourly usage limit, please upgrade to continue\")\n",
      "Intento 2/3 falló al llamar a Ollama: ResponseError(\"you've reached your hourly usage limit, please upgrade to continue\")\n",
      "Intento 3/3 falló al llamar a Ollama: ResponseError(\"you've reached your hourly usage limit, please upgrade to continue\")\n",
      "Se agotaron los reintentos. Devolviendo dict vacío.\n"
     ]
    },
    {
     "name": "stdout",
     "output_type": "stream",
     "text": [
      "📖 El índice general está en la página 3\n"
     ]
    },
    {
     "name": "stderr",
     "output_type": "stream",
     "text": [
      "Intento 1/3 falló al llamar a Ollama: ResponseError(\"you've reached your hourly usage limit, please upgrade to continue\")\n",
      "Intento 2/3 falló al llamar a Ollama: ResponseError(\"you've reached your hourly usage limit, please upgrade to continue\")\n",
      "Intento 3/3 falló al llamar a Ollama: ResponseError(\"you've reached your hourly usage limit, please upgrade to continue\")\n",
      "Se agotaron los reintentos. Devolviendo dict vacío.\n"
     ]
    },
    {
     "name": "stdout",
     "output_type": "stream",
     "text": [
      "📖 El índice general está en la página 3\n"
     ]
    },
    {
     "name": "stderr",
     "output_type": "stream",
     "text": [
      "Intento 1/3 falló al llamar a Ollama: ResponseError(\"you've reached your hourly usage limit, please upgrade to continue\")\n",
      "Intento 2/3 falló al llamar a Ollama: ResponseError(\"you've reached your hourly usage limit, please upgrade to continue\")\n",
      "Intento 3/3 falló al llamar a Ollama: ResponseError(\"you've reached your hourly usage limit, please upgrade to continue\")\n",
      "Se agotaron los reintentos. Devolviendo dict vacío.\n"
     ]
    },
    {
     "name": "stdout",
     "output_type": "stream",
     "text": [
      "📖 El índice general está en la página 3\n"
     ]
    },
    {
     "name": "stderr",
     "output_type": "stream",
     "text": [
      "Intento 1/3 falló al llamar a Ollama: ResponseError(\"you've reached your hourly usage limit, please upgrade to continue\")\n",
      "Intento 2/3 falló al llamar a Ollama: ResponseError(\"you've reached your hourly usage limit, please upgrade to continue\")\n",
      "Intento 3/3 falló al llamar a Ollama: ResponseError(\"you've reached your hourly usage limit, please upgrade to continue\")\n",
      "Se agotaron los reintentos. Devolviendo dict vacío.\n"
     ]
    },
    {
     "name": "stdout",
     "output_type": "stream",
     "text": [
      "📖 El índice general está en la página 3\n"
     ]
    },
    {
     "name": "stderr",
     "output_type": "stream",
     "text": [
      "Intento 1/3 falló al llamar a Ollama: ResponseError(\"you've reached your hourly usage limit, please upgrade to continue\")\n",
      "Intento 2/3 falló al llamar a Ollama: ResponseError(\"you've reached your hourly usage limit, please upgrade to continue\")\n",
      "Intento 3/3 falló al llamar a Ollama: ResponseError(\"you've reached your hourly usage limit, please upgrade to continue\")\n",
      "Se agotaron los reintentos. Devolviendo dict vacío.\n"
     ]
    },
    {
     "name": "stdout",
     "output_type": "stream",
     "text": [
      "📖 El índice general está en la página 3\n"
     ]
    },
    {
     "name": "stderr",
     "output_type": "stream",
     "text": [
      "Intento 1/3 falló al llamar a Ollama: ResponseError(\"you've reached your hourly usage limit, please upgrade to continue\")\n",
      "Intento 2/3 falló al llamar a Ollama: ResponseError(\"you've reached your hourly usage limit, please upgrade to continue\")\n",
      "Intento 3/3 falló al llamar a Ollama: ResponseError(\"you've reached your hourly usage limit, please upgrade to continue\")\n",
      "Se agotaron los reintentos. Devolviendo dict vacío.\n"
     ]
    },
    {
     "name": "stdout",
     "output_type": "stream",
     "text": [
      "📖 El índice general está en la página 3\n"
     ]
    },
    {
     "name": "stderr",
     "output_type": "stream",
     "text": [
      "Intento 1/3 falló al llamar a Ollama: ResponseError(\"you've reached your hourly usage limit, please upgrade to continue\")\n",
      "Intento 2/3 falló al llamar a Ollama: ResponseError(\"you've reached your hourly usage limit, please upgrade to continue\")\n",
      "Intento 3/3 falló al llamar a Ollama: ResponseError(\"you've reached your hourly usage limit, please upgrade to continue\")\n",
      "Se agotaron los reintentos. Devolviendo dict vacío.\n"
     ]
    },
    {
     "name": "stdout",
     "output_type": "stream",
     "text": [
      "📖 El índice general está en la página 3\n"
     ]
    },
    {
     "name": "stderr",
     "output_type": "stream",
     "text": [
      "Intento 1/3 falló al llamar a Ollama: ResponseError(\"you've reached your hourly usage limit, please upgrade to continue\")\n",
      "Intento 2/3 falló al llamar a Ollama: ResponseError(\"you've reached your hourly usage limit, please upgrade to continue\")\n",
      "Intento 3/3 falló al llamar a Ollama: ResponseError(\"you've reached your hourly usage limit, please upgrade to continue\")\n",
      "Se agotaron los reintentos. Devolviendo dict vacío.\n"
     ]
    },
    {
     "name": "stdout",
     "output_type": "stream",
     "text": [
      "📖 El índice general está en la página 3\n"
     ]
    },
    {
     "name": "stderr",
     "output_type": "stream",
     "text": [
      "Intento 1/3 falló al llamar a Ollama: ResponseError(\"you've reached your hourly usage limit, please upgrade to continue\")\n",
      "Intento 2/3 falló al llamar a Ollama: ResponseError(\"you've reached your hourly usage limit, please upgrade to continue\")\n",
      "Intento 3/3 falló al llamar a Ollama: ResponseError(\"you've reached your hourly usage limit, please upgrade to continue\")\n",
      "Se agotaron los reintentos. Devolviendo dict vacío.\n"
     ]
    },
    {
     "name": "stdout",
     "output_type": "stream",
     "text": [
      "📖 El índice general está en la página 3\n"
     ]
    },
    {
     "name": "stderr",
     "output_type": "stream",
     "text": [
      "Intento 1/3 falló al llamar a Ollama: ResponseError(\"you've reached your hourly usage limit, please upgrade to continue\")\n",
      "Intento 2/3 falló al llamar a Ollama: ResponseError(\"you've reached your hourly usage limit, please upgrade to continue\")\n",
      "Intento 3/3 falló al llamar a Ollama: ResponseError(\"you've reached your hourly usage limit, please upgrade to continue\")\n",
      "Se agotaron los reintentos. Devolviendo dict vacío.\n"
     ]
    },
    {
     "name": "stdout",
     "output_type": "stream",
     "text": [
      "📖 El índice general está en la página 3\n"
     ]
    },
    {
     "name": "stderr",
     "output_type": "stream",
     "text": [
      "Intento 1/3 falló al llamar a Ollama: ResponseError(\"you've reached your hourly usage limit, please upgrade to continue\")\n",
      "Intento 2/3 falló al llamar a Ollama: ResponseError(\"you've reached your hourly usage limit, please upgrade to continue\")\n",
      "Intento 3/3 falló al llamar a Ollama: ResponseError(\"you've reached your hourly usage limit, please upgrade to continue\")\n",
      "Se agotaron los reintentos. Devolviendo dict vacío.\n"
     ]
    },
    {
     "name": "stdout",
     "output_type": "stream",
     "text": [
      "📖 El índice general está en la página 3\n"
     ]
    },
    {
     "name": "stderr",
     "output_type": "stream",
     "text": [
      "Intento 1/3 falló al llamar a Ollama: ResponseError(\"you've reached your hourly usage limit, please upgrade to continue\")\n",
      "Intento 2/3 falló al llamar a Ollama: ResponseError(\"you've reached your hourly usage limit, please upgrade to continue\")\n",
      "Intento 3/3 falló al llamar a Ollama: ResponseError(\"you've reached your hourly usage limit, please upgrade to continue\")\n",
      "Se agotaron los reintentos. Devolviendo dict vacío.\n"
     ]
    },
    {
     "name": "stdout",
     "output_type": "stream",
     "text": [
      "📖 El índice general está en la página 3\n"
     ]
    },
    {
     "name": "stderr",
     "output_type": "stream",
     "text": [
      "Intento 1/3 falló al llamar a Ollama: ResponseError(\"you've reached your hourly usage limit, please upgrade to continue\")\n",
      "Intento 2/3 falló al llamar a Ollama: ResponseError(\"you've reached your hourly usage limit, please upgrade to continue\")\n",
      "Intento 3/3 falló al llamar a Ollama: ResponseError(\"you've reached your hourly usage limit, please upgrade to continue\")\n",
      "Se agotaron los reintentos. Devolviendo dict vacío.\n"
     ]
    },
    {
     "name": "stdout",
     "output_type": "stream",
     "text": [
      "📖 El índice general está en la página 3\n"
     ]
    },
    {
     "name": "stderr",
     "output_type": "stream",
     "text": [
      "Intento 1/3 falló al llamar a Ollama: ResponseError(\"you've reached your hourly usage limit, please upgrade to continue\")\n",
      "Intento 2/3 falló al llamar a Ollama: ResponseError(\"you've reached your hourly usage limit, please upgrade to continue\")\n",
      "Intento 3/3 falló al llamar a Ollama: ResponseError(\"you've reached your hourly usage limit, please upgrade to continue\")\n",
      "Se agotaron los reintentos. Devolviendo dict vacío.\n"
     ]
    },
    {
     "name": "stdout",
     "output_type": "stream",
     "text": [
      "📖 El índice general está en la página 3\n"
     ]
    },
    {
     "name": "stderr",
     "output_type": "stream",
     "text": [
      "Intento 1/3 falló al llamar a Ollama: ResponseError(\"you've reached your hourly usage limit, please upgrade to continue\")\n",
      "Intento 2/3 falló al llamar a Ollama: ResponseError(\"you've reached your hourly usage limit, please upgrade to continue\")\n",
      "Intento 3/3 falló al llamar a Ollama: ResponseError(\"you've reached your hourly usage limit, please upgrade to continue\")\n",
      "Se agotaron los reintentos. Devolviendo dict vacío.\n"
     ]
    },
    {
     "name": "stdout",
     "output_type": "stream",
     "text": [
      "📖 El índice general está en la página 3\n"
     ]
    },
    {
     "name": "stderr",
     "output_type": "stream",
     "text": [
      "Intento 1/3 falló al llamar a Ollama: ResponseError(\"you've reached your hourly usage limit, please upgrade to continue\")\n",
      "Intento 2/3 falló al llamar a Ollama: ResponseError(\"you've reached your hourly usage limit, please upgrade to continue\")\n",
      "Intento 3/3 falló al llamar a Ollama: ResponseError(\"you've reached your hourly usage limit, please upgrade to continue\")\n",
      "Se agotaron los reintentos. Devolviendo dict vacío.\n"
     ]
    },
    {
     "name": "stdout",
     "output_type": "stream",
     "text": [
      "📖 El índice general está en la página 3\n"
     ]
    },
    {
     "name": "stderr",
     "output_type": "stream",
     "text": [
      "Intento 1/3 falló al llamar a Ollama: ResponseError(\"you've reached your hourly usage limit, please upgrade to continue\")\n",
      "Intento 2/3 falló al llamar a Ollama: ResponseError(\"you've reached your hourly usage limit, please upgrade to continue\")\n",
      "Intento 3/3 falló al llamar a Ollama: ResponseError(\"you've reached your hourly usage limit, please upgrade to continue\")\n",
      "Se agotaron los reintentos. Devolviendo dict vacío.\n"
     ]
    },
    {
     "name": "stdout",
     "output_type": "stream",
     "text": [
      "📖 El índice general está en la página 3\n"
     ]
    },
    {
     "name": "stderr",
     "output_type": "stream",
     "text": [
      "Intento 1/3 falló al llamar a Ollama: ResponseError(\"you've reached your hourly usage limit, please upgrade to continue\")\n",
      "Intento 2/3 falló al llamar a Ollama: ResponseError(\"you've reached your hourly usage limit, please upgrade to continue\")\n",
      "Intento 3/3 falló al llamar a Ollama: ResponseError(\"you've reached your hourly usage limit, please upgrade to continue\")\n",
      "Se agotaron los reintentos. Devolviendo dict vacío.\n"
     ]
    },
    {
     "name": "stdout",
     "output_type": "stream",
     "text": [
      "📖 El índice general está en la página 3\n"
     ]
    },
    {
     "name": "stderr",
     "output_type": "stream",
     "text": [
      "Intento 1/3 falló al llamar a Ollama: ResponseError(\"you've reached your hourly usage limit, please upgrade to continue\")\n",
      "Intento 2/3 falló al llamar a Ollama: ResponseError(\"you've reached your hourly usage limit, please upgrade to continue\")\n",
      "Intento 3/3 falló al llamar a Ollama: ResponseError(\"you've reached your hourly usage limit, please upgrade to continue\")\n",
      "Se agotaron los reintentos. Devolviendo dict vacío.\n"
     ]
    },
    {
     "name": "stdout",
     "output_type": "stream",
     "text": [
      "📖 El índice general está en la página 3\n"
     ]
    },
    {
     "name": "stderr",
     "output_type": "stream",
     "text": [
      "Intento 1/3 falló al llamar a Ollama: ResponseError(\"you've reached your hourly usage limit, please upgrade to continue\")\n",
      "Intento 2/3 falló al llamar a Ollama: ResponseError(\"you've reached your hourly usage limit, please upgrade to continue\")\n",
      "Intento 3/3 falló al llamar a Ollama: ResponseError(\"you've reached your hourly usage limit, please upgrade to continue\")\n",
      "Se agotaron los reintentos. Devolviendo dict vacío.\n"
     ]
    },
    {
     "name": "stdout",
     "output_type": "stream",
     "text": [
      "📖 El índice general está en la página 3\n"
     ]
    },
    {
     "name": "stderr",
     "output_type": "stream",
     "text": [
      "Intento 1/3 falló al llamar a Ollama: ResponseError(\"you've reached your hourly usage limit, please upgrade to continue\")\n",
      "Intento 2/3 falló al llamar a Ollama: ResponseError(\"you've reached your hourly usage limit, please upgrade to continue\")\n",
      "Intento 3/3 falló al llamar a Ollama: ResponseError(\"you've reached your hourly usage limit, please upgrade to continue\")\n",
      "Se agotaron los reintentos. Devolviendo dict vacío.\n"
     ]
    },
    {
     "name": "stdout",
     "output_type": "stream",
     "text": [
      "📖 El índice general está en la página 3\n"
     ]
    },
    {
     "name": "stderr",
     "output_type": "stream",
     "text": [
      "Intento 1/3 falló al llamar a Ollama: ResponseError(\"you've reached your hourly usage limit, please upgrade to continue\")\n",
      "Intento 2/3 falló al llamar a Ollama: ResponseError(\"you've reached your hourly usage limit, please upgrade to continue\")\n",
      "Intento 3/3 falló al llamar a Ollama: ResponseError(\"you've reached your hourly usage limit, please upgrade to continue\")\n",
      "Se agotaron los reintentos. Devolviendo dict vacío.\n"
     ]
    },
    {
     "name": "stdout",
     "output_type": "stream",
     "text": [
      "📖 El índice general está en la página 3\n"
     ]
    },
    {
     "name": "stderr",
     "output_type": "stream",
     "text": [
      "Intento 1/3 falló al llamar a Ollama: ResponseError(\"you've reached your hourly usage limit, please upgrade to continue\")\n",
      "Intento 2/3 falló al llamar a Ollama: ResponseError(\"you've reached your hourly usage limit, please upgrade to continue\")\n",
      "Intento 3/3 falló al llamar a Ollama: ResponseError(\"you've reached your hourly usage limit, please upgrade to continue\")\n",
      "Se agotaron los reintentos. Devolviendo dict vacío.\n"
     ]
    },
    {
     "name": "stdout",
     "output_type": "stream",
     "text": [
      "📖 El índice general está en la página 3\n"
     ]
    },
    {
     "name": "stderr",
     "output_type": "stream",
     "text": [
      "Intento 1/3 falló al llamar a Ollama: ResponseError(\"you've reached your hourly usage limit, please upgrade to continue\")\n",
      "Intento 2/3 falló al llamar a Ollama: ResponseError(\"you've reached your hourly usage limit, please upgrade to continue\")\n",
      "Intento 3/3 falló al llamar a Ollama: ResponseError(\"you've reached your hourly usage limit, please upgrade to continue\")\n",
      "Se agotaron los reintentos. Devolviendo dict vacío.\n"
     ]
    },
    {
     "name": "stdout",
     "output_type": "stream",
     "text": [
      "📖 El índice general está en la página 3\n"
     ]
    },
    {
     "name": "stderr",
     "output_type": "stream",
     "text": [
      "Intento 1/3 falló al llamar a Ollama: ResponseError(\"you've reached your hourly usage limit, please upgrade to continue\")\n",
      "Intento 2/3 falló al llamar a Ollama: ResponseError(\"you've reached your hourly usage limit, please upgrade to continue\")\n",
      "Intento 3/3 falló al llamar a Ollama: ResponseError(\"you've reached your hourly usage limit, please upgrade to continue\")\n",
      "Se agotaron los reintentos. Devolviendo dict vacío.\n"
     ]
    },
    {
     "name": "stdout",
     "output_type": "stream",
     "text": [
      "📖 El índice general está en la página 3\n"
     ]
    },
    {
     "name": "stderr",
     "output_type": "stream",
     "text": [
      "Intento 1/3 falló al llamar a Ollama: ResponseError(\"you've reached your hourly usage limit, please upgrade to continue\")\n",
      "Intento 2/3 falló al llamar a Ollama: ResponseError(\"you've reached your hourly usage limit, please upgrade to continue\")\n",
      "Intento 3/3 falló al llamar a Ollama: ResponseError(\"you've reached your hourly usage limit, please upgrade to continue\")\n",
      "Se agotaron los reintentos. Devolviendo dict vacío.\n"
     ]
    },
    {
     "name": "stdout",
     "output_type": "stream",
     "text": [
      "📖 El índice general está en la página 3\n"
     ]
    },
    {
     "name": "stderr",
     "output_type": "stream",
     "text": [
      "Intento 1/3 falló al llamar a Ollama: ResponseError(\"you've reached your hourly usage limit, please upgrade to continue\")\n",
      "Intento 2/3 falló al llamar a Ollama: ResponseError(\"you've reached your hourly usage limit, please upgrade to continue\")\n",
      "Intento 3/3 falló al llamar a Ollama: ResponseError(\"you've reached your hourly usage limit, please upgrade to continue\")\n",
      "Se agotaron los reintentos. Devolviendo dict vacío.\n"
     ]
    },
    {
     "name": "stdout",
     "output_type": "stream",
     "text": [
      "📖 El índice general está en la página 3\n"
     ]
    },
    {
     "name": "stderr",
     "output_type": "stream",
     "text": [
      "Intento 1/3 falló al llamar a Ollama: ResponseError(\"you've reached your hourly usage limit, please upgrade to continue\")\n",
      "Intento 2/3 falló al llamar a Ollama: ResponseError(\"you've reached your hourly usage limit, please upgrade to continue\")\n",
      "Intento 3/3 falló al llamar a Ollama: ResponseError(\"you've reached your hourly usage limit, please upgrade to continue\")\n",
      "Se agotaron los reintentos. Devolviendo dict vacío.\n"
     ]
    },
    {
     "name": "stdout",
     "output_type": "stream",
     "text": [
      "📖 El índice general está en la página 3\n"
     ]
    },
    {
     "name": "stderr",
     "output_type": "stream",
     "text": [
      "Intento 1/3 falló al llamar a Ollama: ResponseError(\"you've reached your hourly usage limit, please upgrade to continue\")\n",
      "Intento 2/3 falló al llamar a Ollama: ResponseError(\"you've reached your hourly usage limit, please upgrade to continue\")\n",
      "Intento 3/3 falló al llamar a Ollama: ResponseError(\"you've reached your hourly usage limit, please upgrade to continue\")\n",
      "Se agotaron los reintentos. Devolviendo dict vacío.\n"
     ]
    },
    {
     "name": "stdout",
     "output_type": "stream",
     "text": [
      "📖 El índice general está en la página 3\n"
     ]
    },
    {
     "name": "stderr",
     "output_type": "stream",
     "text": [
      "Intento 1/3 falló al llamar a Ollama: ResponseError(\"you've reached your hourly usage limit, please upgrade to continue\")\n",
      "Intento 2/3 falló al llamar a Ollama: ResponseError(\"you've reached your hourly usage limit, please upgrade to continue\")\n",
      "Intento 3/3 falló al llamar a Ollama: ResponseError(\"you've reached your hourly usage limit, please upgrade to continue\")\n",
      "Se agotaron los reintentos. Devolviendo dict vacío.\n"
     ]
    },
    {
     "name": "stdout",
     "output_type": "stream",
     "text": [
      "📖 El índice general está en la página 3\n"
     ]
    },
    {
     "name": "stderr",
     "output_type": "stream",
     "text": [
      "Intento 1/3 falló al llamar a Ollama: ResponseError(\"you've reached your hourly usage limit, please upgrade to continue\")\n",
      "Intento 2/3 falló al llamar a Ollama: ResponseError(\"you've reached your hourly usage limit, please upgrade to continue\")\n",
      "Intento 3/3 falló al llamar a Ollama: ResponseError(\"you've reached your hourly usage limit, please upgrade to continue\")\n",
      "Se agotaron los reintentos. Devolviendo dict vacío.\n"
     ]
    },
    {
     "name": "stdout",
     "output_type": "stream",
     "text": [
      "📖 El índice general está en la página 3\n"
     ]
    },
    {
     "name": "stderr",
     "output_type": "stream",
     "text": [
      "Intento 1/3 falló al llamar a Ollama: ResponseError(\"you've reached your hourly usage limit, please upgrade to continue\")\n",
      "Intento 2/3 falló al llamar a Ollama: ResponseError(\"you've reached your hourly usage limit, please upgrade to continue\")\n",
      "Intento 3/3 falló al llamar a Ollama: ResponseError(\"you've reached your hourly usage limit, please upgrade to continue\")\n",
      "Se agotaron los reintentos. Devolviendo dict vacío.\n"
     ]
    }
   ],
   "source": [
    "indices = list()\n",
    "\n",
    "for pdf in pdfs:\n",
    "    pdf1 = PdfReader(pdf)\n",
    "    indice_page_num = None\n",
    "    for i, page in enumerate(pdf1.pages, start=1):\n",
    "        texto = page.extract_text()\n",
    "        if es_indice(texto):\n",
    "            indice_page_num = i\n",
    "            print(f\"📖 El índice general está en la página {indice_page_num}\")\n",
    "            break\n",
    "    texto = page.extract_text()\n",
    "    indices.append((pdf, extraer_paginas(texto)))"
   ]
  },
  {
   "cell_type": "code",
   "execution_count": 64,
   "id": "3d8a467d",
   "metadata": {},
   "outputs": [],
   "source": [
    "import csv\n",
    "\n",
    "with open(\"indice.csv\", \"w\", newline=\"\", encoding=\"utf-8\") as f:\n",
    "    writer = csv.writer(f)\n",
    "    writer.writerow([\"Título\", \"Página\"])  # encabezado\n",
    "    writer.writerows(indices)"
   ]
  },
  {
   "cell_type": "code",
   "execution_count": 16,
   "id": "98956538",
   "metadata": {},
   "outputs": [],
   "source": [
    "import pandas as pd\n",
    "\n",
    "df = pd.read_csv(\"indice.csv\", header=None)  # sin encabezado"
   ]
  },
  {
   "cell_type": "code",
   "execution_count": 22,
   "id": "8bd4f887",
   "metadata": {},
   "outputs": [
    {
     "name": "stdout",
     "output_type": "stream",
     "text": [
      "📖 El índice general está en la página 3\n",
      "📖 El índice general está en la página 3\n",
      "📖 El índice general está en la página 3\n",
      "📖 El índice general está en la página 3\n",
      "📖 El índice general está en la página 3\n",
      "📖 El índice general está en la página 3\n",
      "📖 El índice general está en la página 3\n",
      "📖 El índice general está en la página 3\n",
      "📖 El índice general está en la página 3\n",
      "📖 El índice general está en la página 3\n"
     ]
    },
    {
     "name": "stderr",
     "output_type": "stream",
     "text": [
      "Intento 1/3 falló al llamar a Ollama: ResponseError('upstream error')\n"
     ]
    },
    {
     "name": "stdout",
     "output_type": "stream",
     "text": [
      "📖 El índice general está en la página 3\n",
      "📖 El índice general está en la página 3\n",
      "📖 El índice general está en la página 3\n",
      "📖 El índice general está en la página 3\n",
      "📖 El índice general está en la página 3\n",
      "📖 El índice general está en la página 3\n"
     ]
    },
    {
     "name": "stderr",
     "output_type": "stream",
     "text": [
      "Intento 1/3 falló al llamar a Ollama: ResponseError('upstream error')\n"
     ]
    },
    {
     "name": "stdout",
     "output_type": "stream",
     "text": [
      "📖 El índice general está en la página 3\n",
      "📖 El índice general está en la página 3\n",
      "📖 El índice general está en la página 3\n"
     ]
    },
    {
     "name": "stderr",
     "output_type": "stream",
     "text": [
      "Intento 1/3 falló al llamar a Ollama: ResponseError('upstream error')\n"
     ]
    },
    {
     "name": "stdout",
     "output_type": "stream",
     "text": [
      "📖 El índice general está en la página 3\n",
      "📖 El índice general está en la página 3\n"
     ]
    },
    {
     "name": "stderr",
     "output_type": "stream",
     "text": [
      "Intento 1/3 falló al llamar a Ollama: ResponseError('upstream error')\n"
     ]
    },
    {
     "name": "stdout",
     "output_type": "stream",
     "text": [
      "📖 El índice general está en la página 3\n",
      "📖 El índice general está en la página 3\n",
      "📖 El índice general está en la página 3\n"
     ]
    },
    {
     "name": "stderr",
     "output_type": "stream",
     "text": [
      "Intento 1/3 falló al llamar a Ollama: ResponseError('upstream error')\n"
     ]
    },
    {
     "name": "stdout",
     "output_type": "stream",
     "text": [
      "📖 El índice general está en la página 3\n",
      "📖 El índice general está en la página 3\n",
      "📖 El índice general está en la página 3\n"
     ]
    },
    {
     "name": "stderr",
     "output_type": "stream",
     "text": [
      "Intento 1/3 falló al llamar a Ollama: ResponseError('upstream error')\n"
     ]
    },
    {
     "name": "stdout",
     "output_type": "stream",
     "text": [
      "📖 El índice general está en la página 3\n",
      "📖 El índice general está en la página 3\n",
      "📖 El índice general está en la página 3\n"
     ]
    },
    {
     "name": "stderr",
     "output_type": "stream",
     "text": [
      "Intento 1/3 falló al llamar a Ollama: ResponseError('upstream error')\n"
     ]
    },
    {
     "name": "stdout",
     "output_type": "stream",
     "text": [
      "📖 El índice general está en la página 3\n",
      "📖 El índice general está en la página 3\n",
      "📖 El índice general está en la página 3\n"
     ]
    },
    {
     "name": "stderr",
     "output_type": "stream",
     "text": [
      "Intento 1/3 falló al llamar a Ollama: ResponseError('upstream error')\n"
     ]
    },
    {
     "name": "stdout",
     "output_type": "stream",
     "text": [
      "📖 El índice general está en la página 3\n",
      "📖 El índice general está en la página 3\n",
      "📖 El índice general está en la página 3\n",
      "📖 El índice general está en la página 3\n",
      "📖 El índice general está en la página 3\n",
      "📖 El índice general está en la página 3\n"
     ]
    },
    {
     "name": "stderr",
     "output_type": "stream",
     "text": [
      "Intento 1/3 falló al llamar a Ollama: ResponseError('upstream error')\n"
     ]
    },
    {
     "name": "stdout",
     "output_type": "stream",
     "text": [
      "📖 El índice general está en la página 3\n",
      "📖 El índice general está en la página 3\n",
      "📖 El índice general está en la página 3\n"
     ]
    },
    {
     "name": "stderr",
     "output_type": "stream",
     "text": [
      "Intento 1/3 falló al llamar a Ollama: ResponseError('upstream error')\n"
     ]
    },
    {
     "name": "stdout",
     "output_type": "stream",
     "text": [
      "📖 El índice general está en la página 3\n",
      "📖 El índice general está en la página 3\n",
      "📖 El índice general está en la página 3\n"
     ]
    },
    {
     "name": "stderr",
     "output_type": "stream",
     "text": [
      "Intento 1/3 falló al llamar a Ollama: ResponseError('upstream error')\n"
     ]
    },
    {
     "name": "stdout",
     "output_type": "stream",
     "text": [
      "📖 El índice general está en la página 3\n",
      "📖 El índice general está en la página 3\n",
      "📖 El índice general está en la página 3\n",
      "📖 El índice general está en la página 3\n",
      "📖 El índice general está en la página 3\n"
     ]
    },
    {
     "name": "stderr",
     "output_type": "stream",
     "text": [
      "Intento 1/3 falló al llamar a Ollama: ResponseError('upstream error')\n"
     ]
    },
    {
     "name": "stdout",
     "output_type": "stream",
     "text": [
      "📖 El índice general está en la página 3\n",
      "📖 El índice general está en la página 3\n",
      "📖 El índice general está en la página 3\n",
      "📖 El índice general está en la página 3\n",
      "📖 El índice general está en la página 3\n",
      "📖 El índice general está en la página 3\n",
      "📖 El índice general está en la página 3\n",
      "📖 El índice general está en la página 3\n",
      "📖 El índice general está en la página 3\n",
      "📖 El índice general está en la página 3\n",
      "📖 El índice general está en la página 3\n",
      "📖 El índice general está en la página 3\n"
     ]
    },
    {
     "name": "stderr",
     "output_type": "stream",
     "text": [
      "Intento 1/3 falló al llamar a Ollama: ResponseError('upstream error')\n"
     ]
    },
    {
     "name": "stdout",
     "output_type": "stream",
     "text": [
      "📖 El índice general está en la página 3\n",
      "📖 El índice general está en la página 3\n",
      "📖 El índice general está en la página 3\n"
     ]
    },
    {
     "name": "stderr",
     "output_type": "stream",
     "text": [
      "Intento 1/3 falló al llamar a Ollama: ResponseError('upstream error')\n"
     ]
    },
    {
     "name": "stdout",
     "output_type": "stream",
     "text": [
      "📖 El índice general está en la página 3\n",
      "📖 El índice general está en la página 3\n",
      "📖 El índice general está en la página 3\n",
      "📖 El índice general está en la página 3\n",
      "📖 El índice general está en la página 3\n"
     ]
    },
    {
     "name": "stderr",
     "output_type": "stream",
     "text": [
      "Intento 1/3 falló al llamar a Ollama: ResponseError('upstream error')\n"
     ]
    },
    {
     "name": "stdout",
     "output_type": "stream",
     "text": [
      "📖 El índice general está en la página 3\n",
      "📖 El índice general está en la página 3\n",
      "📖 El índice general está en la página 3\n",
      "📖 El índice general está en la página 3\n",
      "📖 El índice general está en la página 3\n",
      "📖 El índice general está en la página 3\n",
      "📖 El índice general está en la página 3\n",
      "📖 El índice general está en la página 3\n",
      "📖 El índice general está en la página 3\n",
      "📖 El índice general está en la página 3\n",
      "📖 El índice general está en la página 3\n"
     ]
    },
    {
     "name": "stderr",
     "output_type": "stream",
     "text": [
      "Intento 1/3 falló al llamar a Ollama: ResponseError('upstream error')\n"
     ]
    },
    {
     "name": "stdout",
     "output_type": "stream",
     "text": [
      "📖 El índice general está en la página 3\n",
      "📖 El índice general está en la página 3\n",
      "📖 El índice general está en la página 3\n",
      "📖 El índice general está en la página 3\n",
      "📖 El índice general está en la página 3\n",
      "📖 El índice general está en la página 3\n",
      "📖 El índice general está en la página 3\n",
      "📖 El índice general está en la página 3\n",
      "📖 El índice general está en la página 3\n",
      "📖 El índice general está en la página 3\n",
      "📖 El índice general está en la página 3\n",
      "📖 El índice general está en la página 3\n",
      "📖 El índice general está en la página 3\n",
      "📖 El índice general está en la página 3\n",
      "📖 El índice general está en la página 3\n",
      "📖 El índice general está en la página 3\n",
      "📖 El índice general está en la página 3\n",
      "📖 El índice general está en la página 3\n",
      "📖 El índice general está en la página 3\n",
      "📖 El índice general está en la página 3\n",
      "📖 El índice general está en la página 3\n",
      "📖 El índice general está en la página 3\n",
      "📖 El índice general está en la página 3\n",
      "📖 El índice general está en la página 3\n",
      "📖 El índice general está en la página 3\n",
      "📖 El índice general está en la página 3\n",
      "📖 El índice general está en la página 3\n",
      "📖 El índice general está en la página 3\n",
      "📖 El índice general está en la página 3\n",
      "📖 El índice general está en la página 3\n",
      "📖 El índice general está en la página 3\n",
      "📖 El índice general está en la página 3\n",
      "📖 El índice general está en la página 3\n",
      "📖 El índice general está en la página 3\n",
      "📖 El índice general está en la página 3\n",
      "📖 El índice general está en la página 3\n",
      "📖 El índice general está en la página 3\n",
      "📖 El índice general está en la página 3\n",
      "📖 El índice general está en la página 3\n",
      "📖 El índice general está en la página 3\n",
      "📖 El índice general está en la página 3\n",
      "📖 El índice general está en la página 3\n",
      "📖 El índice general está en la página 3\n",
      "📖 El índice general está en la página 3\n",
      "📖 El índice general está en la página 3\n",
      "📖 El índice general está en la página 3\n",
      "📖 El índice general está en la página 3\n",
      "📖 El índice general está en la página 3\n",
      "📖 El índice general está en la página 3\n",
      "📖 El índice general está en la página 3\n",
      "📖 El índice general está en la página 3\n",
      "📖 El índice general está en la página 3\n",
      "📖 El índice general está en la página 3\n",
      "📖 El índice general está en la página 3\n",
      "📖 El índice general está en la página 3\n",
      "📖 El índice general está en la página 3\n"
     ]
    }
   ],
   "source": [
    "for _, row in df[1:].iterrows():\n",
    "    pdf = PdfReader(row[0])\n",
    "    if row[1] == '{}':\n",
    "        for i, page in enumerate(pdf.pages, start=1):\n",
    "            texto = page.extract_text()\n",
    "            if es_indice(texto):\n",
    "                indice_page_num = i\n",
    "                print(f\"📖 El índice general está en la página {indice_page_num}\")\n",
    "                break\n",
    "            texto = page.extract_text()\n",
    "            row[1] = extraer_paginas(texto)"
   ]
  },
  {
   "cell_type": "code",
   "execution_count": 26,
   "id": "c5dc782a",
   "metadata": {},
   "outputs": [
    {
     "data": {
      "text/html": [
       "<div>\n",
       "<style scoped>\n",
       "    .dataframe tbody tr th:only-of-type {\n",
       "        vertical-align: middle;\n",
       "    }\n",
       "\n",
       "    .dataframe tbody tr th {\n",
       "        vertical-align: top;\n",
       "    }\n",
       "\n",
       "    .dataframe thead th {\n",
       "        text-align: right;\n",
       "    }\n",
       "</style>\n",
       "<table border=\"1\" class=\"dataframe\">\n",
       "  <thead>\n",
       "    <tr style=\"text-align: right;\">\n",
       "      <th></th>\n",
       "      <th>0</th>\n",
       "      <th>1</th>\n",
       "    </tr>\n",
       "  </thead>\n",
       "  <tbody>\n",
       "    <tr>\n",
       "      <th>0</th>\n",
       "      <td>Título</td>\n",
       "      <td>Página</td>\n",
       "    </tr>\n",
       "    <tr>\n",
       "      <th>1</th>\n",
       "      <td>C:\\Users\\angel\\OneDrive\\Documents\\U\\2025-2\\Pro...</td>\n",
       "      <td>{'ASISTENCIA': \"{'página': '4'}\", 'INSTALACIÓN...</td>\n",
       "    </tr>\n",
       "    <tr>\n",
       "      <th>2</th>\n",
       "      <td>C:\\Users\\angel\\OneDrive\\Documents\\U\\2025-2\\Pro...</td>\n",
       "      <td>{'ASISTENCIA': \"{'página': '12'}\", 'APERTURA D...</td>\n",
       "    </tr>\n",
       "    <tr>\n",
       "      <th>3</th>\n",
       "      <td>C:\\Users\\angel\\OneDrive\\Documents\\U\\2025-2\\Pro...</td>\n",
       "      <td>{'ASISTENCIA': \"{'página': '67'}\", 'APERTURA D...</td>\n",
       "    </tr>\n",
       "    <tr>\n",
       "      <th>4</th>\n",
       "      <td>C:\\Users\\angel\\OneDrive\\Documents\\U\\2025-2\\Pro...</td>\n",
       "      <td>{'ASISTENCIA': \"{'página': '122'}\", 'APERTURA ...</td>\n",
       "    </tr>\n",
       "    <tr>\n",
       "      <th>...</th>\n",
       "      <td>...</td>\n",
       "      <td>...</td>\n",
       "    </tr>\n",
       "    <tr>\n",
       "      <th>235</th>\n",
       "      <td>C:\\Users\\angel\\OneDrive\\Documents\\U\\2025-2\\Pro...</td>\n",
       "      <td>{'I.- ASISTENCIA': '{'página': '2'}', 'II.- AP...</td>\n",
       "    </tr>\n",
       "    <tr>\n",
       "      <th>236</th>\n",
       "      <td>C:\\Users\\angel\\OneDrive\\Documents\\U\\2025-2\\Pro...</td>\n",
       "      <td>{'ASISTENCIA': '{'página': ''}', 'APERTURA DE ...</td>\n",
       "    </tr>\n",
       "    <tr>\n",
       "      <th>237</th>\n",
       "      <td>C:\\Users\\angel\\OneDrive\\Documents\\U\\2025-2\\Pro...</td>\n",
       "      <td>{'ASISTENCIA': '{'página': '2'}', 'APERTURA DE...</td>\n",
       "    </tr>\n",
       "    <tr>\n",
       "      <th>238</th>\n",
       "      <td>C:\\Users\\angel\\OneDrive\\Documents\\U\\2025-2\\Pro...</td>\n",
       "      <td>{'ASISTENCIA': '{'página': None}', 'APERTURA D...</td>\n",
       "    </tr>\n",
       "    <tr>\n",
       "      <th>239</th>\n",
       "      <td>C:\\Users\\angel\\OneDrive\\Documents\\U\\2025-2\\Pro...</td>\n",
       "      <td>{'ASISTENCIA': '{'página': '2'}', 'APERTURA DE...</td>\n",
       "    </tr>\n",
       "  </tbody>\n",
       "</table>\n",
       "<p>240 rows × 2 columns</p>\n",
       "</div>"
      ],
      "text/plain": [
       "                                                     0  \\\n",
       "0                                               Título   \n",
       "1    C:\\Users\\angel\\OneDrive\\Documents\\U\\2025-2\\Pro...   \n",
       "2    C:\\Users\\angel\\OneDrive\\Documents\\U\\2025-2\\Pro...   \n",
       "3    C:\\Users\\angel\\OneDrive\\Documents\\U\\2025-2\\Pro...   \n",
       "4    C:\\Users\\angel\\OneDrive\\Documents\\U\\2025-2\\Pro...   \n",
       "..                                                 ...   \n",
       "235  C:\\Users\\angel\\OneDrive\\Documents\\U\\2025-2\\Pro...   \n",
       "236  C:\\Users\\angel\\OneDrive\\Documents\\U\\2025-2\\Pro...   \n",
       "237  C:\\Users\\angel\\OneDrive\\Documents\\U\\2025-2\\Pro...   \n",
       "238  C:\\Users\\angel\\OneDrive\\Documents\\U\\2025-2\\Pro...   \n",
       "239  C:\\Users\\angel\\OneDrive\\Documents\\U\\2025-2\\Pro...   \n",
       "\n",
       "                                                     1  \n",
       "0                                               Página  \n",
       "1    {'ASISTENCIA': \"{'página': '4'}\", 'INSTALACIÓN...  \n",
       "2    {'ASISTENCIA': \"{'página': '12'}\", 'APERTURA D...  \n",
       "3    {'ASISTENCIA': \"{'página': '67'}\", 'APERTURA D...  \n",
       "4    {'ASISTENCIA': \"{'página': '122'}\", 'APERTURA ...  \n",
       "..                                                 ...  \n",
       "235  {'I.- ASISTENCIA': '{'página': '2'}', 'II.- AP...  \n",
       "236  {'ASISTENCIA': '{'página': ''}', 'APERTURA DE ...  \n",
       "237  {'ASISTENCIA': '{'página': '2'}', 'APERTURA DE...  \n",
       "238  {'ASISTENCIA': '{'página': None}', 'APERTURA D...  \n",
       "239  {'ASISTENCIA': '{'página': '2'}', 'APERTURA DE...  \n",
       "\n",
       "[240 rows x 2 columns]"
      ]
     },
     "execution_count": 26,
     "metadata": {},
     "output_type": "execute_result"
    }
   ],
   "source": [
    "df"
   ]
  },
  {
   "cell_type": "code",
   "execution_count": 27,
   "id": "c4af98ee",
   "metadata": {},
   "outputs": [],
   "source": [
    "df.to_csv('indice.csv')"
   ]
  },
  {
   "cell_type": "code",
   "execution_count": null,
   "id": "3bf4d10b",
   "metadata": {},
   "outputs": [],
   "source": []
  }
 ],
 "metadata": {
  "kernelspec": {
   "display_name": "Python 3 (ipykernel)",
   "language": "python",
   "name": "python3"
  },
  "language_info": {
   "codemirror_mode": {
    "name": "ipython",
    "version": 3
   },
   "file_extension": ".py",
   "mimetype": "text/x-python",
   "name": "python",
   "nbconvert_exporter": "python",
   "pygments_lexer": "ipython3",
   "version": "3.11.5"
  }
 },
 "nbformat": 4,
 "nbformat_minor": 5
}
