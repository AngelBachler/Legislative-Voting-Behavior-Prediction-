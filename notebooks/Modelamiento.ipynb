{
 "cells": [
  {
   "cell_type": "code",
   "execution_count": 1,
   "id": "f4c09ca8-012e-453f-99af-015bd9371ea5",
   "metadata": {},
   "outputs": [],
   "source": [
    "import pandas as pd\n",
    "import matplotlib.pyplot as plt\n",
    "from pathlib import Path"
   ]
  },
  {
   "cell_type": "code",
   "execution_count": 2,
   "id": "c561303e-052f-4ecf-a6b4-8a4ad6cdfdfb",
   "metadata": {},
   "outputs": [],
   "source": [
    "# Si es notebook, mejor usar:\n",
    "BASE_DIR = Path.cwd()\n",
    "\n",
    "# Ir un nivel arriba (de notebooks → raíz del repo)\n",
    "ROOT = BASE_DIR.parent\n",
    "\n",
    "# Carpeta data dentro del repo\n",
    "DATA_DIR = ROOT / \"data\" / \"2022-2026\"\n",
    "DATA_DIR.mkdir(exist_ok=True)"
   ]
  },
  {
   "cell_type": "code",
   "execution_count": null,
   "id": "da3c062b-e4cb-41a6-afda-f725a5bd2f65",
   "metadata": {},
   "outputs": [],
   "source": [
    "df = pd.read_csv(DATA_DIR / 'detalle_bio.csv')"
   ]
  },
  {
   "cell_type": "code",
   "execution_count": null,
   "id": "b7b93db8-1765-4a12-81c0-cdd5900ec64f",
   "metadata": {},
   "outputs": [],
   "source": [
    "df.head()"
   ]
  },
  {
   "cell_type": "code",
   "execution_count": null,
   "id": "68ca326b-29ec-4b3e-adf4-8c98f52cf788",
   "metadata": {},
   "outputs": [],
   "source": []
  }
 ],
 "metadata": {
  "kernelspec": {
   "display_name": "Python 3 (ipykernel)",
   "language": "python",
   "name": "python3"
  },
  "language_info": {
   "codemirror_mode": {
    "name": "ipython",
    "version": 3
   },
   "file_extension": ".py",
   "mimetype": "text/x-python",
   "name": "python",
   "nbconvert_exporter": "python",
   "pygments_lexer": "ipython3",
   "version": "3.11.5"
  }
 },
 "nbformat": 4,
 "nbformat_minor": 5
}
