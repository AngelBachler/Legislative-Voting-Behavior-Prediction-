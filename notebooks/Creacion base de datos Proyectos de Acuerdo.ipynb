{
 "cells": [
  {
   "cell_type": "code",
   "execution_count": 2,
   "id": "5167df4d",
   "metadata": {},
   "outputs": [],
   "source": [
    "import requests, xmltodict, pandas as pd\n",
    "from pandas import json_normalize\n",
    "from zeep import Client, helpers\n",
    "from datetime import datetime\n",
    "import ast"
   ]
  },
  {
   "cell_type": "code",
   "execution_count": 9,
   "id": "dc48f6b2",
   "metadata": {},
   "outputs": [
    {
     "name": "stdout",
     "output_type": "stream",
     "text": [
      "retornarProyectosAcuerdoXAnno(prmAnno)\n",
      "retornarProyectoAcuerdo(prmProyectoAcuerdoId)\n",
      "retornarProyectosAcuerdoXAnno(prmAnno)\n",
      "retornarProyectoAcuerdo(prmProyectoAcuerdoId)\n",
      "retornarProyectosAcuerdoXAnno(prmAnno)\n",
      "retornarProyectoAcuerdo(prmProyectoAcuerdoId)\n",
      "retornarProyectosAcuerdoXAnno(prmAnno)\n",
      "retornarProyectoAcuerdo(prmProyectoAcuerdoId)\n"
     ]
    }
   ],
   "source": [
    "def listar_ops(wsdl_url):\n",
    "    c = Client(wsdl=wsdl_url)\n",
    "    for svc in c.wsdl.services.values():\n",
    "        for port in svc.ports.values():\n",
    "            binding = port.binding\n",
    "            for name, op in binding._operations.items():\n",
    "                # Nombre de la operación\n",
    "                args = []\n",
    "                if op.input and op.input.body and op.input.body.type:\n",
    "                    args = [elt[0] for elt in op.input.body.type.elements]  # nombres de parámetros\n",
    "                print(f\"{name}({', '.join(args)})\")\n",
    "\n",
    "\n",
    "listar_ops(\"https://opendata.camara.cl/camaradiputados/WServices/WSProyectosAcuerdo.asmx?WSDL\")"
   ]
  },
  {
   "cell_type": "code",
   "execution_count": 5,
   "id": "8986011e",
   "metadata": {},
   "outputs": [],
   "source": [
    "def safe_serialize(obj):\n",
    "    # tipos base\n",
    "    if obj is None or isinstance(obj, (str, int, float, bool)):\n",
    "        return obj\n",
    "    if isinstance(obj, list):\n",
    "        return [safe_serialize(x) for x in obj]\n",
    "    if isinstance(obj, dict):\n",
    "        return {k: safe_serialize(v) for k, v in obj.items()}\n",
    "\n",
    "    # intentar con zeep.helpers.serialize_object (si está disponible)\n",
    "    try:\n",
    "        from zeep.helpers import serialize_object\n",
    "        ser = serialize_object(obj)\n",
    "        if ser is not None:\n",
    "            return safe_serialize(ser)  # recursivo por si trae más objetos\n",
    "    except Exception:\n",
    "        pass\n",
    "\n",
    "    # objetos Zeep suelen tener __values__\n",
    "    vals = getattr(obj, \"__values__\", None)\n",
    "    if isinstance(vals, dict):\n",
    "        return {k: safe_serialize(v) for k, v in vals.items()}\n",
    "\n",
    "    # fallback genérico\n",
    "    try:\n",
    "        return {k: safe_serialize(v) for k, v in vars(obj).items()}\n",
    "    except Exception:\n",
    "        return obj"
   ]
  },
  {
   "cell_type": "code",
   "execution_count": 14,
   "id": "225e07f9",
   "metadata": {},
   "outputs": [],
   "source": [
    "def get_proyecto_year(year):\n",
    "    c = Client(\"https://opendata.camara.cl/camaradiputados/WServices/WSProyectosAcuerdo.asmx?WSDL\")\n",
    "    res = c.service.retornarProyectosAcuerdoXAnno(year)\n",
    "    if res:\n",
    "        d = safe_serialize(res) or {}\n",
    "        df = json_normalize(d)\n",
    "        return df"
   ]
  },
  {
   "cell_type": "code",
   "execution_count": 15,
   "id": "062bf835",
   "metadata": {},
   "outputs": [],
   "source": [
    "df_proyectos_year = pd.concat((get_proyecto_year(year) for year in range(1990, 2026)))"
   ]
  },
  {
   "cell_type": "code",
   "execution_count": 17,
   "id": "991b129a",
   "metadata": {},
   "outputs": [],
   "source": [
    "df_proyectos_year.to_csv(\"proyectos_year.csv\",  index=False, encoding=\"utf-8-sig\", date_format=\"%Y-%m-%d\")"
   ]
  },
  {
   "cell_type": "markdown",
   "id": "10b1b50f",
   "metadata": {},
   "source": [
    "### Proyecto de Acuerdo"
   ]
  },
  {
   "cell_type": "code",
   "execution_count": 22,
   "id": "3cf93ec1",
   "metadata": {},
   "outputs": [],
   "source": [
    "def get_proyecto(idx):\n",
    "    c = Client(\"https://opendata.camara.cl/camaradiputados/WServices/WSProyectosAcuerdo.asmx?WSDL\")\n",
    "    res = c.service.retornarProyectoAcuerdo(idx)\n",
    "    if res:\n",
    "        d = safe_serialize(res) or {}\n",
    "        del d[\"Autores\"]\n",
    "        del d[\"Periodo\"]\n",
    "        del d[\"OficiosEnviados\"]\n",
    "        del d[\"RespuestasRecibidas\"]\n",
    "        df = json_normalize(d)\n",
    "        return df"
   ]
  },
  {
   "cell_type": "code",
   "execution_count": 24,
   "id": "5b8c42be",
   "metadata": {},
   "outputs": [],
   "source": [
    "df_proyectos = pd.concat((get_proyecto(idx) for idx in df_proyectos_year[\"Id\"]))"
   ]
  },
  {
   "cell_type": "code",
   "execution_count": 27,
   "id": "ba2b5735",
   "metadata": {},
   "outputs": [],
   "source": [
    "df_proyectos.to_csv(\"proyectos.csv\", index=False, encoding=\"utf-8-sig\", date_format=\"%Y-%m-%d\")"
   ]
  },
  {
   "cell_type": "code",
   "execution_count": 45,
   "id": "c9604de1",
   "metadata": {},
   "outputs": [],
   "source": [
    "def get_autores(idx):\n",
    "    c = Client(\"https://opendata.camara.cl/camaradiputados/WServices/WSProyectosAcuerdo.asmx?WSDL\")\n",
    "    res = c.service.retornarProyectoAcuerdo(idx)\n",
    "    if res:\n",
    "        d = safe_serialize(res)\n",
    "        autores = safe_serialize(d[\"Autores\"][\"ParlamentarioAutor\"])\n",
    "        df = json_normalize(autores)\n",
    "        df[\"proyecto_id\"] = d[\"Id\"]\n",
    "        return df\n",
    "def get_oficios(idx):\n",
    "    c = Client(\"https://opendata.camara.cl/camaradiputados/WServices/WSProyectosAcuerdo.asmx?WSDL\")\n",
    "    res = c.service.retornarProyectoAcuerdo(idx)\n",
    "    if res:\n",
    "        d = safe_serialize(res)\n",
    "        if d[\"OficiosEnviados\"]:\n",
    "            oficio = safe_serialize(d[\"OficiosEnviados\"][\"Oficio\"])\n",
    "            df = json_normalize(oficio)\n",
    "            df[\"proyecto_id\"] = d[\"Id\"]\n",
    "            return df\n",
    "def get_respuestas(idx):\n",
    "    c = Client(\"https://opendata.camara.cl/camaradiputados/WServices/WSProyectosAcuerdo.asmx?WSDL\")\n",
    "    res = c.service.retornarProyectoAcuerdo(idx)\n",
    "    if res:\n",
    "        d = safe_serialize(res)\n",
    "        if d[\"RespuestasRecibidas\"]:\n",
    "            respuesta = safe_serialize(d[\"RespuestasRecibidas\"][\"Respuesta\"])  \n",
    "            df = json_normalize(respuesta)\n",
    "            df[\"proyecto_id\"] = d[\"Id\"]\n",
    "            return df"
   ]
  },
  {
   "cell_type": "code",
   "execution_count": 38,
   "id": "b49c4c74",
   "metadata": {},
   "outputs": [],
   "source": [
    "df_autores = pd.concat((get_autores(idx) for idx in df_proyectos_year[\"Id\"]))\n",
    "df_oficios = pd.concat((get_oficios(idx) for idx in df_proyectos_year[\"Id\"]))\n",
    "df_respuestas = pd.concat((get_respuestas(idx) for idx in df_proyectos_year[\"Id\"]))"
   ]
  },
  {
   "cell_type": "code",
   "execution_count": 50,
   "id": "49bdfe87",
   "metadata": {},
   "outputs": [],
   "source": [
    "df_oficios.to_csv(\"oficios_proyectos.csv\", index=False, encoding=\"utf-8-sig\", date_format=\"%Y-%m-%d\")\n",
    "df_respuestas.to_csv(\"respuestas_proyectos.csv\", index=False, encoding=\"utf-8-sig\", date_format=\"%Y-%m-%d\")\n",
    "df_autores.to_csv(\"autores_proyectos.csv\", index=False, encoding=\"utf-8-sig\", date_format=\"%Y-%m-%d\")"
   ]
  },
  {
   "cell_type": "code",
   "execution_count": null,
   "id": "6ba63755",
   "metadata": {},
   "outputs": [],
   "source": []
  }
 ],
 "metadata": {
  "kernelspec": {
   "display_name": "Python 3 (ipykernel)",
   "language": "python",
   "name": "python3"
  },
  "language_info": {
   "codemirror_mode": {
    "name": "ipython",
    "version": 3
   },
   "file_extension": ".py",
   "mimetype": "text/x-python",
   "name": "python",
   "nbconvert_exporter": "python",
   "pygments_lexer": "ipython3",
   "version": "3.11.5"
  }
 },
 "nbformat": 4,
 "nbformat_minor": 5
}
