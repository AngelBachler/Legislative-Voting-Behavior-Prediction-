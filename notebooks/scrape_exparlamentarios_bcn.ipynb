{
 "cells": [
  {
   "cell_type": "code",
   "execution_count": 31,
   "id": "0770783f",
   "metadata": {},
   "outputs": [],
   "source": [
    "import time\n",
    "import requests\n",
    "from pathlib import Path\n",
    "import pandas as pd\n",
    "from bs4 import BeautifulSoup\n",
    "from urllib.parse import urljoin"
   ]
  },
  {
   "cell_type": "code",
   "execution_count": 32,
   "id": "d1f7d49d",
   "metadata": {},
   "outputs": [],
   "source": [
    "# Si es notebook, mejor usar:\n",
    "BASE_DIR = Path.cwd()\n",
    "\n",
    "# Ir un nivel arriba (de notebooks → raíz del repo)\n",
    "ROOT = BASE_DIR.parent\n",
    "\n",
    "# Carpeta data dentro del repo\n",
    "DATA_DIR = ROOT / \"data\"\n",
    "\n",
    "BASE_URL = \"https://www.bcn.cl/historiapolitica/resenas_parlamentarias/index.html\"\n",
    "\n",
    "PARAMS_EX = {\n",
    "    \"categ\": \"por_periodo\",\n",
    "    \"periodo\": \"1990-2018\",\n",
    "}\n",
    "\n",
    "PARAMS_EJERCICIO = {\n",
    "    \"categ\": \"en_ejercicio\",\n",
    "    \"filtros\": \"1\",\n",
    "}\n",
    "HEADERS = {\n",
    "    \"User-Agent\": \"Mozilla/5.0\",\n",
    "}"
   ]
  },
  {
   "cell_type": "code",
   "execution_count": 33,
   "id": "b112c218",
   "metadata": {},
   "outputs": [],
   "source": [
    "def fetch_page(params: dict, pagina: int):\n",
    "    params = {**params, \"pagina\": str(pagina)}\n",
    "    r = requests.get(BASE_URL, params=params, headers=HEADERS, timeout=30)\n",
    "    r.raise_for_status()\n",
    "    return r.text, r.url\n",
    "\n",
    "\n",
    "def parse_cards(html: str, base_url: str):\n",
    "    soup = BeautifulSoup(html, \"html.parser\")\n",
    "    items = []\n",
    "    for li in soup.select(\"#contenedorResultados li\"):\n",
    "        a = li.find(\"a\", href=True)\n",
    "        if not a:\n",
    "            continue\n",
    "        url = urljoin(base_url, a[\"href\"])\n",
    "        nombre = a.get_text(strip=True)\n",
    "        items.append({\"nombre_en_lista\": nombre, \"url_wiki\": url})\n",
    "    return items\n",
    "\n",
    "\n",
    "def scrape_bcn_list(params: dict, pagina_inicial=1, pagina_final=50, sleep=1.0):\n",
    "    \"\"\"\n",
    "    Recorre todas las páginas para un conjunto de parámetros (periodo, categoría, etc.)\n",
    "    \"\"\"\n",
    "    rows = []\n",
    "    for p in range(pagina_inicial, pagina_final + 1):\n",
    "        html, resolved_url = fetch_page(params, p)\n",
    "        cards = parse_cards(html, resolved_url)\n",
    "        if not cards:\n",
    "            print(f\"Fin del listado en página {p}\")\n",
    "            break\n",
    "        for it in cards:\n",
    "            it[\"pagina\"] = p\n",
    "        rows.extend(cards)\n",
    "        print(f\"Página {p}: {len(cards)} registros\")\n",
    "        time.sleep(sleep)\n",
    "    return pd.DataFrame(rows)"
   ]
  },
  {
   "cell_type": "code",
   "execution_count": 34,
   "id": "9eda04a1",
   "metadata": {},
   "outputs": [
    {
     "name": "stdout",
     "output_type": "stream",
     "text": [
      "Página 1: 44 registros\n",
      "Página 2: 44 registros\n",
      "Página 3: 44 registros\n",
      "Página 4: 44 registros\n",
      "Página 5: 44 registros\n",
      "Página 6: 44 registros\n",
      "Página 7: 44 registros\n",
      "Página 8: 44 registros\n",
      "Página 9: 44 registros\n",
      "Página 10: 44 registros\n",
      "Página 11: 44 registros\n",
      "Página 12: 44 registros\n",
      "Página 13: 44 registros\n",
      "Página 14: 44 registros\n",
      "Página 15: 7 registros\n",
      "Fin del listado en página 16\n",
      "Página 1: 44 registros\n",
      "Página 2: 44 registros\n",
      "Página 3: 44 registros\n",
      "Página 4: 44 registros\n",
      "Página 5: 29 registros\n",
      "Fin del listado en página 6\n"
     ]
    }
   ],
   "source": [
    "df_ex = scrape_bcn_list(PARAMS_EX, pagina_inicial=1, pagina_final=20)\n",
    "df_activos = scrape_bcn_list(PARAMS_EJERCICIO, pagina_inicial=1, pagina_final=10)\n",
    "df_total = pd.concat([df_ex, df_activos], ignore_index=True).drop_duplicates(subset=[\"nombre_en_lista\"], keep=\"first\")"
   ]
  },
  {
   "cell_type": "code",
   "execution_count": 35,
   "id": "44e471ee",
   "metadata": {},
   "outputs": [],
   "source": [
    "df_total.to_csv(DATA_DIR / \"parlamentarios.csv\", index=False, encoding=\"utf-8-sig\")"
   ]
  },
  {
   "cell_type": "code",
   "execution_count": null,
   "id": "e3171886",
   "metadata": {},
   "outputs": [],
   "source": []
  }
 ],
 "metadata": {
  "kernelspec": {
   "display_name": "Python 3 (ipykernel)",
   "language": "python",
   "name": "python3"
  },
  "language_info": {
   "codemirror_mode": {
    "name": "ipython",
    "version": 3
   },
   "file_extension": ".py",
   "mimetype": "text/x-python",
   "name": "python",
   "nbconvert_exporter": "python",
   "pygments_lexer": "ipython3",
   "version": "3.11.5"
  }
 },
 "nbformat": 4,
 "nbformat_minor": 5
}
